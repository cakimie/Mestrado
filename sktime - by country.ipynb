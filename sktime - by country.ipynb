{
 "cells": [
  {
   "cell_type": "markdown",
   "metadata": {},
   "source": [
    "## weekdays_datasets"
   ]
  },
  {
   "cell_type": "code",
   "execution_count": 2,
   "metadata": {},
   "outputs": [
    {
     "name": "stdout",
     "output_type": "stream",
     "text": [
      "['/Users/carolina/Desktop/Mestrado', '/Library/Developer/CommandLineTools/Library/Frameworks/Python3.framework/Versions/3.9/lib/python39.zip', '/Library/Developer/CommandLineTools/Library/Frameworks/Python3.framework/Versions/3.9/lib/python3.9', '/Library/Developer/CommandLineTools/Library/Frameworks/Python3.framework/Versions/3.9/lib/python3.9/lib-dynload', '', '/Users/carolina/Desktop/Mestrado/.venv/lib/python3.9/site-packages', './MultiRocket']\n"
     ]
    }
   ],
   "source": [
    "import pandas as pd\n",
    "import numpy as np\n",
    "import sys\n",
    "import os\n",
    "\n",
    "# Allows importing modules defined inside the project directory:\n",
    "path = os.path.abspath(os.path.curdir)\n",
    "while len(path) > 1 and not path.endswith('Mestrado'):\n",
    "    path = os.path.abspath(os.path.join(path, '..'))\n",
    "if path not in sys.path:\n",
    "    sys.path.append(path)\n",
    "sys.path.append('./MultiRocket')\n",
    "print(sys.path)\n"
   ]
  },
  {
   "cell_type": "code",
   "execution_count": 3,
   "metadata": {},
   "outputs": [],
   "source": [
    "df = pd.read_csv('weekdays_datasets/df_timeseries.csv')"
   ]
  },
  {
   "cell_type": "markdown",
   "metadata": {},
   "source": [
    "Colunas CSV em weekdays_dataset.zip\n",
    "\n",
    "h00-h23: Faixa de popularidade (0-1) entre meia-noite e onze da noite\n",
    "\n",
    "country: 0 - Brasil, 1 - Estados Unidos\n",
    "\n",
    "city: 0 - Curitiba, 1 - Rio de Janeiro, 2 - São Paulo, 0 - Chicago, 1 - New York, 2 - San Francisco\n",
    "\n",
    "category: 0 - bakeries, 1 - bars, 2 - coffee, 3 - dance clubs, 4 - restaurants"
   ]
  },
  {
   "cell_type": "code",
   "execution_count": 4,
   "metadata": {},
   "outputs": [
    {
     "data": {
      "text/html": [
       "<div>\n",
       "<style scoped>\n",
       "    .dataframe tbody tr th:only-of-type {\n",
       "        vertical-align: middle;\n",
       "    }\n",
       "\n",
       "    .dataframe tbody tr th {\n",
       "        vertical-align: top;\n",
       "    }\n",
       "\n",
       "    .dataframe thead th {\n",
       "        text-align: right;\n",
       "    }\n",
       "</style>\n",
       "<table border=\"1\" class=\"dataframe\">\n",
       "  <thead>\n",
       "    <tr style=\"text-align: right;\">\n",
       "      <th></th>\n",
       "      <th>id</th>\n",
       "      <th>h00</th>\n",
       "      <th>h01</th>\n",
       "      <th>h02</th>\n",
       "      <th>h03</th>\n",
       "      <th>h04</th>\n",
       "      <th>h05</th>\n",
       "      <th>h06</th>\n",
       "      <th>h07</th>\n",
       "      <th>h08</th>\n",
       "      <th>...</th>\n",
       "      <th>h17</th>\n",
       "      <th>h18</th>\n",
       "      <th>h19</th>\n",
       "      <th>h20</th>\n",
       "      <th>h21</th>\n",
       "      <th>h22</th>\n",
       "      <th>h23</th>\n",
       "      <th>country</th>\n",
       "      <th>city</th>\n",
       "      <th>category</th>\n",
       "    </tr>\n",
       "  </thead>\n",
       "  <tbody>\n",
       "    <tr>\n",
       "      <th>0</th>\n",
       "      <td>0</td>\n",
       "      <td>0.000000</td>\n",
       "      <td>0.000000</td>\n",
       "      <td>0.0</td>\n",
       "      <td>0.0</td>\n",
       "      <td>0.0</td>\n",
       "      <td>0.0</td>\n",
       "      <td>0.000000</td>\n",
       "      <td>0.000000</td>\n",
       "      <td>0.000000</td>\n",
       "      <td>...</td>\n",
       "      <td>0.347754</td>\n",
       "      <td>0.522437</td>\n",
       "      <td>0.940441</td>\n",
       "      <td>0.823425</td>\n",
       "      <td>0.000000</td>\n",
       "      <td>0.000000</td>\n",
       "      <td>0.000000</td>\n",
       "      <td>0.0</td>\n",
       "      <td>0.0</td>\n",
       "      <td>0.0</td>\n",
       "    </tr>\n",
       "    <tr>\n",
       "      <th>1</th>\n",
       "      <td>1</td>\n",
       "      <td>0.000000</td>\n",
       "      <td>0.000000</td>\n",
       "      <td>0.0</td>\n",
       "      <td>0.0</td>\n",
       "      <td>0.0</td>\n",
       "      <td>0.0</td>\n",
       "      <td>0.000000</td>\n",
       "      <td>0.000000</td>\n",
       "      <td>0.000000</td>\n",
       "      <td>...</td>\n",
       "      <td>0.320058</td>\n",
       "      <td>0.212006</td>\n",
       "      <td>0.212006</td>\n",
       "      <td>0.212006</td>\n",
       "      <td>0.000000</td>\n",
       "      <td>0.000000</td>\n",
       "      <td>0.000000</td>\n",
       "      <td>0.0</td>\n",
       "      <td>0.0</td>\n",
       "      <td>0.0</td>\n",
       "    </tr>\n",
       "    <tr>\n",
       "      <th>2</th>\n",
       "      <td>2</td>\n",
       "      <td>0.000000</td>\n",
       "      <td>0.000000</td>\n",
       "      <td>0.0</td>\n",
       "      <td>0.0</td>\n",
       "      <td>0.0</td>\n",
       "      <td>0.0</td>\n",
       "      <td>0.000000</td>\n",
       "      <td>0.000000</td>\n",
       "      <td>0.000000</td>\n",
       "      <td>...</td>\n",
       "      <td>0.805263</td>\n",
       "      <td>0.483633</td>\n",
       "      <td>0.000000</td>\n",
       "      <td>0.000000</td>\n",
       "      <td>0.000000</td>\n",
       "      <td>0.000000</td>\n",
       "      <td>0.000000</td>\n",
       "      <td>0.0</td>\n",
       "      <td>0.0</td>\n",
       "      <td>0.0</td>\n",
       "    </tr>\n",
       "    <tr>\n",
       "      <th>3</th>\n",
       "      <td>3</td>\n",
       "      <td>0.000000</td>\n",
       "      <td>0.000000</td>\n",
       "      <td>0.0</td>\n",
       "      <td>0.0</td>\n",
       "      <td>0.0</td>\n",
       "      <td>0.0</td>\n",
       "      <td>0.080787</td>\n",
       "      <td>0.303251</td>\n",
       "      <td>0.519247</td>\n",
       "      <td>...</td>\n",
       "      <td>0.986970</td>\n",
       "      <td>0.917125</td>\n",
       "      <td>0.562874</td>\n",
       "      <td>0.378466</td>\n",
       "      <td>0.000000</td>\n",
       "      <td>0.000000</td>\n",
       "      <td>0.000000</td>\n",
       "      <td>0.0</td>\n",
       "      <td>0.0</td>\n",
       "      <td>0.0</td>\n",
       "    </tr>\n",
       "    <tr>\n",
       "      <th>4</th>\n",
       "      <td>4</td>\n",
       "      <td>0.000000</td>\n",
       "      <td>0.000000</td>\n",
       "      <td>0.0</td>\n",
       "      <td>0.0</td>\n",
       "      <td>0.0</td>\n",
       "      <td>0.0</td>\n",
       "      <td>0.000000</td>\n",
       "      <td>0.060529</td>\n",
       "      <td>0.172893</td>\n",
       "      <td>...</td>\n",
       "      <td>0.878997</td>\n",
       "      <td>0.994609</td>\n",
       "      <td>0.901742</td>\n",
       "      <td>0.667729</td>\n",
       "      <td>0.387283</td>\n",
       "      <td>0.000000</td>\n",
       "      <td>0.000000</td>\n",
       "      <td>0.0</td>\n",
       "      <td>0.0</td>\n",
       "      <td>0.0</td>\n",
       "    </tr>\n",
       "    <tr>\n",
       "      <th>...</th>\n",
       "      <td>...</td>\n",
       "      <td>...</td>\n",
       "      <td>...</td>\n",
       "      <td>...</td>\n",
       "      <td>...</td>\n",
       "      <td>...</td>\n",
       "      <td>...</td>\n",
       "      <td>...</td>\n",
       "      <td>...</td>\n",
       "      <td>...</td>\n",
       "      <td>...</td>\n",
       "      <td>...</td>\n",
       "      <td>...</td>\n",
       "      <td>...</td>\n",
       "      <td>...</td>\n",
       "      <td>...</td>\n",
       "      <td>...</td>\n",
       "      <td>...</td>\n",
       "      <td>...</td>\n",
       "      <td>...</td>\n",
       "      <td>...</td>\n",
       "    </tr>\n",
       "    <tr>\n",
       "      <th>12699</th>\n",
       "      <td>12699</td>\n",
       "      <td>0.000000</td>\n",
       "      <td>0.000000</td>\n",
       "      <td>0.0</td>\n",
       "      <td>0.0</td>\n",
       "      <td>0.0</td>\n",
       "      <td>0.0</td>\n",
       "      <td>0.000000</td>\n",
       "      <td>0.000000</td>\n",
       "      <td>0.000000</td>\n",
       "      <td>...</td>\n",
       "      <td>0.430487</td>\n",
       "      <td>0.759348</td>\n",
       "      <td>0.991525</td>\n",
       "      <td>0.870099</td>\n",
       "      <td>0.588773</td>\n",
       "      <td>0.000000</td>\n",
       "      <td>0.000000</td>\n",
       "      <td>1.0</td>\n",
       "      <td>4.0</td>\n",
       "      <td>4.0</td>\n",
       "    </tr>\n",
       "    <tr>\n",
       "      <th>12700</th>\n",
       "      <td>12700</td>\n",
       "      <td>0.000000</td>\n",
       "      <td>0.000000</td>\n",
       "      <td>0.0</td>\n",
       "      <td>0.0</td>\n",
       "      <td>0.0</td>\n",
       "      <td>0.0</td>\n",
       "      <td>0.000000</td>\n",
       "      <td>0.000000</td>\n",
       "      <td>0.000000</td>\n",
       "      <td>...</td>\n",
       "      <td>0.192508</td>\n",
       "      <td>0.564814</td>\n",
       "      <td>0.973335</td>\n",
       "      <td>0.966669</td>\n",
       "      <td>0.548366</td>\n",
       "      <td>0.000000</td>\n",
       "      <td>0.000000</td>\n",
       "      <td>1.0</td>\n",
       "      <td>4.0</td>\n",
       "      <td>4.0</td>\n",
       "    </tr>\n",
       "    <tr>\n",
       "      <th>12701</th>\n",
       "      <td>12701</td>\n",
       "      <td>0.000000</td>\n",
       "      <td>0.000000</td>\n",
       "      <td>0.0</td>\n",
       "      <td>0.0</td>\n",
       "      <td>0.0</td>\n",
       "      <td>0.0</td>\n",
       "      <td>0.000000</td>\n",
       "      <td>0.000000</td>\n",
       "      <td>0.000000</td>\n",
       "      <td>...</td>\n",
       "      <td>0.571624</td>\n",
       "      <td>0.201609</td>\n",
       "      <td>0.144007</td>\n",
       "      <td>0.334674</td>\n",
       "      <td>0.000000</td>\n",
       "      <td>0.000000</td>\n",
       "      <td>0.000000</td>\n",
       "      <td>1.0</td>\n",
       "      <td>4.0</td>\n",
       "      <td>4.0</td>\n",
       "    </tr>\n",
       "    <tr>\n",
       "      <th>12702</th>\n",
       "      <td>12702</td>\n",
       "      <td>0.474252</td>\n",
       "      <td>0.256943</td>\n",
       "      <td>0.0</td>\n",
       "      <td>0.0</td>\n",
       "      <td>0.0</td>\n",
       "      <td>0.0</td>\n",
       "      <td>0.000000</td>\n",
       "      <td>0.000000</td>\n",
       "      <td>0.000000</td>\n",
       "      <td>...</td>\n",
       "      <td>0.341396</td>\n",
       "      <td>0.630530</td>\n",
       "      <td>0.810973</td>\n",
       "      <td>0.971333</td>\n",
       "      <td>1.000000</td>\n",
       "      <td>0.897192</td>\n",
       "      <td>0.743494</td>\n",
       "      <td>1.0</td>\n",
       "      <td>4.0</td>\n",
       "      <td>4.0</td>\n",
       "    </tr>\n",
       "    <tr>\n",
       "      <th>12703</th>\n",
       "      <td>12703</td>\n",
       "      <td>0.000000</td>\n",
       "      <td>0.000000</td>\n",
       "      <td>0.0</td>\n",
       "      <td>0.0</td>\n",
       "      <td>0.0</td>\n",
       "      <td>0.0</td>\n",
       "      <td>0.000000</td>\n",
       "      <td>0.000000</td>\n",
       "      <td>0.000000</td>\n",
       "      <td>...</td>\n",
       "      <td>0.341672</td>\n",
       "      <td>0.531967</td>\n",
       "      <td>0.812802</td>\n",
       "      <td>0.982816</td>\n",
       "      <td>0.000000</td>\n",
       "      <td>0.000000</td>\n",
       "      <td>0.000000</td>\n",
       "      <td>1.0</td>\n",
       "      <td>4.0</td>\n",
       "      <td>4.0</td>\n",
       "    </tr>\n",
       "  </tbody>\n",
       "</table>\n",
       "<p>12704 rows × 28 columns</p>\n",
       "</div>"
      ],
      "text/plain": [
       "          id       h00       h01  h02  h03  h04  h05       h06       h07  \\\n",
       "0          0  0.000000  0.000000  0.0  0.0  0.0  0.0  0.000000  0.000000   \n",
       "1          1  0.000000  0.000000  0.0  0.0  0.0  0.0  0.000000  0.000000   \n",
       "2          2  0.000000  0.000000  0.0  0.0  0.0  0.0  0.000000  0.000000   \n",
       "3          3  0.000000  0.000000  0.0  0.0  0.0  0.0  0.080787  0.303251   \n",
       "4          4  0.000000  0.000000  0.0  0.0  0.0  0.0  0.000000  0.060529   \n",
       "...      ...       ...       ...  ...  ...  ...  ...       ...       ...   \n",
       "12699  12699  0.000000  0.000000  0.0  0.0  0.0  0.0  0.000000  0.000000   \n",
       "12700  12700  0.000000  0.000000  0.0  0.0  0.0  0.0  0.000000  0.000000   \n",
       "12701  12701  0.000000  0.000000  0.0  0.0  0.0  0.0  0.000000  0.000000   \n",
       "12702  12702  0.474252  0.256943  0.0  0.0  0.0  0.0  0.000000  0.000000   \n",
       "12703  12703  0.000000  0.000000  0.0  0.0  0.0  0.0  0.000000  0.000000   \n",
       "\n",
       "            h08  ...       h17       h18       h19       h20       h21  \\\n",
       "0      0.000000  ...  0.347754  0.522437  0.940441  0.823425  0.000000   \n",
       "1      0.000000  ...  0.320058  0.212006  0.212006  0.212006  0.000000   \n",
       "2      0.000000  ...  0.805263  0.483633  0.000000  0.000000  0.000000   \n",
       "3      0.519247  ...  0.986970  0.917125  0.562874  0.378466  0.000000   \n",
       "4      0.172893  ...  0.878997  0.994609  0.901742  0.667729  0.387283   \n",
       "...         ...  ...       ...       ...       ...       ...       ...   \n",
       "12699  0.000000  ...  0.430487  0.759348  0.991525  0.870099  0.588773   \n",
       "12700  0.000000  ...  0.192508  0.564814  0.973335  0.966669  0.548366   \n",
       "12701  0.000000  ...  0.571624  0.201609  0.144007  0.334674  0.000000   \n",
       "12702  0.000000  ...  0.341396  0.630530  0.810973  0.971333  1.000000   \n",
       "12703  0.000000  ...  0.341672  0.531967  0.812802  0.982816  0.000000   \n",
       "\n",
       "            h22       h23  country  city  category  \n",
       "0      0.000000  0.000000      0.0   0.0       0.0  \n",
       "1      0.000000  0.000000      0.0   0.0       0.0  \n",
       "2      0.000000  0.000000      0.0   0.0       0.0  \n",
       "3      0.000000  0.000000      0.0   0.0       0.0  \n",
       "4      0.000000  0.000000      0.0   0.0       0.0  \n",
       "...         ...       ...      ...   ...       ...  \n",
       "12699  0.000000  0.000000      1.0   4.0       4.0  \n",
       "12700  0.000000  0.000000      1.0   4.0       4.0  \n",
       "12701  0.000000  0.000000      1.0   4.0       4.0  \n",
       "12702  0.897192  0.743494      1.0   4.0       4.0  \n",
       "12703  0.000000  0.000000      1.0   4.0       4.0  \n",
       "\n",
       "[12704 rows x 28 columns]"
      ]
     },
     "execution_count": 4,
     "metadata": {},
     "output_type": "execute_result"
    }
   ],
   "source": [
    "df"
   ]
  },
  {
   "cell_type": "code",
   "execution_count": 5,
   "metadata": {},
   "outputs": [
    {
     "name": "stdout",
     "output_type": "stream",
     "text": [
      "(3364, 24) (1122, 24)\n"
     ]
    }
   ],
   "source": [
    "from sklearn.model_selection import train_test_split\n",
    "\n",
    "def extract_x_y(df, country):\n",
    "    filtered_df = df[(df['country'] == country)]\n",
    "    df_x = filtered_df.drop(columns=['id','country', 'city', 'category'])\n",
    "    return np.array(df_x),np.array(filtered_df['category'])\n",
    "\n",
    "X, y = extract_x_y(df,0)\n",
    "X_train, X_test, y_train, y_test = train_test_split(X, y, random_state=11)\n",
    "print(X_train.shape, X_test.shape)"
   ]
  },
  {
   "cell_type": "code",
   "execution_count": 6,
   "metadata": {},
   "outputs": [
    {
     "name": "stdout",
     "output_type": "stream",
     "text": [
      "(6163, 24) (2055, 24)\n"
     ]
    }
   ],
   "source": [
    "X_1, y_1 = extract_x_y(df,1)\n",
    "X_train_1, X_test_1, y_train_1, y_test_1 = train_test_split(X_1, y_1)\n",
    "print(X_train_1.shape, X_test_1.shape)"
   ]
  },
  {
   "cell_type": "markdown",
   "metadata": {},
   "source": [
    "## HIVECOTEV2"
   ]
  },
  {
   "cell_type": "code",
   "execution_count": 7,
   "metadata": {},
   "outputs": [],
   "source": [
    "from sklearn.metrics import precision_score\n",
    "from sklearn.metrics import recall_score"
   ]
  },
  {
   "cell_type": "code",
   "execution_count": 8,
   "metadata": {},
   "outputs": [],
   "source": [
    "\n",
    "from sklearn.metrics import accuracy_score\n",
    "from sklearn.metrics import f1_score\n"
   ]
  },
  {
   "cell_type": "code",
   "execution_count": 9,
   "metadata": {},
   "outputs": [
    {
     "name": "stderr",
     "output_type": "stream",
     "text": [
      "/Users/carolina/Desktop/Mestrado/.venv/lib/python3.9/site-packages/sktime/transformations/panel/catch22.py:354: FutureWarning: In Catch22._transform_single_feature, the argument case_id is deprecated and will be removed in the future.\n",
      "  warn(\n",
      "/Users/carolina/Desktop/Mestrado/.venv/lib/python3.9/site-packages/sktime/transformations/panel/catch22.py:354: FutureWarning: In Catch22._transform_single_feature, the argument case_id is deprecated and will be removed in the future.\n",
      "  warn(\n"
     ]
    },
    {
     "name": "stdout",
     "output_type": "stream",
     "text": [
      "predicting...\n"
     ]
    },
    {
     "name": "stderr",
     "output_type": "stream",
     "text": [
      "/Users/carolina/Desktop/Mestrado/.venv/lib/python3.9/site-packages/sktime/transformations/panel/catch22.py:354: FutureWarning: In Catch22._transform_single_feature, the argument case_id is deprecated and will be removed in the future.\n",
      "  warn(\n"
     ]
    },
    {
     "name": "stdout",
     "output_type": "stream",
     "text": [
      "results...\n",
      "0.6987522281639929\n",
      "0.6930103929058156\n"
     ]
    }
   ],
   "source": [
    "from sktime.classification.hybrid import HIVECOTEV2\n",
    "from sktime.classification.sklearn import RotationForest\n",
    "from sklearn.metrics import accuracy_score\n",
    "from sklearn.metrics import f1_score\n",
    "\n",
    "hc2_classifier = HIVECOTEV2(\n",
    "    stc_params={\n",
    "        \"estimator\": RotationForest(n_estimators=3),\n",
    "        \"n_shapelet_samples\": 100,\n",
    "        \"max_shapelets\": 10,\n",
    "        \"batch_size\": 20,\n",
    "    },\n",
    "    drcif_params={\"n_estimators\": 2, \"n_intervals\": 2, \"att_subsample_size\": 2},\n",
    "    arsenal_params={\"num_kernels\": 50, \"n_estimators\": 3},\n",
    "    tde_params={\n",
    "        \"n_parameter_samples\": 10,\n",
    "        \"max_ensemble_size\": 3,\n",
    "        \"randomly_selected_params\": 5,\n",
    "    },\n",
    ")\n",
    "# Country 0\n",
    "hc2_classifier.fit(X_train, y_train)\n",
    "print(\"predicting...\")\n",
    "hc2_pred = hc2_classifier.predict(X_test)\n",
    "print(\"results...\")\n",
    "print(accuracy_score(y_test, hc2_pred))\n",
    "print(f1_score(y_test, hc2_pred, average='weighted'))"
   ]
  },
  {
   "cell_type": "code",
   "execution_count": 10,
   "metadata": {},
   "outputs": [
    {
     "name": "stderr",
     "output_type": "stream",
     "text": [
      "/Users/carolina/Desktop/Mestrado/.venv/lib/python3.9/site-packages/sktime/transformations/panel/catch22.py:354: FutureWarning: In Catch22._transform_single_feature, the argument case_id is deprecated and will be removed in the future.\n",
      "  warn(\n",
      "/Users/carolina/Desktop/Mestrado/.venv/lib/python3.9/site-packages/sktime/transformations/panel/catch22.py:354: FutureWarning: In Catch22._transform_single_feature, the argument case_id is deprecated and will be removed in the future.\n",
      "  warn(\n",
      "/Users/carolina/Desktop/Mestrado/.venv/lib/python3.9/site-packages/sktime/transformations/panel/catch22.py:354: FutureWarning: In Catch22._transform_single_feature, the argument case_id is deprecated and will be removed in the future.\n",
      "  warn(\n"
     ]
    },
    {
     "name": "stdout",
     "output_type": "stream",
     "text": [
      "predicting...\n"
     ]
    },
    {
     "name": "stderr",
     "output_type": "stream",
     "text": [
      "/Users/carolina/Desktop/Mestrado/.venv/lib/python3.9/site-packages/sktime/transformations/panel/catch22.py:354: FutureWarning: In Catch22._transform_single_feature, the argument case_id is deprecated and will be removed in the future.\n",
      "  warn(\n"
     ]
    },
    {
     "name": "stdout",
     "output_type": "stream",
     "text": [
      "results...\n",
      "0.6593673965936739\n",
      "0.65281082091715\n"
     ]
    }
   ],
   "source": [
    "# Country 1\n",
    "hc2_classifier.fit(X_train_1, y_train_1)\n",
    "print(\"predicting...\")\n",
    "hc2_pred_1 = hc2_classifier.predict(X_test_1)\n",
    "print(\"results...\")\n",
    "print(accuracy_score(y_test_1, hc2_pred_1))\n",
    "print(f1_score(y_test_1, hc2_pred_1, average='weighted'))"
   ]
  },
  {
   "cell_type": "code",
   "execution_count": 11,
   "metadata": {},
   "outputs": [
    {
     "name": "stdout",
     "output_type": "stream",
     "text": [
      "0.6931440269616141\n",
      "0.6987522281639929\n"
     ]
    }
   ],
   "source": [
    "print(precision_score(y_test, hc2_pred, average='weighted'))\n",
    "print(recall_score(y_test, hc2_pred, average='weighted'))"
   ]
  },
  {
   "cell_type": "code",
   "execution_count": 12,
   "metadata": {},
   "outputs": [
    {
     "name": "stdout",
     "output_type": "stream",
     "text": [
      "0.6646755443816015\n",
      "0.6593673965936739\n"
     ]
    }
   ],
   "source": [
    "print(precision_score(y_test_1, hc2_pred_1, average='weighted'))\n",
    "print(recall_score(y_test_1, hc2_pred_1, average='weighted'))"
   ]
  },
  {
   "cell_type": "markdown",
   "metadata": {},
   "source": [
    "validating signatures"
   ]
  },
  {
   "cell_type": "code",
   "execution_count": 51,
   "metadata": {},
   "outputs": [
    {
     "name": "stdout",
     "output_type": "stream",
     "text": [
      "validating signatures...\n"
     ]
    },
    {
     "data": {
      "text/plain": [
       "0.4"
      ]
     },
     "execution_count": 51,
     "metadata": {},
     "output_type": "execute_result"
    }
   ],
   "source": [
    "hc2_pred_sig = hc2_classifier.predict(Xs)\n",
    "print(\"validating signatures...\")\n",
    "accuracy_score(ys, hc2_pred_sig)"
   ]
  },
  {
   "cell_type": "markdown",
   "metadata": {},
   "source": [
    "## Hydra"
   ]
  },
  {
   "cell_type": "code",
   "execution_count": 13,
   "metadata": {},
   "outputs": [
    {
     "data": {
      "text/plain": [
       "torch.Size([3364, 1, 24])"
      ]
     },
     "execution_count": 13,
     "metadata": {},
     "output_type": "execute_result"
    }
   ],
   "source": [
    "import torch\n",
    "\n",
    "X_train_tensor = torch.tensor(np.expand_dims(X_train, axis=1), dtype=torch.float32)\n",
    "X_test_tensor = torch.tensor(np.expand_dims(X_test, axis=1), dtype=torch.float32)\n",
    "X_train_tensor.shape"
   ]
  },
  {
   "cell_type": "code",
   "execution_count": 14,
   "metadata": {},
   "outputs": [
    {
     "data": {
      "text/plain": [
       "torch.Size([6163, 1, 24])"
      ]
     },
     "execution_count": 14,
     "metadata": {},
     "output_type": "execute_result"
    }
   ],
   "source": [
    "X_train_tensor_1 = torch.tensor(np.expand_dims(X_train_1, axis=1), dtype=torch.float32)\n",
    "X_test_tensor_1 = torch.tensor(np.expand_dims(X_test_1, axis=1), dtype=torch.float32)\n",
    "X_train_tensor_1.shape"
   ]
  },
  {
   "cell_type": "code",
   "execution_count": 15,
   "metadata": {},
   "outputs": [],
   "source": [
    "from hydra import Hydra, SparseScaler\n",
    "from sklearn.linear_model import RidgeClassifierCV"
   ]
  },
  {
   "cell_type": "code",
   "execution_count": 16,
   "metadata": {},
   "outputs": [
    {
     "name": "stdout",
     "output_type": "stream",
     "text": [
      "0.713903743315508\n",
      "0.7071473383461842\n"
     ]
    }
   ],
   "source": [
    "from hydra import Hydra, SparseScaler\n",
    "from sklearn.linear_model import RidgeClassifierCV\n",
    "\n",
    "transform = Hydra(X_train.shape[-1])\n",
    "\n",
    "X_training_transform = transform(X_train_tensor)\n",
    "X_test_transform = transform(X_test_tensor)\n",
    "\n",
    "scaler = SparseScaler()\n",
    "\n",
    "X_training_transform = scaler.fit_transform(X_training_transform)\n",
    "X_test_transform = scaler.transform(X_test_transform)\n",
    "\n",
    "hydra_classifier = RidgeClassifierCV(alphas = np.logspace(-3, 3, 10))\n",
    "hydra_classifier.fit(X_training_transform, y_train)\n",
    "\n",
    "hydra_pred = hydra_classifier.predict(X_test_transform)\n",
    "print(accuracy_score(y_test, hydra_pred))\n",
    "print(f1_score(y_test, hydra_pred, average='weighted'))"
   ]
  },
  {
   "cell_type": "code",
   "execution_count": null,
   "metadata": {},
   "outputs": [
    {
     "name": "stdout",
     "output_type": "stream",
     "text": [
      "0.7094495884761344\n",
      "0.713903743315508\n"
     ]
    }
   ],
   "source": [
    "# Country 0\n",
    "print(precision_score(y_test, hydra_pred, average='weighted'))\n",
    "print(recall_score(y_test, hydra_pred, average='weighted'))"
   ]
  },
  {
   "cell_type": "markdown",
   "metadata": {},
   "source": [
    "### Hydra Country 1"
   ]
  },
  {
   "cell_type": "code",
   "execution_count": 17,
   "metadata": {},
   "outputs": [
    {
     "name": "stdout",
     "output_type": "stream",
     "text": [
      "0.6778588807785888\n",
      "0.6734186103318354\n"
     ]
    }
   ],
   "source": [
    "transform_1 = Hydra(X_train_1.shape[-1])\n",
    "\n",
    "X_training_transform_1 = transform_1(X_train_tensor_1)\n",
    "X_test_transform_1 = transform_1(X_test_tensor_1)\n",
    "\n",
    "scaler = SparseScaler()\n",
    "\n",
    "X_training_transform_1 = scaler.fit_transform(X_training_transform_1)\n",
    "X_test_transform_1 = scaler.transform(X_test_transform_1)\n",
    "\n",
    "hydra_classifier_1 = RidgeClassifierCV(alphas = np.logspace(-3, 3, 10))\n",
    "hydra_classifier_1.fit(X_training_transform_1, y_train_1)\n",
    "\n",
    "hydra_pred_1 = hydra_classifier_1.predict(X_test_transform_1)\n",
    "print(accuracy_score(y_test_1, hydra_pred_1))\n",
    "print(f1_score(y_test_1, hydra_pred_1, average='weighted'))"
   ]
  },
  {
   "cell_type": "code",
   "execution_count": 19,
   "metadata": {},
   "outputs": [
    {
     "name": "stdout",
     "output_type": "stream",
     "text": [
      "0.6777876311283864\n",
      "0.6778588807785888\n"
     ]
    }
   ],
   "source": [
    "# Country 1\n",
    "print(precision_score(y_test_1, hydra_pred_1, average='weighted'))\n",
    "print(recall_score(y_test_1, hydra_pred_1, average='weighted'))"
   ]
  },
  {
   "cell_type": "markdown",
   "metadata": {},
   "source": [
    "## Mutirocket"
   ]
  },
  {
   "cell_type": "code",
   "execution_count": 20,
   "metadata": {},
   "outputs": [
    {
     "name": "stdout",
     "output_type": "stream",
     "text": [
      "[MultiRocket] Creating MultiRocket with 6250 kernels\n",
      "[MultiRocket] Training with training set of (3364, 24)\n",
      "[MultiRocket] Kernels applied!, took 6.0953057240003545s\n",
      "[MultiRocket] Transformed Shape (3364, 49728)\n",
      "[MultiRocket] Training\n"
     ]
    },
    {
     "name": "stderr",
     "output_type": "stream",
     "text": [
      "epoch: 0:  46%|████▌     | 6/13 [00:01<00:01,  5.63it/s]\n",
      "epoch: 1:  46%|████▌     | 6/13 [00:00<00:00, 26.60it/s]\n",
      "epoch: 2:  46%|████▌     | 6/13 [00:00<00:00, 31.41it/s]\n",
      "epoch: 3:  46%|████▌     | 6/13 [00:00<00:00, 28.09it/s]\n",
      "epoch: 4:  46%|████▌     | 6/13 [00:00<00:01,  6.75it/s]\n",
      "epoch: 5:  46%|████▌     | 6/13 [00:00<00:00, 17.16it/s]\n",
      "epoch: 6:  46%|████▌     | 6/13 [00:00<00:00, 28.55it/s]\n",
      "epoch: 7:  46%|████▌     | 6/13 [00:00<00:00, 27.99it/s]\n",
      "epoch: 8:  46%|████▌     | 6/13 [00:00<00:00, 30.56it/s]\n",
      "epoch: 9:  46%|████▌     | 6/13 [00:00<00:00, 31.49it/s]\n",
      "epoch: 10:  46%|████▌     | 6/13 [00:00<00:00, 26.32it/s]\n",
      "epoch: 11:  46%|████▌     | 6/13 [00:00<00:00, 26.38it/s]\n",
      "epoch: 12:  46%|████▌     | 6/13 [00:00<00:00, 32.59it/s]\n",
      "epoch: 13:  46%|████▌     | 6/13 [00:00<00:00, 29.65it/s]\n",
      "epoch: 14:  46%|████▌     | 6/13 [00:00<00:00, 24.76it/s]\n",
      "epoch: 15:  46%|████▌     | 6/13 [00:00<00:00, 27.82it/s]\n",
      "epoch: 16:  46%|████▌     | 6/13 [00:00<00:00, 23.97it/s]\n",
      "epoch: 17:  46%|████▌     | 6/13 [00:00<00:00, 21.48it/s]\n",
      "epoch: 18:  46%|████▌     | 6/13 [00:00<00:00, 26.99it/s]\n",
      "epoch: 19:  46%|████▌     | 6/13 [00:00<00:00, 29.88it/s]\n",
      "epoch: 20:  46%|████▌     | 6/13 [00:00<00:00, 30.66it/s]\n",
      "epoch: 21:  46%|████▌     | 6/13 [00:00<00:00, 30.65it/s]\n",
      "epoch: 22:  46%|████▌     | 6/13 [00:00<00:00, 29.11it/s]\n",
      "epoch: 23:  46%|████▌     | 6/13 [00:00<00:00, 29.78it/s]\n",
      "epoch: 24:  46%|████▌     | 6/13 [00:00<00:00, 29.52it/s]\n",
      "epoch: 25:  46%|████▌     | 6/13 [00:00<00:00, 30.42it/s]\n",
      "epoch: 26:  46%|████▌     | 6/13 [00:00<00:00, 31.99it/s]\n",
      "epoch: 27:  46%|████▌     | 6/13 [00:00<00:00, 29.95it/s]\n",
      "epoch: 28:  46%|████▌     | 6/13 [00:00<00:00, 29.56it/s]\n",
      "epoch: 29:  46%|████▌     | 6/13 [00:00<00:00, 26.48it/s]\n",
      "epoch: 30:  46%|████▌     | 6/13 [00:00<00:00, 25.50it/s]\n",
      "epoch: 31:  46%|████▌     | 6/13 [00:00<00:00, 23.21it/s]\n"
     ]
    },
    {
     "name": "stdout",
     "output_type": "stream",
     "text": [
      "\n",
      "<Stopped at Epoch 32>\n",
      "[MultiRocket] Training done!, took 28.772s\n",
      "[MultiRocket] Predicting\n",
      "Kernels applied!, took 0.428s. Transformed shape: (1122, 49728).\n",
      "[MultiRocket] Predicting completed, took 0.663s\n",
      "0.6871657754010695\n",
      "0.6874253431487042\n"
     ]
    }
   ],
   "source": [
    "from multirocket.multirocket import MultiRocket\n",
    "from sklearn.preprocessing import LabelEncoder\n",
    "\n",
    "encoder = LabelEncoder()\n",
    "y_train = encoder.fit_transform(y_train)\n",
    "y_test = encoder.transform(y_test)\n",
    "\n",
    "# returns ntc format, remove the last dimension\n",
    "X_train = X_train.reshape((X_train.shape[0], X_train.shape[1]))\n",
    "X_test = X_test.reshape((X_test.shape[0], X_test.shape[1]))\n",
    "\n",
    "nb_classes = len(np.unique(np.concatenate((y_train, y_test), axis=0)))\n",
    "\n",
    "mrocket_classifier = MultiRocket(\n",
    "    num_features=50000,\n",
    "    classifier=\"logistic\",\n",
    "    verbose=2,\n",
    ")\n",
    "yhat_train = mrocket_classifier.fit(\n",
    "    X_train, y_train,\n",
    "    predict_on_train=False\n",
    ")\n",
    "mrocket_pred = mrocket_classifier.predict(X_test)\n",
    "print(accuracy_score(y_test, mrocket_pred))\n",
    "print(f1_score(y_test, mrocket_pred, average='weighted'))"
   ]
  },
  {
   "cell_type": "code",
   "execution_count": 21,
   "metadata": {},
   "outputs": [
    {
     "name": "stdout",
     "output_type": "stream",
     "text": [
      "0.6972193622670879\n",
      "0.6871657754010695\n"
     ]
    }
   ],
   "source": [
    "print(precision_score(y_test, mrocket_pred, average='weighted'))\n",
    "print(recall_score(y_test, mrocket_pred, average='weighted'))"
   ]
  },
  {
   "cell_type": "markdown",
   "metadata": {},
   "source": [
    "### Multirocket Country 1"
   ]
  },
  {
   "cell_type": "code",
   "execution_count": 22,
   "metadata": {},
   "outputs": [
    {
     "name": "stdout",
     "output_type": "stream",
     "text": [
      "[MultiRocket] Creating MultiRocket with 6250 kernels\n",
      "[MultiRocket] Training with training set of (6163, 24)\n"
     ]
    },
    {
     "name": "stdout",
     "output_type": "stream",
     "text": [
      "[MultiRocket] Kernels applied!, took 11.901395795999633s\n",
      "[MultiRocket] Transformed Shape (6163, 49728)\n",
      "[MultiRocket] Training\n"
     ]
    },
    {
     "name": "stderr",
     "output_type": "stream",
     "text": [
      "epoch: 0:  71%|███████   | 17/24 [00:02<00:01,  6.81it/s]\n",
      "epoch: 1:  71%|███████   | 17/24 [00:00<00:00, 24.85it/s]\n",
      "epoch: 2:  71%|███████   | 17/24 [00:00<00:00, 30.85it/s]\n",
      "epoch: 3:  71%|███████   | 17/24 [00:00<00:00, 27.98it/s]\n",
      "epoch: 4:  71%|███████   | 17/24 [00:00<00:00, 17.68it/s]\n",
      "epoch: 5:  71%|███████   | 17/24 [00:00<00:00, 25.87it/s]\n",
      "epoch: 6:  71%|███████   | 17/24 [00:00<00:00, 27.14it/s]\n",
      "epoch: 7:  71%|███████   | 17/24 [00:01<00:00, 16.29it/s]\n",
      "epoch: 8:  71%|███████   | 17/24 [00:00<00:00, 29.90it/s]\n",
      "epoch: 9:  71%|███████   | 17/24 [00:00<00:00, 20.18it/s]\n",
      "epoch: 10:  71%|███████   | 17/24 [00:00<00:00, 28.48it/s]\n",
      "epoch: 11:  71%|███████   | 17/24 [00:00<00:00, 28.31it/s]\n",
      "epoch: 12:  71%|███████   | 17/24 [00:00<00:00, 23.89it/s]\n",
      "epoch: 13:  71%|███████   | 17/24 [00:00<00:00, 27.23it/s]\n",
      "epoch: 14:  71%|███████   | 17/24 [00:00<00:00, 27.95it/s]\n",
      "epoch: 15:  71%|███████   | 17/24 [00:00<00:00, 27.53it/s]\n",
      "epoch: 16:  71%|███████   | 17/24 [00:00<00:00, 27.55it/s]\n",
      "epoch: 17:  71%|███████   | 17/24 [00:00<00:00, 26.85it/s]\n",
      "epoch: 18:  71%|███████   | 17/24 [00:00<00:00, 25.12it/s]\n",
      "epoch: 19:  71%|███████   | 17/24 [00:01<00:00, 13.11it/s]\n",
      "epoch: 20:  71%|███████   | 17/24 [00:00<00:00, 22.96it/s]\n",
      "epoch: 21:  71%|███████   | 17/24 [00:00<00:00, 29.68it/s]\n",
      "epoch: 22:  71%|███████   | 17/24 [00:01<00:00, 10.49it/s]\n",
      "epoch: 23:  71%|███████   | 17/24 [00:00<00:00, 28.39it/s]\n",
      "epoch: 24:  71%|███████   | 17/24 [00:00<00:00, 27.38it/s]\n",
      "epoch: 25:  71%|███████   | 17/24 [00:00<00:00, 23.78it/s]\n",
      "epoch: 26:  71%|███████   | 17/24 [00:00<00:00, 27.27it/s]\n",
      "epoch: 27:  71%|███████   | 17/24 [00:00<00:00, 27.64it/s]\n",
      "epoch: 28:  71%|███████   | 17/24 [00:01<00:00, 13.61it/s]\n",
      "epoch: 29:  71%|███████   | 17/24 [00:00<00:00, 21.85it/s]\n",
      "epoch: 30:  71%|███████   | 17/24 [00:00<00:00, 28.87it/s]\n",
      "epoch: 31:  71%|███████   | 17/24 [00:00<00:00, 29.43it/s]\n",
      "epoch: 32:  71%|███████   | 17/24 [00:00<00:00, 29.98it/s]\n"
     ]
    },
    {
     "name": "stdout",
     "output_type": "stream",
     "text": [
      "\n",
      "<Stopped at Epoch 33>\n",
      "[MultiRocket] Training done!, took 59.217s\n",
      "[MultiRocket] Predicting\n",
      "Kernels applied!, took 0.839s. Transformed shape: (2055, 49728).\n",
      "[MultiRocket] Predicting completed, took 1.001s\n",
      "0.6822384428223844\n",
      "0.6792269985446241\n"
     ]
    }
   ],
   "source": [
    "from multirocket.multirocket import MultiRocket\n",
    "from sklearn.preprocessing import LabelEncoder\n",
    "\n",
    "encoder = LabelEncoder()\n",
    "y_train_1 = encoder.fit_transform(y_train_1)\n",
    "y_test_1 = encoder.transform(y_test_1)\n",
    "\n",
    "# returns ntc format, remove the last dimension\n",
    "X_train_1 = X_train_1.reshape((X_train_1.shape[0], X_train_1.shape[1]))\n",
    "X_test_1 = X_test_1.reshape((X_test_1.shape[0], X_test_1.shape[1]))\n",
    "\n",
    "nb_classes = len(np.unique(np.concatenate((y_train_1, y_test_1), axis=0)))\n",
    "\n",
    "mrocket_classifier = MultiRocket(\n",
    "    num_features=50000,\n",
    "    classifier=\"logistic\",\n",
    "    verbose=2,\n",
    ")\n",
    "yhat_train = mrocket_classifier.fit(\n",
    "    X_train_1, y_train_1,\n",
    "    predict_on_train=False\n",
    ")\n",
    "mrocket_pred_1 = mrocket_classifier.predict(X_test_1)\n",
    "print(accuracy_score(y_test_1, mrocket_pred_1))\n",
    "print(f1_score(y_test_1, mrocket_pred_1, average='weighted'))"
   ]
  },
  {
   "cell_type": "code",
   "execution_count": 23,
   "metadata": {},
   "outputs": [
    {
     "name": "stdout",
     "output_type": "stream",
     "text": [
      "0.6807016817749802\n",
      "0.6822384428223844\n"
     ]
    }
   ],
   "source": [
    "print(precision_score(y_test_1, mrocket_pred_1, average='weighted'))\n",
    "print(recall_score(y_test_1, mrocket_pred_1, average='weighted'))"
   ]
  },
  {
   "cell_type": "markdown",
   "metadata": {},
   "source": [
    "# Distance based: classification is based on some time series specific distance measure between series"
   ]
  },
  {
   "cell_type": "markdown",
   "metadata": {},
   "source": [
    "Distance based classifiers use a distance function to measure the similarity between time series."
   ]
  },
  {
   "cell_type": "markdown",
   "metadata": {},
   "source": [
    "## Rank 1 Proximity Forest"
   ]
  },
  {
   "cell_type": "code",
   "execution_count": null,
   "metadata": {},
   "outputs": [],
   "source": [
    "# Rank 1 Proximity Forest\n",
    "from sktime.classification.distance_based import ProximityForest\n",
    "\n",
    "clf_pf = ProximityForest(\n",
    "    n_estimators=2, max_depth=2, n_stump_evaluations=1\n",
    ") \n",
    "clf_pf.fit(X_train, y_train) \n",
    "y_pred_pf = clf_pf.predict(X_test) "
   ]
  },
  {
   "cell_type": "code",
   "execution_count": null,
   "metadata": {},
   "outputs": [],
   "source": [
    "print(accuracy_score(y_test, y_pred_pf))\n",
    "print(f1_score(y_test, y_pred_pf, average='weighted'))\n",
    "print(precision_score(y_test, y_pred_pf, average='weighted'))\n",
    "print(recall_score(y_test, y_pred_pf, average='weighted'))"
   ]
  },
  {
   "cell_type": "markdown",
   "metadata": {},
   "source": [
    "## Rank 2 Elastic Ensemble"
   ]
  },
  {
   "cell_type": "code",
   "execution_count": 24,
   "metadata": {},
   "outputs": [],
   "source": [
    "from aeon.classification.distance_based import ElasticEnsemble\n",
    "\n",
    "clf_ee = ElasticEnsemble(\n",
    "    proportion_of_param_options=0.1,\n",
    "    proportion_train_for_test=0.1,\n",
    "    distance_measures = [\"dtw\",\"ddtw\"],\n",
    "    majority_vote=True,\n",
    ")\n",
    "clf_ee.fit(X_train, y_train)\n",
    "\n",
    "y_pred_ee = clf_ee.predict(X_test)"
   ]
  },
  {
   "cell_type": "code",
   "execution_count": 25,
   "metadata": {},
   "outputs": [
    {
     "data": {
      "text/plain": [
       "0.6363636363636364"
      ]
     },
     "execution_count": 25,
     "metadata": {},
     "output_type": "execute_result"
    }
   ],
   "source": [
    "accuracy_score(y_test, y_pred_ee)"
   ]
  },
  {
   "cell_type": "code",
   "execution_count": 26,
   "metadata": {},
   "outputs": [
    {
     "data": {
      "text/plain": [
       "0.6389061171703156"
      ]
     },
     "execution_count": 26,
     "metadata": {},
     "output_type": "execute_result"
    }
   ],
   "source": [
    "f1_score(y_test, y_pred_ee, average='weighted')"
   ]
  },
  {
   "cell_type": "code",
   "execution_count": 27,
   "metadata": {},
   "outputs": [
    {
     "data": {
      "text/plain": [
       "0.6596579197895888"
      ]
     },
     "execution_count": 27,
     "metadata": {},
     "output_type": "execute_result"
    }
   ],
   "source": [
    "precision_score(y_test, y_pred_ee, average='weighted')"
   ]
  },
  {
   "cell_type": "code",
   "execution_count": 28,
   "metadata": {},
   "outputs": [
    {
     "data": {
      "text/plain": [
       "0.6363636363636364"
      ]
     },
     "execution_count": 28,
     "metadata": {},
     "output_type": "execute_result"
    }
   ],
   "source": [
    "recall_score(y_test, y_pred_ee, average='weighted')"
   ]
  },
  {
   "cell_type": "markdown",
   "metadata": {},
   "source": [
    "# Feature based: global features are extracted and passed to a standard clas- sifier in a simple pipeline"
   ]
  },
  {
   "cell_type": "markdown",
   "metadata": {},
   "source": [
    "## Rank 1 FreshPrince"
   ]
  },
  {
   "cell_type": "code",
   "execution_count": 29,
   "metadata": {},
   "outputs": [],
   "source": [
    "from sktime.classification.feature_based import FreshPRINCE\n",
    "#from sktime._contrib.vector_classifiers._rotation_forest import RotationForest\n",
    "\n",
    "clf_freshPRINCE = FreshPRINCE(\n",
    "    default_fc_parameters=\"minimal\",\n",
    "    n_estimators=5,\n",
    ")\n",
    "clf_freshPRINCE.fit(X_train, y_train)\n",
    "FreshPRINCE(...)\n",
    "y_pred_freshPRINCE = clf_freshPRINCE.predict(X_test)"
   ]
  },
  {
   "cell_type": "code",
   "execution_count": 30,
   "metadata": {},
   "outputs": [
    {
     "data": {
      "text/plain": [
       "0.5944741532976827"
      ]
     },
     "execution_count": 30,
     "metadata": {},
     "output_type": "execute_result"
    }
   ],
   "source": [
    "accuracy_score(y_test, y_pred_freshPRINCE)"
   ]
  },
  {
   "cell_type": "code",
   "execution_count": 31,
   "metadata": {},
   "outputs": [
    {
     "data": {
      "text/plain": [
       "0.5940161318332224"
      ]
     },
     "execution_count": 31,
     "metadata": {},
     "output_type": "execute_result"
    }
   ],
   "source": [
    "f1_score(y_test, y_pred_freshPRINCE, average='weighted')"
   ]
  },
  {
   "cell_type": "code",
   "execution_count": 32,
   "metadata": {},
   "outputs": [
    {
     "data": {
      "text/plain": [
       "0.5957011412930234"
      ]
     },
     "execution_count": 32,
     "metadata": {},
     "output_type": "execute_result"
    }
   ],
   "source": [
    "precision_score(y_test, y_pred_freshPRINCE, average='weighted')"
   ]
  },
  {
   "cell_type": "code",
   "execution_count": 33,
   "metadata": {},
   "outputs": [
    {
     "data": {
      "text/plain": [
       "0.5944741532976827"
      ]
     },
     "execution_count": 33,
     "metadata": {},
     "output_type": "execute_result"
    }
   ],
   "source": [
    "recall_score(y_test, y_pred_freshPRINCE, average='weighted')"
   ]
  },
  {
   "cell_type": "markdown",
   "metadata": {},
   "source": [
    "## genetic algorithms"
   ]
  },
  {
   "cell_type": "code",
   "execution_count": 34,
   "metadata": {},
   "outputs": [
    {
     "ename": "TypeError",
     "evalue": "extract_x_y() takes 2 positional arguments but 4 were given",
     "output_type": "error",
     "traceback": [
      "\u001b[0;31m---------------------------------------------------------------------------\u001b[0m",
      "\u001b[0;31mTypeError\u001b[0m                                 Traceback (most recent call last)",
      "Cell \u001b[0;32mIn[34], line 6\u001b[0m\n\u001b[1;32m      4\u001b[0m categ \u001b[38;5;241m=\u001b[39m \u001b[38;5;241m0\u001b[39m\n\u001b[1;32m      5\u001b[0m \u001b[38;5;66;03m# X_ini = np.random.rand(N*24)\u001b[39;00m\n\u001b[0;32m----> 6\u001b[0m X_cat, y_cat \u001b[38;5;241m=\u001b[39m \u001b[43mextract_x_y\u001b[49m\u001b[43m(\u001b[49m\u001b[43mdf\u001b[49m\u001b[43m,\u001b[49m\u001b[38;5;241;43m0\u001b[39;49m\u001b[43m,\u001b[49m\u001b[38;5;241;43m0\u001b[39;49m\u001b[43m,\u001b[49m\u001b[43mcateg\u001b[49m\u001b[43m)\u001b[49m\n\u001b[1;32m      7\u001b[0m X_avg \u001b[38;5;241m=\u001b[39m X_cat\u001b[38;5;241m.\u001b[39mmean(axis\u001b[38;5;241m=\u001b[39m\u001b[38;5;241m0\u001b[39m)\n\u001b[1;32m      8\u001b[0m X_avg \u001b[38;5;241m=\u001b[39m np\u001b[38;5;241m.\u001b[39mpad(X_avg, ((\u001b[38;5;241m2\u001b[39m,\u001b[38;5;241m2\u001b[39m)), mode\u001b[38;5;241m=\u001b[39m\u001b[38;5;124m'\u001b[39m\u001b[38;5;124mconstant\u001b[39m\u001b[38;5;124m'\u001b[39m, constant_values\u001b[38;5;241m=\u001b[39m\u001b[38;5;241m0\u001b[39m)\n",
      "\u001b[0;31mTypeError\u001b[0m: extract_x_y() takes 2 positional arguments but 4 were given"
     ]
    }
   ],
   "source": [
    "from scipy.optimize import minimize\n",
    "\n",
    "N = 1\n",
    "categ = 0\n",
    "# X_ini = np.random.rand(N*24)\n",
    "X_cat, y_cat = extract_x_y(df,0,0,categ)\n",
    "X_avg = X_cat.mean(axis=0)\n",
    "X_avg = np.pad(X_avg, ((2,2)), mode='constant', constant_values=0)\n",
    "\n",
    "def fitness(X):\n",
    "    X_np = np.array(X)\n",
    "    X_sig = transform(torch.tensor(np.expand_dims(\n",
    "        X_np.reshape(N,24),\n",
    "        axis=1\n",
    "    ), dtype=torch.float32))\n",
    "\n",
    "    violated_constraints = np.maximum(0, X_np - 1.0) + np.maximum(0, 0.0 - X_np)\n",
    "    penalty = sum(violated_constraints)\n",
    "    distance = np.mean([np.min([np.linalg.norm(X_avg[x:x+24] - row) for x in range(5)]) for row in X_np.reshape(N, 24)])\n",
    "\n",
    "    y = hydra_classifier.predict(X_sig)\n",
    "    \n",
    "    return accuracy_score([categ]*N, y), - penalty, - distance\n",
    "\n",
    "# return accuracy_score([0,0,0,0,0,1,1,1,1,1,2,2,2,2,2,3,3,3,3,3,4,4,4,4,4,5,5,5,5,5], y)\n",
    "# return accuracy_score([0,1,2,3,4,5], y)\n",
    "# res = minimize(fitness, X_ini, method = 'Nelder-Mead', options={'maxiter':100, 'disp':True,'fatol':0})\n",
    "# res"
   ]
  },
  {
   "cell_type": "code",
   "execution_count": null,
   "metadata": {},
   "outputs": [
    {
     "data": {
      "text/plain": [
       "(0.0, -0.0, 130.93682658688874)"
      ]
     },
     "execution_count": 234,
     "metadata": {},
     "output_type": "execute_result"
    }
   ],
   "source": [
    "# fitness(X_ini)"
   ]
  },
  {
   "cell_type": "code",
   "execution_count": null,
   "metadata": {},
   "outputs": [
    {
     "name": "stderr",
     "output_type": "stream",
     "text": [
      "/Users/carolina/anaconda3/lib/python3.10/site-packages/pygad/pygad.py:1139: UserWarning: The 'delay_after_gen' parameter is deprecated starting from PyGAD 3.3.0. To delay or pause the evolution after each generation, assign a callback function/method to the 'on_generation' parameter to adds some time delay.\n",
      "  warnings.warn(\"The 'delay_after_gen' parameter is deprecated starting from PyGAD 3.3.0. To delay or pause the evolution after each generation, assign a callback function/method to the 'on_generation' parameter to adds some time delay.\")\n"
     ]
    },
    {
     "name": "stdout",
     "output_type": "stream",
     "text": [
      "Best solution: (array([0.00263309, 0.01618933, 0.01411421, 0.01103476, 0.00979842,\n",
      "       0.0100045 , 0.01517333, 0.01234704, 0.19178997, 0.39106192,\n",
      "       0.48274228, 0.46821296, 0.43727749, 0.4649771 , 0.47091612,\n",
      "       0.47754438, 0.5420403 , 0.681255  , 0.75840609, 0.67349862,\n",
      "       0.45992342, 0.25251185, 0.21886793, 0.06653822]), array([ 0.        , -0.        , -0.01144639]), 0)\n"
     ]
    }
   ],
   "source": [
    "import numpy as np\n",
    "import pygad\n",
    "\n",
    "num_generations = 10000\n",
    "num_parents_mating = 10\n",
    "sol_per_pop = 50\n",
    "num_genes = N*24\n",
    "\n",
    "ga_instance = pygad.GA(num_generations=num_generations,\n",
    "                       num_parents_mating=num_parents_mating,\n",
    "                       fitness_func=lambda ga, sol, i: fitness(sol),\n",
    "                       sol_per_pop=sol_per_pop,\n",
    "                       num_genes=num_genes,\n",
    "                       init_range_low=0.0,\n",
    "                       init_range_high=1.0,\n",
    "                       random_mutation_min_val=-0.1,\n",
    "                       random_mutation_max_val=0.1)\n",
    "\n",
    "ga_instance.run()\n",
    "\n",
    "print(\"Best solution:\", ga_instance.best_solution())\n"
   ]
  },
  {
   "cell_type": "code",
   "execution_count": null,
   "metadata": {},
   "outputs": [
    {
     "data": {
      "text/plain": [
       "(array([0.00263309, 0.01618933, 0.01411421, 0.04375813, 0.00979842,\n",
       "        0.0100045 , 0.01517333, 0.01234704, 0.19178997, 0.39106192,\n",
       "        0.43725721, 0.46821296, 0.44570172, 0.4649771 , 0.45060536,\n",
       "        0.47754438, 0.5420403 , 0.681255  , 0.75840609, 0.67349862,\n",
       "        0.45992342, 0.25792517, 0.31360897, 0.06653822]),\n",
       " array([ 1.        , -0.        , -0.11469525]),\n",
       " 1)"
      ]
     },
     "execution_count": 266,
     "metadata": {},
     "output_type": "execute_result"
    }
   ],
   "source": [
    "ga_instance.best_solution()"
   ]
  },
  {
   "cell_type": "code",
   "execution_count": null,
   "metadata": {},
   "outputs": [
    {
     "data": {
      "text/plain": [
       "(array([ 5.46944954e-01,  5.26806322e+01,  1.83465219e-01,  2.74667180e+01,\n",
       "         5.64513407e-02,  2.63797925e-02,  5.23544331e-02, -2.04524092e-02,\n",
       "         4.93594479e-02,  2.62616546e-02, -4.04692241e-02, -1.37356289e-02,\n",
       "         4.43397657e-02,  8.18210760e-02, -1.95037527e-02, -2.23579845e-02,\n",
       "         1.79466506e-02,  6.77089101e-02,  2.32786422e-02,  3.88685292e-02,\n",
       "         1.76799080e-01,  3.21938516e-01,  8.36681933e-02,  9.50888062e-02]),\n",
       " array([  1.        , -78.26386922,  -0.25194653]),\n",
       " 3)"
      ]
     },
     "execution_count": 81,
     "metadata": {},
     "output_type": "execute_result"
    }
   ],
   "source": [
    "ga_instance.num_generations = 9000\n",
    "ga_instance.run()\n",
    "ga_instance.best_solution()"
   ]
  },
  {
   "cell_type": "code",
   "execution_count": null,
   "metadata": {},
   "outputs": [
    {
     "data": {
      "text/plain": [
       "[array([  0.        ,  -1.41546584, -56.92611833]),\n",
       " array([  0.        ,  -0.18383346, -58.11232558]),\n",
       " array([  0.        ,  -0.18049151, -58.0794686 ]),\n",
       " array([  0.        ,  -0.16070508, -58.07467507]),\n",
       " array([  0.        , -28.07736137, -50.12604016]),\n",
       " array([  0.        ,  -1.51885073, -56.92624906]),\n",
       " array([  0.        ,  -0.12792826, -58.11232965]),\n",
       " array([ 0.00000000e+00, -2.37488626e-02, -5.81088693e+01]),\n",
       " array([  0.        ,  -1.49581996, -56.92624338]),\n",
       " array([  0.        ,  -0.15873586, -58.11241399]),\n",
       " array([  0.        ,  -0.1760071 , -58.10881733]),\n",
       " array([  0.        , -28.15941101, -50.12610195]),\n",
       " array([  0.        , -28.0683204 , -50.20920956]),\n",
       " array([  0.        ,  -1.45678592, -56.92625747]),\n",
       " array([  0.        ,  -0.07962053, -58.08449087]),\n",
       " array([  0.        , -28.08991123, -50.1261175 ]),\n",
       " array([  0.        ,  -1.47246413, -56.92630037]),\n",
       " array([  0.        , -26.60253754, -51.69826368]),\n",
       " array([  0.        ,  -0.18780773, -58.0748694 ]),\n",
       " array([  0.        , -28.09260478, -50.12605306]),\n",
       " array([  1.        , -78.26386922,  -0.25194653]),\n",
       " array([  1.        , -68.40147286,  -9.75327464]),\n",
       " array([  1.        , -43.21724487, -27.13015896]),\n",
       " array([  1.        , -67.87909309,  -9.7134333 ]),\n",
       " array([  1.        , -53.09924805, -25.19157134]),\n",
       " array([  1.        , -53.0827873 , -25.19104671]),\n",
       " array([  1.        , -78.26386922,  -0.22777821]),\n",
       " array([  1.        , -68.62589675,  -9.69090674]),\n",
       " array([  1.       , -43.2633185, -27.1296815]),\n",
       " array([  1.        , -42.08953693, -28.22413601]),\n",
       " array([  1.        , -42.08953693, -28.22283512]),\n",
       " array([  1.        , -67.84742779,  -9.78703762]),\n",
       " array([  1.        , -53.15151212, -25.19109451]),\n",
       " array([  1.        , -78.07943663,  -0.26805724]),\n",
       " array([  1.        , -68.66077771,  -9.5955779 ]),\n",
       " array([  1.        , -42.09828548, -28.22292041]),\n",
       " array([  1.        , -67.90145108,  -9.71373852]),\n",
       " array([  1.        , -51.81688416, -26.50682605]),\n",
       " array([  1.        , -78.35423365,  -0.21451663]),\n",
       " array([  1.        , -78.20827186,  -0.22885634]),\n",
       " array([  1.        , -68.48534312,  -9.69242905]),\n",
       " array([  1.        , -43.24324087, -27.12960731]),\n",
       " array([  1.        , -42.08953693, -28.22323325]),\n",
       " array([  1.        , -67.91376524,  -9.71440527]),\n",
       " array([  1.        , -53.10961698, -25.19100013]),\n",
       " array([  1.        , -78.22200749,  -0.24778495]),\n",
       " array([  1.        , -68.46298513,  -9.69150213]),\n",
       " array([  1.        , -43.35536574, -27.12950731]),\n",
       " array([  1.        , -42.11399903, -28.22279845]),\n",
       " array([  1.        , -67.90145108,  -9.71460252])]"
      ]
     },
     "execution_count": 82,
     "metadata": {},
     "output_type": "execute_result"
    }
   ],
   "source": [
    "sorted(ga_instance.last_generation_fitness,key=lambda x: x[0])"
   ]
  },
  {
   "cell_type": "code",
   "execution_count": null,
   "metadata": {},
   "outputs": [
    {
     "data": {
      "text/plain": [
       "10000"
      ]
     },
     "execution_count": 229,
     "metadata": {},
     "output_type": "execute_result"
    }
   ],
   "source": [
    "ga_instance.generations_completed"
   ]
  },
  {
   "cell_type": "code",
   "execution_count": null,
   "metadata": {},
   "outputs": [],
   "source": [
    "fig = ga_instance.plot_fitness(label=['accuracy','penalty','distance'])\n",
    "fig.legend()"
   ]
  },
  {
   "cell_type": "code",
   "execution_count": null,
   "metadata": {},
   "outputs": [],
   "source": [
    "ga_instance.last_generation_fitness"
   ]
  },
  {
   "cell_type": "code",
   "execution_count": null,
   "metadata": {},
   "outputs": [
    {
     "data": {
      "image/png": "[encoded data removed]",
      "text/plain": [
       "<Figure size 750x350 with 1 Axes>"
      ]
     },
     "metadata": {},
     "output_type": "display_data"
    }
   ],
   "source": [
    "import matplotlib.pyplot as plt\n",
    "\n",
    "plt.rcParams[\"figure.figsize\"] = [7.50, 3.50]\n",
    "plt.rcParams[\"figure.autolayout\"] = True\n",
    "\n",
    "x = range(24)\n",
    "y,fit,idx = ga_instance.best_solution()\n",
    "\n",
    "plt.title(\"Line graph\")\n",
    "for y_ in np.array(y).reshape(N,24):\n",
    "    plt.plot(x, y_)\n",
    "\n",
    "plt.show()"
   ]
  },
  {
   "cell_type": "code",
   "execution_count": null,
   "metadata": {},
   "outputs": [],
   "source": [
    "ga_instance.save('ga_1sig_ng100_npm10_spp50_categ0_10000')"
   ]
  },
  {
   "cell_type": "markdown",
   "metadata": {},
   "source": [
    "TRANSFORMERS\n",
    "DTW VS TRANSFORMERS TIME SERIES\n",
    "MÉTRICAS (f1-score)\n",
    "\n",
    "OVERLEAF\n",
    "\n",
    "ESTUDO (RELATÓRIO)\n",
    "- CLASSIFICADORES (NOVAS TÉCNICAS)\n",
    "- DEEP LEARNING (SUMARIZAÇÃO)\n",
    "- OUTRAS TÉCNICAS (SUMARIZAÇÃO / LEVANTAMENTO)\n",
    "- TESTES-PILOTO \n",
    "- USO DAS ASSINATURAS (parâmetros dos classificadores (talvez))\n",
    "\n",
    "- aplicar em outros datasets"
   ]
  },
  {
   "cell_type": "code",
   "execution_count": null,
   "metadata": {},
   "outputs": [
    {
     "data": {
      "text/plain": [
       "13.0"
      ]
     },
     "execution_count": 219,
     "metadata": {},
     "output_type": "execute_result"
    }
   ],
   "source": [
    "#teste\n",
    "import numpy as np\n",
    "\n",
    "# Define input signal and kernel\n",
    "signal = np.array([0, 0, 1, 2, 3, 4, 5, 0, 0])\n",
    "kernel = np.array([0, 0.5, 1, 1.5, 0])\n",
    "\n",
    "# Perform 1D convolution\n",
    "result = np.correlate(signal, kernel, mode='valid')\n",
    "\n",
    "print(\"Convolution result:\", result)\n",
    "result.max()\n"
   ]
  },
  {
   "cell_type": "code",
   "execution_count": null,
   "metadata": {},
   "outputs": [
    {
     "data": {
      "text/plain": [
       "18.0"
      ]
     },
     "execution_count": 17,
     "metadata": {},
     "output_type": "execute_result"
    }
   ],
   "source": [
    "#teste\n",
    "two_d = np.array([\n",
    "    [1,2],\n",
    "    [3,4]\n",
    "])\n",
    "\n",
    "np.mean([np.correlate(\n",
    "    np.array([1,2,3,4]),\n",
    "    row\n",
    ").max() for row in two_d])"
   ]
  },
  {
   "cell_type": "markdown",
   "metadata": {},
   "source": [
    "## Reunião 16/02\n",
    "\n",
    "*verificar se é bom ou não o uso de algoritmos genéticos\n",
    "\n",
    "*comparar com a geração simples de signature pela média do dataframe\n",
    "\n",
    "*ver os transformers\n",
    "\n",
    "*ver se tem mais classificadores interessantes\n",
    "\n",
    "*M2 do Leonardo"
   ]
  },
  {
   "cell_type": "markdown",
   "metadata": {},
   "source": []
  },
  {
   "cell_type": "code",
   "execution_count": null,
   "metadata": {},
   "outputs": [],
   "source": [
    "import numpy as np\n",
    "import matplotlib.pyplot as plt\n",
    "\n",
    "df_filtrado = df[(df['country'] == 0) & (df['city'] == 0) & (df['category'] == 1)]\n",
    "df_teste = df_filtrado.drop(columns=['id','country', 'city', 'category'])\n",
    "\n",
    "column_means = np.mean(df_teste, axis=0)\n",
    "\n",
    "plt.figure(figsize=(10, 6))\n",
    "plt.plot(range(1, 25), column_means)\n",
    "\n",
    "plt.xlabel('Column')\n",
    "plt.ylabel('Mean')\n",
    "plt.title('Mean of p=0 c=0 cat=0')\n",
    "\n",
    "plt.show()"
   ]
  },
  {
   "cell_type": "code",
   "execution_count": null,
   "metadata": {},
   "outputs": [],
   "source": [
    "def extract_avg(country, city, cat):\n",
    "    df_filtrado = df[(df['country'] == country) & (df['city'] == city) & (df['category'] == cat)]\n",
    "    df_teste = df_filtrado.drop(columns=['id','country', 'city', 'category'])\n",
    "    column_means = np.mean(df_teste, axis=0)\n",
    "    return column_means"
   ]
  },
  {
   "cell_type": "code",
   "execution_count": null,
   "metadata": {},
   "outputs": [],
   "source": [
    "X_test_new = np.array([\n",
    "    extract_avg(0,0,0),\n",
    "    extract_avg(0,0,1),\n",
    "    extract_avg(0,0,2),\n",
    "    extract_avg(0,0,3),\n",
    "    extract_avg(0,0,4)\n",
    "    ])"
   ]
  },
  {
   "cell_type": "code",
   "execution_count": null,
   "metadata": {},
   "outputs": [
    {
     "data": {
      "text/plain": [
       "torch.Size([5, 1, 24])"
      ]
     },
     "execution_count": 353,
     "metadata": {},
     "output_type": "execute_result"
    }
   ],
   "source": [
    "X_test_tensor_new = torch.tensor(np.expand_dims(X_test_new, axis=1), dtype=torch.float32)\n",
    "X_test_tensor_new.shape"
   ]
  },
  {
   "cell_type": "code",
   "execution_count": null,
   "metadata": {},
   "outputs": [],
   "source": [
    "y_test_new = [0,1,2,3,4]"
   ]
  },
  {
   "cell_type": "markdown",
   "metadata": {},
   "source": [
    "## New Hydra"
   ]
  },
  {
   "cell_type": "code",
   "execution_count": null,
   "metadata": {},
   "outputs": [
    {
     "name": "stdout",
     "output_type": "stream",
     "text": [
      "0.8\n",
      "0.7333333333333333\n"
     ]
    }
   ],
   "source": [
    "from hydra import Hydra, SparseScaler\n",
    "from sklearn.linear_model import RidgeClassifierCV\n",
    "\n",
    "X_test_transform_new = transform(X_test_tensor_new)\n",
    "\n",
    "X_test_transform_new = scaler.transform(X_test_transform_new)\n",
    "\n",
    "hydra_pred_new = hydra_classifier.predict(X_test_transform_new)\n",
    "\n",
    "print(accuracy_score(y_test_new, hydra_pred_new))\n",
    "print(f1_score(y_test_new, hydra_pred_new, average='weighted'))"
   ]
  }
 ],
 "metadata": {
  "kernelspec": {
   "display_name": "base",
   "language": "python",
   "name": "python3"
  },
  "language_info": {
   "codemirror_mode": {
    "name": "ipython",
    "version": 3
   },
   "file_extension": ".py",
   "mimetype": "text/x-python",
   "name": "python",
   "nbconvert_exporter": "python",
   "pygments_lexer": "ipython3",
   "version": "3.9.6"
  }
 },
 "nbformat": 4,
 "nbformat_minor": 2
}
