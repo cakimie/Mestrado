{
 "cells": [
  {
   "cell_type": "markdown",
   "metadata": {},
   "source": [
    "## weekdays_datasets"
   ]
  },
  {
   "cell_type": "code",
   "execution_count": 3,
   "metadata": {},
   "outputs": [
    {
     "name": "stdout",
     "output_type": "stream",
     "text": [
      "['/Users/carolina/Desktop/Mestrado', '/Users/carolina/anaconda3/lib/python310.zip', '/Users/carolina/anaconda3/lib/python3.10', '/Users/carolina/anaconda3/lib/python3.10/lib-dynload', '', '/Users/carolina/anaconda3/lib/python3.10/site-packages', '/Users/carolina/anaconda3/lib/python3.10/site-packages/PyQt5_sip-12.11.0-py3.10-macosx-10.9-x86_64.egg', '/Users/carolina/anaconda3/lib/python3.10/site-packages/aeosa', '/Users/carolina/anaconda3/lib/python3.10/site-packages/mpmath-1.2.1-py3.10.egg', '/Users/carolina/anaconda3/lib/python3.10/site-packages/pycurl-7.45.1-py3.10-macosx-10.9-x86_64.egg', './MultiRocket']\n"
     ]
    }
   ],
   "source": [
    "import pandas as pd\n",
    "import numpy as np\n",
    "import sys\n",
    "import os\n",
    "\n",
    "# Allows importing modules defined inside the project directory:\n",
    "path = os.path.abspath(os.path.curdir)\n",
    "while len(path) > 1 and not path.endswith('Mestrado'):\n",
    "    path = os.path.abspath(os.path.join(path, '..'))\n",
    "if path not in sys.path:\n",
    "    sys.path.append(path)\n",
    "sys.path.append('./MultiRocket')\n",
    "print(sys.path)\n"
   ]
  },
  {
   "cell_type": "code",
   "execution_count": 4,
   "metadata": {},
   "outputs": [],
   "source": [
    "df = pd.read_csv('weekdays_datasets/df_timeseries.csv')"
   ]
  },
  {
   "cell_type": "markdown",
   "metadata": {},
   "source": [
    "Colunas CSV em weekdays_dataset.zip\n",
    "\n",
    "h00-h23: Faixa de popularidade (0-1) entre meia-noite e onze da noite\n",
    "\n",
    "country: 0 - Brasil, 1 - Estados Unidos\n",
    "\n",
    "city: 0 - Curitiba, 1 - Rio de Janeiro, 2 - São Paulo, 0 - Chicago, 1 - New York, 2 - San Francisco\n",
    "\n",
    "category: 0 - bakeries, 1 - bars, 2 - coffee, 3 - dance clubs, 4 - restaurants"
   ]
  },
  {
   "cell_type": "code",
   "execution_count": 5,
   "metadata": {},
   "outputs": [
    {
     "data": {
      "text/html": [
       "<div>\n",
       "<style scoped>\n",
       "    .dataframe tbody tr th:only-of-type {\n",
       "        vertical-align: middle;\n",
       "    }\n",
       "\n",
       "    .dataframe tbody tr th {\n",
       "        vertical-align: top;\n",
       "    }\n",
       "\n",
       "    .dataframe thead th {\n",
       "        text-align: right;\n",
       "    }\n",
       "</style>\n",
       "<table border=\"1\" class=\"dataframe\">\n",
       "  <thead>\n",
       "    <tr style=\"text-align: right;\">\n",
       "      <th></th>\n",
       "      <th>id</th>\n",
       "      <th>h00</th>\n",
       "      <th>h01</th>\n",
       "      <th>h02</th>\n",
       "      <th>h03</th>\n",
       "      <th>h04</th>\n",
       "      <th>h05</th>\n",
       "      <th>h06</th>\n",
       "      <th>h07</th>\n",
       "      <th>h08</th>\n",
       "      <th>...</th>\n",
       "      <th>h17</th>\n",
       "      <th>h18</th>\n",
       "      <th>h19</th>\n",
       "      <th>h20</th>\n",
       "      <th>h21</th>\n",
       "      <th>h22</th>\n",
       "      <th>h23</th>\n",
       "      <th>country</th>\n",
       "      <th>city</th>\n",
       "      <th>category</th>\n",
       "    </tr>\n",
       "  </thead>\n",
       "  <tbody>\n",
       "    <tr>\n",
       "      <th>0</th>\n",
       "      <td>0</td>\n",
       "      <td>0.000000</td>\n",
       "      <td>0.000000</td>\n",
       "      <td>0.0</td>\n",
       "      <td>0.0</td>\n",
       "      <td>0.0</td>\n",
       "      <td>0.0</td>\n",
       "      <td>0.000000</td>\n",
       "      <td>0.000000</td>\n",
       "      <td>0.000000</td>\n",
       "      <td>...</td>\n",
       "      <td>0.347754</td>\n",
       "      <td>0.522437</td>\n",
       "      <td>0.940441</td>\n",
       "      <td>0.823425</td>\n",
       "      <td>0.000000</td>\n",
       "      <td>0.000000</td>\n",
       "      <td>0.000000</td>\n",
       "      <td>0.0</td>\n",
       "      <td>0.0</td>\n",
       "      <td>0.0</td>\n",
       "    </tr>\n",
       "    <tr>\n",
       "      <th>1</th>\n",
       "      <td>1</td>\n",
       "      <td>0.000000</td>\n",
       "      <td>0.000000</td>\n",
       "      <td>0.0</td>\n",
       "      <td>0.0</td>\n",
       "      <td>0.0</td>\n",
       "      <td>0.0</td>\n",
       "      <td>0.000000</td>\n",
       "      <td>0.000000</td>\n",
       "      <td>0.000000</td>\n",
       "      <td>...</td>\n",
       "      <td>0.320058</td>\n",
       "      <td>0.212006</td>\n",
       "      <td>0.212006</td>\n",
       "      <td>0.212006</td>\n",
       "      <td>0.000000</td>\n",
       "      <td>0.000000</td>\n",
       "      <td>0.000000</td>\n",
       "      <td>0.0</td>\n",
       "      <td>0.0</td>\n",
       "      <td>0.0</td>\n",
       "    </tr>\n",
       "    <tr>\n",
       "      <th>2</th>\n",
       "      <td>2</td>\n",
       "      <td>0.000000</td>\n",
       "      <td>0.000000</td>\n",
       "      <td>0.0</td>\n",
       "      <td>0.0</td>\n",
       "      <td>0.0</td>\n",
       "      <td>0.0</td>\n",
       "      <td>0.000000</td>\n",
       "      <td>0.000000</td>\n",
       "      <td>0.000000</td>\n",
       "      <td>...</td>\n",
       "      <td>0.805263</td>\n",
       "      <td>0.483633</td>\n",
       "      <td>0.000000</td>\n",
       "      <td>0.000000</td>\n",
       "      <td>0.000000</td>\n",
       "      <td>0.000000</td>\n",
       "      <td>0.000000</td>\n",
       "      <td>0.0</td>\n",
       "      <td>0.0</td>\n",
       "      <td>0.0</td>\n",
       "    </tr>\n",
       "    <tr>\n",
       "      <th>3</th>\n",
       "      <td>3</td>\n",
       "      <td>0.000000</td>\n",
       "      <td>0.000000</td>\n",
       "      <td>0.0</td>\n",
       "      <td>0.0</td>\n",
       "      <td>0.0</td>\n",
       "      <td>0.0</td>\n",
       "      <td>0.080787</td>\n",
       "      <td>0.303251</td>\n",
       "      <td>0.519247</td>\n",
       "      <td>...</td>\n",
       "      <td>0.986970</td>\n",
       "      <td>0.917125</td>\n",
       "      <td>0.562874</td>\n",
       "      <td>0.378466</td>\n",
       "      <td>0.000000</td>\n",
       "      <td>0.000000</td>\n",
       "      <td>0.000000</td>\n",
       "      <td>0.0</td>\n",
       "      <td>0.0</td>\n",
       "      <td>0.0</td>\n",
       "    </tr>\n",
       "    <tr>\n",
       "      <th>4</th>\n",
       "      <td>4</td>\n",
       "      <td>0.000000</td>\n",
       "      <td>0.000000</td>\n",
       "      <td>0.0</td>\n",
       "      <td>0.0</td>\n",
       "      <td>0.0</td>\n",
       "      <td>0.0</td>\n",
       "      <td>0.000000</td>\n",
       "      <td>0.060529</td>\n",
       "      <td>0.172893</td>\n",
       "      <td>...</td>\n",
       "      <td>0.878997</td>\n",
       "      <td>0.994609</td>\n",
       "      <td>0.901742</td>\n",
       "      <td>0.667729</td>\n",
       "      <td>0.387283</td>\n",
       "      <td>0.000000</td>\n",
       "      <td>0.000000</td>\n",
       "      <td>0.0</td>\n",
       "      <td>0.0</td>\n",
       "      <td>0.0</td>\n",
       "    </tr>\n",
       "    <tr>\n",
       "      <th>...</th>\n",
       "      <td>...</td>\n",
       "      <td>...</td>\n",
       "      <td>...</td>\n",
       "      <td>...</td>\n",
       "      <td>...</td>\n",
       "      <td>...</td>\n",
       "      <td>...</td>\n",
       "      <td>...</td>\n",
       "      <td>...</td>\n",
       "      <td>...</td>\n",
       "      <td>...</td>\n",
       "      <td>...</td>\n",
       "      <td>...</td>\n",
       "      <td>...</td>\n",
       "      <td>...</td>\n",
       "      <td>...</td>\n",
       "      <td>...</td>\n",
       "      <td>...</td>\n",
       "      <td>...</td>\n",
       "      <td>...</td>\n",
       "      <td>...</td>\n",
       "    </tr>\n",
       "    <tr>\n",
       "      <th>12699</th>\n",
       "      <td>12699</td>\n",
       "      <td>0.000000</td>\n",
       "      <td>0.000000</td>\n",
       "      <td>0.0</td>\n",
       "      <td>0.0</td>\n",
       "      <td>0.0</td>\n",
       "      <td>0.0</td>\n",
       "      <td>0.000000</td>\n",
       "      <td>0.000000</td>\n",
       "      <td>0.000000</td>\n",
       "      <td>...</td>\n",
       "      <td>0.430487</td>\n",
       "      <td>0.759348</td>\n",
       "      <td>0.991525</td>\n",
       "      <td>0.870099</td>\n",
       "      <td>0.588773</td>\n",
       "      <td>0.000000</td>\n",
       "      <td>0.000000</td>\n",
       "      <td>1.0</td>\n",
       "      <td>4.0</td>\n",
       "      <td>4.0</td>\n",
       "    </tr>\n",
       "    <tr>\n",
       "      <th>12700</th>\n",
       "      <td>12700</td>\n",
       "      <td>0.000000</td>\n",
       "      <td>0.000000</td>\n",
       "      <td>0.0</td>\n",
       "      <td>0.0</td>\n",
       "      <td>0.0</td>\n",
       "      <td>0.0</td>\n",
       "      <td>0.000000</td>\n",
       "      <td>0.000000</td>\n",
       "      <td>0.000000</td>\n",
       "      <td>...</td>\n",
       "      <td>0.192508</td>\n",
       "      <td>0.564814</td>\n",
       "      <td>0.973335</td>\n",
       "      <td>0.966669</td>\n",
       "      <td>0.548366</td>\n",
       "      <td>0.000000</td>\n",
       "      <td>0.000000</td>\n",
       "      <td>1.0</td>\n",
       "      <td>4.0</td>\n",
       "      <td>4.0</td>\n",
       "    </tr>\n",
       "    <tr>\n",
       "      <th>12701</th>\n",
       "      <td>12701</td>\n",
       "      <td>0.000000</td>\n",
       "      <td>0.000000</td>\n",
       "      <td>0.0</td>\n",
       "      <td>0.0</td>\n",
       "      <td>0.0</td>\n",
       "      <td>0.0</td>\n",
       "      <td>0.000000</td>\n",
       "      <td>0.000000</td>\n",
       "      <td>0.000000</td>\n",
       "      <td>...</td>\n",
       "      <td>0.571624</td>\n",
       "      <td>0.201609</td>\n",
       "      <td>0.144007</td>\n",
       "      <td>0.334674</td>\n",
       "      <td>0.000000</td>\n",
       "      <td>0.000000</td>\n",
       "      <td>0.000000</td>\n",
       "      <td>1.0</td>\n",
       "      <td>4.0</td>\n",
       "      <td>4.0</td>\n",
       "    </tr>\n",
       "    <tr>\n",
       "      <th>12702</th>\n",
       "      <td>12702</td>\n",
       "      <td>0.474252</td>\n",
       "      <td>0.256943</td>\n",
       "      <td>0.0</td>\n",
       "      <td>0.0</td>\n",
       "      <td>0.0</td>\n",
       "      <td>0.0</td>\n",
       "      <td>0.000000</td>\n",
       "      <td>0.000000</td>\n",
       "      <td>0.000000</td>\n",
       "      <td>...</td>\n",
       "      <td>0.341396</td>\n",
       "      <td>0.630530</td>\n",
       "      <td>0.810973</td>\n",
       "      <td>0.971333</td>\n",
       "      <td>1.000000</td>\n",
       "      <td>0.897192</td>\n",
       "      <td>0.743494</td>\n",
       "      <td>1.0</td>\n",
       "      <td>4.0</td>\n",
       "      <td>4.0</td>\n",
       "    </tr>\n",
       "    <tr>\n",
       "      <th>12703</th>\n",
       "      <td>12703</td>\n",
       "      <td>0.000000</td>\n",
       "      <td>0.000000</td>\n",
       "      <td>0.0</td>\n",
       "      <td>0.0</td>\n",
       "      <td>0.0</td>\n",
       "      <td>0.0</td>\n",
       "      <td>0.000000</td>\n",
       "      <td>0.000000</td>\n",
       "      <td>0.000000</td>\n",
       "      <td>...</td>\n",
       "      <td>0.341672</td>\n",
       "      <td>0.531967</td>\n",
       "      <td>0.812802</td>\n",
       "      <td>0.982816</td>\n",
       "      <td>0.000000</td>\n",
       "      <td>0.000000</td>\n",
       "      <td>0.000000</td>\n",
       "      <td>1.0</td>\n",
       "      <td>4.0</td>\n",
       "      <td>4.0</td>\n",
       "    </tr>\n",
       "  </tbody>\n",
       "</table>\n",
       "<p>12704 rows × 28 columns</p>\n",
       "</div>"
      ],
      "text/plain": [
       "          id       h00       h01  h02  h03  h04  h05       h06       h07  \\\n",
       "0          0  0.000000  0.000000  0.0  0.0  0.0  0.0  0.000000  0.000000   \n",
       "1          1  0.000000  0.000000  0.0  0.0  0.0  0.0  0.000000  0.000000   \n",
       "2          2  0.000000  0.000000  0.0  0.0  0.0  0.0  0.000000  0.000000   \n",
       "3          3  0.000000  0.000000  0.0  0.0  0.0  0.0  0.080787  0.303251   \n",
       "4          4  0.000000  0.000000  0.0  0.0  0.0  0.0  0.000000  0.060529   \n",
       "...      ...       ...       ...  ...  ...  ...  ...       ...       ...   \n",
       "12699  12699  0.000000  0.000000  0.0  0.0  0.0  0.0  0.000000  0.000000   \n",
       "12700  12700  0.000000  0.000000  0.0  0.0  0.0  0.0  0.000000  0.000000   \n",
       "12701  12701  0.000000  0.000000  0.0  0.0  0.0  0.0  0.000000  0.000000   \n",
       "12702  12702  0.474252  0.256943  0.0  0.0  0.0  0.0  0.000000  0.000000   \n",
       "12703  12703  0.000000  0.000000  0.0  0.0  0.0  0.0  0.000000  0.000000   \n",
       "\n",
       "            h08  ...       h17       h18       h19       h20       h21  \\\n",
       "0      0.000000  ...  0.347754  0.522437  0.940441  0.823425  0.000000   \n",
       "1      0.000000  ...  0.320058  0.212006  0.212006  0.212006  0.000000   \n",
       "2      0.000000  ...  0.805263  0.483633  0.000000  0.000000  0.000000   \n",
       "3      0.519247  ...  0.986970  0.917125  0.562874  0.378466  0.000000   \n",
       "4      0.172893  ...  0.878997  0.994609  0.901742  0.667729  0.387283   \n",
       "...         ...  ...       ...       ...       ...       ...       ...   \n",
       "12699  0.000000  ...  0.430487  0.759348  0.991525  0.870099  0.588773   \n",
       "12700  0.000000  ...  0.192508  0.564814  0.973335  0.966669  0.548366   \n",
       "12701  0.000000  ...  0.571624  0.201609  0.144007  0.334674  0.000000   \n",
       "12702  0.000000  ...  0.341396  0.630530  0.810973  0.971333  1.000000   \n",
       "12703  0.000000  ...  0.341672  0.531967  0.812802  0.982816  0.000000   \n",
       "\n",
       "            h22       h23  country  city  category  \n",
       "0      0.000000  0.000000      0.0   0.0       0.0  \n",
       "1      0.000000  0.000000      0.0   0.0       0.0  \n",
       "2      0.000000  0.000000      0.0   0.0       0.0  \n",
       "3      0.000000  0.000000      0.0   0.0       0.0  \n",
       "4      0.000000  0.000000      0.0   0.0       0.0  \n",
       "...         ...       ...      ...   ...       ...  \n",
       "12699  0.000000  0.000000      1.0   4.0       4.0  \n",
       "12700  0.000000  0.000000      1.0   4.0       4.0  \n",
       "12701  0.000000  0.000000      1.0   4.0       4.0  \n",
       "12702  0.897192  0.743494      1.0   4.0       4.0  \n",
       "12703  0.000000  0.000000      1.0   4.0       4.0  \n",
       "\n",
       "[12704 rows x 28 columns]"
      ]
     },
     "execution_count": 5,
     "metadata": {},
     "output_type": "execute_result"
    }
   ],
   "source": [
    "df"
   ]
  },
  {
   "cell_type": "code",
   "execution_count": 107,
   "metadata": {},
   "outputs": [
    {
     "name": "stdout",
     "output_type": "stream",
     "text": [
      "(816, 24) (273, 24)\n"
     ]
    }
   ],
   "source": [
    "from sklearn.model_selection import train_test_split\n",
    "\n",
    "def extract_x_y(df, country, city,category=None):\n",
    "    if category is None:\n",
    "        filtered_df = df[(df['country'] == country) & (df['city'] == city)]\n",
    "    else:\n",
    "        filtered_df = df[(df['country'] == country) & (df['city'] == city) & (df['category'] == category)]\n",
    "\n",
    "    df_x = filtered_df.drop(columns=['id','country', 'city', 'category'])\n",
    "\n",
    "    return np.array(df_x),np.array(filtered_df['category'])\n",
    "\n",
    "X, y = extract_x_y(df,0,0)\n",
    "X_train, X_test, y_train, y_test = train_test_split(X, y)\n",
    "print(X_train.shape, X_test.shape)"
   ]
  },
  {
   "cell_type": "code",
   "execution_count": 7,
   "metadata": {},
   "outputs": [
    {
     "data": {
      "text/html": [
       "<div>\n",
       "<style scoped>\n",
       "    .dataframe tbody tr th:only-of-type {\n",
       "        vertical-align: middle;\n",
       "    }\n",
       "\n",
       "    .dataframe tbody tr th {\n",
       "        vertical-align: top;\n",
       "    }\n",
       "\n",
       "    .dataframe thead th {\n",
       "        text-align: right;\n",
       "    }\n",
       "</style>\n",
       "<table border=\"1\" class=\"dataframe\">\n",
       "  <thead>\n",
       "    <tr style=\"text-align: right;\">\n",
       "      <th></th>\n",
       "      <th>id</th>\n",
       "      <th>h00</th>\n",
       "      <th>h01</th>\n",
       "      <th>h02</th>\n",
       "      <th>h03</th>\n",
       "      <th>h04</th>\n",
       "      <th>h05</th>\n",
       "      <th>h06</th>\n",
       "      <th>h07</th>\n",
       "      <th>h08</th>\n",
       "      <th>...</th>\n",
       "      <th>h17</th>\n",
       "      <th>h18</th>\n",
       "      <th>h19</th>\n",
       "      <th>h20</th>\n",
       "      <th>h21</th>\n",
       "      <th>h22</th>\n",
       "      <th>h23</th>\n",
       "      <th>country</th>\n",
       "      <th>city</th>\n",
       "      <th>category</th>\n",
       "    </tr>\n",
       "  </thead>\n",
       "  <tbody>\n",
       "    <tr>\n",
       "      <th>0</th>\n",
       "      <td>0</td>\n",
       "      <td>0.000000</td>\n",
       "      <td>0.000000</td>\n",
       "      <td>0.000000</td>\n",
       "      <td>0.00000</td>\n",
       "      <td>0.00000</td>\n",
       "      <td>0.000000</td>\n",
       "      <td>0.000000</td>\n",
       "      <td>0.000000</td>\n",
       "      <td>0.000119</td>\n",
       "      <td>...</td>\n",
       "      <td>0.896498</td>\n",
       "      <td>0.808148</td>\n",
       "      <td>0.462531</td>\n",
       "      <td>0.010060</td>\n",
       "      <td>0.000000</td>\n",
       "      <td>0.000000</td>\n",
       "      <td>0.000000</td>\n",
       "      <td>0.0</td>\n",
       "      <td>0.0</td>\n",
       "      <td>0.0</td>\n",
       "    </tr>\n",
       "    <tr>\n",
       "      <th>1</th>\n",
       "      <td>1</td>\n",
       "      <td>0.000000</td>\n",
       "      <td>0.000000</td>\n",
       "      <td>0.000000</td>\n",
       "      <td>0.00000</td>\n",
       "      <td>0.00000</td>\n",
       "      <td>0.000000</td>\n",
       "      <td>0.003126</td>\n",
       "      <td>0.031889</td>\n",
       "      <td>0.234067</td>\n",
       "      <td>...</td>\n",
       "      <td>0.677492</td>\n",
       "      <td>0.475074</td>\n",
       "      <td>0.385600</td>\n",
       "      <td>0.248011</td>\n",
       "      <td>0.017268</td>\n",
       "      <td>0.000000</td>\n",
       "      <td>0.000000</td>\n",
       "      <td>0.0</td>\n",
       "      <td>0.0</td>\n",
       "      <td>0.0</td>\n",
       "    </tr>\n",
       "    <tr>\n",
       "      <th>2</th>\n",
       "      <td>2</td>\n",
       "      <td>0.000000</td>\n",
       "      <td>0.000000</td>\n",
       "      <td>0.000000</td>\n",
       "      <td>0.00000</td>\n",
       "      <td>0.00000</td>\n",
       "      <td>0.000000</td>\n",
       "      <td>0.000174</td>\n",
       "      <td>0.009180</td>\n",
       "      <td>0.138568</td>\n",
       "      <td>...</td>\n",
       "      <td>0.972788</td>\n",
       "      <td>0.965489</td>\n",
       "      <td>0.831592</td>\n",
       "      <td>0.573811</td>\n",
       "      <td>0.275817</td>\n",
       "      <td>0.002511</td>\n",
       "      <td>0.000106</td>\n",
       "      <td>0.0</td>\n",
       "      <td>0.0</td>\n",
       "      <td>0.0</td>\n",
       "    </tr>\n",
       "    <tr>\n",
       "      <th>3</th>\n",
       "      <td>3</td>\n",
       "      <td>0.000000</td>\n",
       "      <td>0.000000</td>\n",
       "      <td>0.000000</td>\n",
       "      <td>0.00000</td>\n",
       "      <td>0.00000</td>\n",
       "      <td>0.000000</td>\n",
       "      <td>0.001596</td>\n",
       "      <td>0.043055</td>\n",
       "      <td>0.531299</td>\n",
       "      <td>...</td>\n",
       "      <td>0.775702</td>\n",
       "      <td>0.628683</td>\n",
       "      <td>0.533388</td>\n",
       "      <td>0.353358</td>\n",
       "      <td>0.008911</td>\n",
       "      <td>0.000000</td>\n",
       "      <td>0.000000</td>\n",
       "      <td>0.0</td>\n",
       "      <td>0.0</td>\n",
       "      <td>0.0</td>\n",
       "    </tr>\n",
       "    <tr>\n",
       "      <th>4</th>\n",
       "      <td>4</td>\n",
       "      <td>0.000000</td>\n",
       "      <td>0.000000</td>\n",
       "      <td>0.000000</td>\n",
       "      <td>0.00000</td>\n",
       "      <td>0.00000</td>\n",
       "      <td>0.000467</td>\n",
       "      <td>0.015091</td>\n",
       "      <td>0.179335</td>\n",
       "      <td>0.768777</td>\n",
       "      <td>...</td>\n",
       "      <td>0.412289</td>\n",
       "      <td>0.603218</td>\n",
       "      <td>0.448638</td>\n",
       "      <td>0.349549</td>\n",
       "      <td>0.154791</td>\n",
       "      <td>0.030829</td>\n",
       "      <td>0.000874</td>\n",
       "      <td>0.0</td>\n",
       "      <td>0.0</td>\n",
       "      <td>0.0</td>\n",
       "    </tr>\n",
       "    <tr>\n",
       "      <th>...</th>\n",
       "      <td>...</td>\n",
       "      <td>...</td>\n",
       "      <td>...</td>\n",
       "      <td>...</td>\n",
       "      <td>...</td>\n",
       "      <td>...</td>\n",
       "      <td>...</td>\n",
       "      <td>...</td>\n",
       "      <td>...</td>\n",
       "      <td>...</td>\n",
       "      <td>...</td>\n",
       "      <td>...</td>\n",
       "      <td>...</td>\n",
       "      <td>...</td>\n",
       "      <td>...</td>\n",
       "      <td>...</td>\n",
       "      <td>...</td>\n",
       "      <td>...</td>\n",
       "      <td>...</td>\n",
       "      <td>...</td>\n",
       "      <td>...</td>\n",
       "    </tr>\n",
       "    <tr>\n",
       "      <th>66</th>\n",
       "      <td>66</td>\n",
       "      <td>0.497889</td>\n",
       "      <td>0.302093</td>\n",
       "      <td>0.001882</td>\n",
       "      <td>0.00000</td>\n",
       "      <td>0.00000</td>\n",
       "      <td>0.000000</td>\n",
       "      <td>0.000000</td>\n",
       "      <td>0.000000</td>\n",
       "      <td>0.000000</td>\n",
       "      <td>...</td>\n",
       "      <td>0.000000</td>\n",
       "      <td>0.000041</td>\n",
       "      <td>0.005409</td>\n",
       "      <td>0.075049</td>\n",
       "      <td>0.140844</td>\n",
       "      <td>0.265839</td>\n",
       "      <td>0.581515</td>\n",
       "      <td>1.0</td>\n",
       "      <td>4.0</td>\n",
       "      <td>3.0</td>\n",
       "    </tr>\n",
       "    <tr>\n",
       "      <th>67</th>\n",
       "      <td>67</td>\n",
       "      <td>0.804521</td>\n",
       "      <td>0.541695</td>\n",
       "      <td>0.005939</td>\n",
       "      <td>0.00000</td>\n",
       "      <td>0.00000</td>\n",
       "      <td>0.000000</td>\n",
       "      <td>0.000000</td>\n",
       "      <td>0.000000</td>\n",
       "      <td>0.000000</td>\n",
       "      <td>...</td>\n",
       "      <td>0.076270</td>\n",
       "      <td>0.183042</td>\n",
       "      <td>0.224729</td>\n",
       "      <td>0.324142</td>\n",
       "      <td>0.479679</td>\n",
       "      <td>0.725018</td>\n",
       "      <td>0.896602</td>\n",
       "      <td>1.0</td>\n",
       "      <td>4.0</td>\n",
       "      <td>3.0</td>\n",
       "    </tr>\n",
       "    <tr>\n",
       "      <th>68</th>\n",
       "      <td>68</td>\n",
       "      <td>0.518485</td>\n",
       "      <td>0.394968</td>\n",
       "      <td>0.019825</td>\n",
       "      <td>0.00000</td>\n",
       "      <td>0.00000</td>\n",
       "      <td>0.000000</td>\n",
       "      <td>0.000000</td>\n",
       "      <td>0.000000</td>\n",
       "      <td>0.000000</td>\n",
       "      <td>...</td>\n",
       "      <td>0.556677</td>\n",
       "      <td>0.665041</td>\n",
       "      <td>0.706486</td>\n",
       "      <td>0.850784</td>\n",
       "      <td>0.827417</td>\n",
       "      <td>0.919327</td>\n",
       "      <td>0.747429</td>\n",
       "      <td>1.0</td>\n",
       "      <td>4.0</td>\n",
       "      <td>3.0</td>\n",
       "    </tr>\n",
       "    <tr>\n",
       "      <th>69</th>\n",
       "      <td>69</td>\n",
       "      <td>0.024066</td>\n",
       "      <td>0.000008</td>\n",
       "      <td>0.000000</td>\n",
       "      <td>0.00000</td>\n",
       "      <td>0.00002</td>\n",
       "      <td>0.000000</td>\n",
       "      <td>0.000000</td>\n",
       "      <td>0.000000</td>\n",
       "      <td>0.002157</td>\n",
       "      <td>...</td>\n",
       "      <td>0.327476</td>\n",
       "      <td>0.501589</td>\n",
       "      <td>0.829388</td>\n",
       "      <td>0.633860</td>\n",
       "      <td>0.500545</td>\n",
       "      <td>0.039253</td>\n",
       "      <td>0.019268</td>\n",
       "      <td>1.0</td>\n",
       "      <td>4.0</td>\n",
       "      <td>4.0</td>\n",
       "    </tr>\n",
       "    <tr>\n",
       "      <th>70</th>\n",
       "      <td>70</td>\n",
       "      <td>0.042649</td>\n",
       "      <td>0.000410</td>\n",
       "      <td>0.000041</td>\n",
       "      <td>0.00001</td>\n",
       "      <td>0.00000</td>\n",
       "      <td>0.000000</td>\n",
       "      <td>0.000000</td>\n",
       "      <td>0.000000</td>\n",
       "      <td>0.000055</td>\n",
       "      <td>...</td>\n",
       "      <td>0.015850</td>\n",
       "      <td>0.079399</td>\n",
       "      <td>0.402822</td>\n",
       "      <td>0.847623</td>\n",
       "      <td>0.546787</td>\n",
       "      <td>0.089079</td>\n",
       "      <td>0.064854</td>\n",
       "      <td>1.0</td>\n",
       "      <td>4.0</td>\n",
       "      <td>4.0</td>\n",
       "    </tr>\n",
       "  </tbody>\n",
       "</table>\n",
       "<p>71 rows × 28 columns</p>\n",
       "</div>"
      ],
      "text/plain": [
       "    id       h00       h01       h02      h03      h04       h05       h06  \\\n",
       "0    0  0.000000  0.000000  0.000000  0.00000  0.00000  0.000000  0.000000   \n",
       "1    1  0.000000  0.000000  0.000000  0.00000  0.00000  0.000000  0.003126   \n",
       "2    2  0.000000  0.000000  0.000000  0.00000  0.00000  0.000000  0.000174   \n",
       "3    3  0.000000  0.000000  0.000000  0.00000  0.00000  0.000000  0.001596   \n",
       "4    4  0.000000  0.000000  0.000000  0.00000  0.00000  0.000467  0.015091   \n",
       "..  ..       ...       ...       ...      ...      ...       ...       ...   \n",
       "66  66  0.497889  0.302093  0.001882  0.00000  0.00000  0.000000  0.000000   \n",
       "67  67  0.804521  0.541695  0.005939  0.00000  0.00000  0.000000  0.000000   \n",
       "68  68  0.518485  0.394968  0.019825  0.00000  0.00000  0.000000  0.000000   \n",
       "69  69  0.024066  0.000008  0.000000  0.00000  0.00002  0.000000  0.000000   \n",
       "70  70  0.042649  0.000410  0.000041  0.00001  0.00000  0.000000  0.000000   \n",
       "\n",
       "         h07       h08  ...       h17       h18       h19       h20       h21  \\\n",
       "0   0.000000  0.000119  ...  0.896498  0.808148  0.462531  0.010060  0.000000   \n",
       "1   0.031889  0.234067  ...  0.677492  0.475074  0.385600  0.248011  0.017268   \n",
       "2   0.009180  0.138568  ...  0.972788  0.965489  0.831592  0.573811  0.275817   \n",
       "3   0.043055  0.531299  ...  0.775702  0.628683  0.533388  0.353358  0.008911   \n",
       "4   0.179335  0.768777  ...  0.412289  0.603218  0.448638  0.349549  0.154791   \n",
       "..       ...       ...  ...       ...       ...       ...       ...       ...   \n",
       "66  0.000000  0.000000  ...  0.000000  0.000041  0.005409  0.075049  0.140844   \n",
       "67  0.000000  0.000000  ...  0.076270  0.183042  0.224729  0.324142  0.479679   \n",
       "68  0.000000  0.000000  ...  0.556677  0.665041  0.706486  0.850784  0.827417   \n",
       "69  0.000000  0.002157  ...  0.327476  0.501589  0.829388  0.633860  0.500545   \n",
       "70  0.000000  0.000055  ...  0.015850  0.079399  0.402822  0.847623  0.546787   \n",
       "\n",
       "         h22       h23  country  city  category  \n",
       "0   0.000000  0.000000      0.0   0.0       0.0  \n",
       "1   0.000000  0.000000      0.0   0.0       0.0  \n",
       "2   0.002511  0.000106      0.0   0.0       0.0  \n",
       "3   0.000000  0.000000      0.0   0.0       0.0  \n",
       "4   0.030829  0.000874      0.0   0.0       0.0  \n",
       "..       ...       ...      ...   ...       ...  \n",
       "66  0.265839  0.581515      1.0   4.0       3.0  \n",
       "67  0.725018  0.896602      1.0   4.0       3.0  \n",
       "68  0.919327  0.747429      1.0   4.0       3.0  \n",
       "69  0.039253  0.019268      1.0   4.0       4.0  \n",
       "70  0.089079  0.064854      1.0   4.0       4.0  \n",
       "\n",
       "[71 rows x 28 columns]"
      ]
     },
     "execution_count": 7,
     "metadata": {},
     "output_type": "execute_result"
    }
   ],
   "source": [
    "dfs = pd.read_csv('weekdays_datasets/df_signatures.csv')\n",
    "dfs"
   ]
  },
  {
   "cell_type": "code",
   "execution_count": 8,
   "metadata": {},
   "outputs": [
    {
     "data": {
      "text/plain": [
       "(15, 24)"
      ]
     },
     "execution_count": 8,
     "metadata": {},
     "output_type": "execute_result"
    }
   ],
   "source": [
    "Xs, ys = extract_x_y(dfs,0,0)\n",
    "Xs.shape"
   ]
  },
  {
   "cell_type": "markdown",
   "metadata": {},
   "source": [
    "HIVECOTEV2"
   ]
  },
  {
   "cell_type": "code",
   "execution_count": 18,
   "metadata": {},
   "outputs": [],
   "source": [
    "from sklearn.metrics import precision_score\n",
    "from sklearn.metrics import recall_score"
   ]
  },
  {
   "cell_type": "code",
   "execution_count": 9,
   "metadata": {},
   "outputs": [
    {
     "name": "stdout",
     "output_type": "stream",
     "text": [
      "predicting...\n",
      "results...\n",
      "0.7619047619047619\n",
      "0.7453050189201792\n"
     ]
    }
   ],
   "source": [
    "from sktime.classification.hybrid import HIVECOTEV2\n",
    "from sktime.classification.sklearn import RotationForest\n",
    "from sklearn.metrics import accuracy_score\n",
    "from sklearn.metrics import f1_score\n",
    "\n",
    "hc2_classifier = HIVECOTEV2(\n",
    "    stc_params={\n",
    "        \"estimator\": RotationForest(n_estimators=3),\n",
    "        \"n_shapelet_samples\": 100,\n",
    "        \"max_shapelets\": 10,\n",
    "        \"batch_size\": 20,\n",
    "    },\n",
    "    drcif_params={\"n_estimators\": 2, \"n_intervals\": 2, \"att_subsample_size\": 2},\n",
    "    arsenal_params={\"num_kernels\": 50, \"n_estimators\": 3},\n",
    "    tde_params={\n",
    "        \"n_parameter_samples\": 10,\n",
    "        \"max_ensemble_size\": 3,\n",
    "        \"randomly_selected_params\": 5,\n",
    "    },\n",
    ")\n",
    "hc2_classifier.fit(X_train, y_train)\n",
    "print(\"predicting...\")\n",
    "hc2_pred = hc2_classifier.predict(X_test)\n",
    "print(\"results...\")\n",
    "print(accuracy_score(y_test, hc2_pred))\n",
    "print(f1_score(y_test, hc2_pred, average='weighted'))"
   ]
  },
  {
   "cell_type": "code",
   "execution_count": 19,
   "metadata": {},
   "outputs": [
    {
     "name": "stdout",
     "output_type": "stream",
     "text": [
      "0.7488065017786162\n",
      "0.7619047619047619\n"
     ]
    }
   ],
   "source": [
    "print(precision_score(y_test, hc2_pred, average='weighted'))\n",
    "print(recall_score(y_test, hc2_pred, average='weighted'))"
   ]
  },
  {
   "cell_type": "markdown",
   "metadata": {},
   "source": [
    "validating signatures"
   ]
  },
  {
   "cell_type": "code",
   "execution_count": 51,
   "metadata": {},
   "outputs": [
    {
     "name": "stdout",
     "output_type": "stream",
     "text": [
      "validating signatures...\n"
     ]
    },
    {
     "data": {
      "text/plain": [
       "0.4"
      ]
     },
     "execution_count": 51,
     "metadata": {},
     "output_type": "execute_result"
    }
   ],
   "source": [
    "hc2_pred_sig = hc2_classifier.predict(Xs)\n",
    "print(\"validating signatures...\")\n",
    "accuracy_score(ys, hc2_pred_sig)"
   ]
  },
  {
   "cell_type": "markdown",
   "metadata": {},
   "source": [
    "Hydra"
   ]
  },
  {
   "cell_type": "code",
   "execution_count": 10,
   "metadata": {},
   "outputs": [
    {
     "data": {
      "text/plain": [
       "torch.Size([816, 1, 24])"
      ]
     },
     "execution_count": 10,
     "metadata": {},
     "output_type": "execute_result"
    }
   ],
   "source": [
    "import torch\n",
    "\n",
    "X_train_tensor = torch.tensor(np.expand_dims(X_train, axis=1), dtype=torch.float32)\n",
    "X_test_tensor = torch.tensor(np.expand_dims(X_test, axis=1), dtype=torch.float32)\n",
    "X_train_tensor.shape"
   ]
  },
  {
   "cell_type": "code",
   "execution_count": 11,
   "metadata": {},
   "outputs": [
    {
     "name": "stdout",
     "output_type": "stream",
     "text": [
      "0.7875457875457875\n",
      "0.7743897900319882\n"
     ]
    }
   ],
   "source": [
    "from hydra import Hydra, SparseScaler\n",
    "from sklearn.linear_model import RidgeClassifierCV\n",
    "\n",
    "transform = Hydra(X_train.shape[-1])\n",
    "\n",
    "X_training_transform = transform(X_train_tensor)\n",
    "X_test_transform = transform(X_test_tensor)\n",
    "\n",
    "scaler = SparseScaler()\n",
    "\n",
    "X_training_transform = scaler.fit_transform(X_training_transform)\n",
    "X_test_transform = scaler.transform(X_test_transform)\n",
    "\n",
    "hydra_classifier = RidgeClassifierCV(alphas = np.logspace(-3, 3, 10))\n",
    "hydra_classifier.fit(X_training_transform, y_train)\n",
    "\n",
    "hydra_pred = hydra_classifier.predict(X_test_transform)\n",
    "print(accuracy_score(y_test, hydra_pred))\n",
    "print(f1_score(y_test, hydra_pred, average='weighted'))"
   ]
  },
  {
   "cell_type": "code",
   "execution_count": 20,
   "metadata": {},
   "outputs": [
    {
     "name": "stdout",
     "output_type": "stream",
     "text": [
      "0.7748221240942406\n",
      "0.7875457875457875\n"
     ]
    },
    {
     "name": "stderr",
     "output_type": "stream",
     "text": [
      "/Users/carolina/anaconda3/lib/python3.10/site-packages/sklearn/metrics/_classification.py:1344: UndefinedMetricWarning: Precision is ill-defined and being set to 0.0 in labels with no predicted samples. Use `zero_division` parameter to control this behavior.\n",
      "  _warn_prf(average, modifier, msg_start, len(result))\n"
     ]
    }
   ],
   "source": [
    "print(precision_score(y_test, hydra_pred, average='weighted'))\n",
    "print(recall_score(y_test, hydra_pred, average='weighted'))"
   ]
  },
  {
   "cell_type": "code",
   "execution_count": 58,
   "metadata": {},
   "outputs": [
    {
     "data": {
      "text/plain": [
       "0.4"
      ]
     },
     "execution_count": 58,
     "metadata": {},
     "output_type": "execute_result"
    }
   ],
   "source": [
    "hydra_pred_sig = hydra_classifier.predict(transform(torch.tensor(np.expand_dims(Xs, axis=1), dtype=torch.float32)))\n",
    "accuracy_score(ys, hydra_pred_sig)"
   ]
  },
  {
   "cell_type": "code",
   "execution_count": 12,
   "metadata": {},
   "outputs": [
    {
     "name": "stdout",
     "output_type": "stream",
     "text": [
      "[MultiRocket] Creating MultiRocket with 6250 kernels\n",
      "[MultiRocket] Training with training set of (816, 24)\n",
      "[MultiRocket] Kernels applied!, took 1.698367197997868s\n",
      "[MultiRocket] Transformed Shape (816, 49728)\n",
      "[MultiRocket] Training\n"
     ]
    },
    {
     "name": "stderr",
     "output_type": "stream",
     "text": [
      "epoch: 0: 4it [00:00,  7.78it/s]                       \n",
      "epoch: 1: 4it [00:00, 33.08it/s]                       \n",
      "epoch: 2: 4it [00:00, 32.22it/s]                       \n",
      "epoch: 3: 4it [00:00, 33.48it/s]                       \n",
      "epoch: 4: 4it [00:00, 31.57it/s]                       \n",
      "epoch: 5: 4it [00:00, 32.46it/s]                       \n",
      "epoch: 6: 4it [00:00, 29.03it/s]                       \n",
      "epoch: 7: 4it [00:00, 30.87it/s]                       \n",
      "epoch: 8: 4it [00:00, 34.21it/s]                       \n",
      "epoch: 9: 4it [00:00, 33.36it/s]                       \n",
      "epoch: 10: 4it [00:00, 32.80it/s]                       \n",
      "epoch: 11: 4it [00:00, 30.37it/s]                       \n",
      "epoch: 12: 4it [00:00, 32.46it/s]                       \n",
      "epoch: 13: 4it [00:00, 33.81it/s]                       \n",
      "epoch: 14: 4it [00:00, 30.07it/s]                       \n",
      "epoch: 15: 4it [00:00, 30.20it/s]                       \n",
      "epoch: 16: 4it [00:00, 31.31it/s]                       \n",
      "epoch: 17: 4it [00:00, 20.46it/s]                       \n",
      "epoch: 18: 4it [00:00, 30.77it/s]                       \n",
      "epoch: 19: 4it [00:00, 31.79it/s]                       \n",
      "epoch: 20: 4it [00:00, 31.49it/s]                       \n",
      "epoch: 21: 4it [00:00, 30.22it/s]                       \n",
      "epoch: 22: 4it [00:00, 30.95it/s]                       \n",
      "epoch: 23: 4it [00:00, 30.92it/s]                       \n",
      "epoch: 24: 4it [00:00, 32.00it/s]                       \n",
      "epoch: 25: 4it [00:00, 31.73it/s]                       \n",
      "epoch: 26: 4it [00:00, 30.72it/s]                       \n"
     ]
    },
    {
     "name": "stdout",
     "output_type": "stream",
     "text": [
      "\n",
      "<Stopped at Epoch 27>\n",
      "[MultiRocket] Training done!, took 5.331s\n",
      "[MultiRocket] Predicting\n",
      "Kernels applied!, took 0.135s. Transformed shape: (273, 49728).\n",
      "[MultiRocket] Predicting completed, took 0.144s\n",
      "0.6996336996336996\n",
      "0.7078446121734016\n"
     ]
    }
   ],
   "source": [
    "from multirocket.multirocket import MultiRocket\n",
    "from sklearn.preprocessing import LabelEncoder\n",
    "\n",
    "encoder = LabelEncoder()\n",
    "y_train = encoder.fit_transform(y_train)\n",
    "y_test = encoder.transform(y_test)\n",
    "\n",
    "# returns ntc format, remove the last dimension\n",
    "X_train = X_train.reshape((X_train.shape[0], X_train.shape[1]))\n",
    "X_test = X_test.reshape((X_test.shape[0], X_test.shape[1]))\n",
    "\n",
    "nb_classes = len(np.unique(np.concatenate((y_train, y_test), axis=0)))\n",
    "\n",
    "mrocket_classifier = MultiRocket(\n",
    "    num_features=50000,\n",
    "    classifier=\"logistic\",\n",
    "    verbose=2,\n",
    ")\n",
    "yhat_train = mrocket_classifier.fit(\n",
    "    X_train, y_train,\n",
    "    predict_on_train=False\n",
    ")\n",
    "mrocket_pred = mrocket_classifier.predict(X_test)\n",
    "print(accuracy_score(y_test, mrocket_pred))\n",
    "print(f1_score(y_test, mrocket_pred, average='weighted'))"
   ]
  },
  {
   "cell_type": "code",
   "execution_count": 21,
   "metadata": {},
   "outputs": [
    {
     "name": "stdout",
     "output_type": "stream",
     "text": [
      "0.7383084602472357\n",
      "0.6996336996336996\n"
     ]
    }
   ],
   "source": [
    "print(precision_score(y_test, mrocket_pred, average='weighted'))\n",
    "print(recall_score(y_test, mrocket_pred, average='weighted'))"
   ]
  },
  {
   "cell_type": "code",
   "execution_count": 59,
   "metadata": {},
   "outputs": [
    {
     "name": "stdout",
     "output_type": "stream",
     "text": [
      "[MultiRocket] Predicting\n",
      "Kernels applied!, took 0.029s. Transformed shape: (15, 49728).\n",
      "[MultiRocket] Predicting completed, took 0.037s\n"
     ]
    },
    {
     "data": {
      "text/plain": [
       "0.5333333333333333"
      ]
     },
     "execution_count": 59,
     "metadata": {},
     "output_type": "execute_result"
    }
   ],
   "source": [
    "mrocket_pred_sig = mrocket_classifier.predict(Xs)\n",
    "accuracy_score(ys, mrocket_pred_sig)"
   ]
  },
  {
   "cell_type": "code",
   "execution_count": null,
   "metadata": {},
   "outputs": [],
   "source": [
    "from sktime.registry import all_estimators\n",
    "\n",
    "all_estimators(\"classifier\", as_dataframe=True)"
   ]
  },
  {
   "cell_type": "markdown",
   "metadata": {},
   "source": [
    "## genetic algorithms"
   ]
  },
  {
   "cell_type": "code",
   "execution_count": 87,
   "metadata": {},
   "outputs": [],
   "source": [
    "from scipy.optimize import minimize\n",
    "\n",
    "N = 1\n",
    "categ = 4\n",
    "# X_ini = np.random.rand(N*24)\n",
    "X_cat, y_cat = extract_x_y(df,0,0,categ)\n",
    "X_avg = X_cat.mean(axis=0)\n",
    "X_avg = np.pad(X_avg, ((2,2)), mode='constant', constant_values=0)\n",
    "\n",
    "def fitness(X):\n",
    "    X_np = np.array(X)\n",
    "    X_sig = transform(torch.tensor(np.expand_dims(\n",
    "        X_np.reshape(N,24),\n",
    "        axis=1\n",
    "    ), dtype=torch.float32))\n",
    "\n",
    "    violated_constraints = np.maximum(0, X_np - 1.0) + np.maximum(0, 0.0 - X_np)\n",
    "    penalty = sum(violated_constraints)\n",
    "    distance = np.mean([np.min([np.linalg.norm(X_avg[x:x+24] - row) for x in range(5)]) for row in X_np.reshape(N, 24)])\n",
    "\n",
    "    y = hydra_classifier.predict(X_sig)\n",
    "    \n",
    "    return accuracy_score([categ]*N, y), - penalty, - distance\n",
    "\n",
    "# return accuracy_score([0,0,0,0,0,1,1,1,1,1,2,2,2,2,2,3,3,3,3,3,4,4,4,4,4,5,5,5,5,5], y)\n",
    "# return accuracy_score([0,1,2,3,4,5], y)\n",
    "# res = minimize(fitness, X_ini, method = 'Nelder-Mead', options={'maxiter':100, 'disp':True,'fatol':0})\n",
    "# res"
   ]
  },
  {
   "cell_type": "code",
   "execution_count": 234,
   "metadata": {},
   "outputs": [
    {
     "data": {
      "text/plain": [
       "(0.0, -0.0, 130.93682658688874)"
      ]
     },
     "execution_count": 234,
     "metadata": {},
     "output_type": "execute_result"
    }
   ],
   "source": [
    "# fitness(X_ini)"
   ]
  },
  {
   "cell_type": "code",
   "execution_count": 88,
   "metadata": {},
   "outputs": [
    {
     "name": "stderr",
     "output_type": "stream",
     "text": [
      "/Users/carolina/anaconda3/lib/python3.10/site-packages/pygad/pygad.py:1139: UserWarning: The 'delay_after_gen' parameter is deprecated starting from PyGAD 3.3.0. To delay or pause the evolution after each generation, assign a callback function/method to the 'on_generation' parameter to adds some time delay.\n",
      "  warnings.warn(\"The 'delay_after_gen' parameter is deprecated starting from PyGAD 3.3.0. To delay or pause the evolution after each generation, assign a callback function/method to the 'on_generation' parameter to adds some time delay.\")\n"
     ]
    },
    {
     "name": "stdout",
     "output_type": "stream",
     "text": [
      "Best solution: (array([4.16247245e-02, 3.04086157e-02, 5.25050833e-02, 5.23175301e-02,\n",
      "       8.41533228e-03, 1.66328097e-04, 3.33238410e-03, 1.49951703e-02,\n",
      "       2.81648238e-02, 7.12748730e-02, 6.54947204e-01, 4.80571089e-01,\n",
      "       4.56705866e-01, 2.56682595e-01, 1.50555135e-01, 2.09904612e-01,\n",
      "       1.88208693e-01, 2.34301312e-01, 3.96406699e-01, 4.83073073e-01,\n",
      "       5.21281819e-01, 1.12868663e+00, 3.57856384e-01, 1.04058224e-02]), array([ 1.        , -0.12868663, -0.09133861]), 0)\n"
     ]
    }
   ],
   "source": [
    "import numpy as np\n",
    "import pygad\n",
    "\n",
    "num_generations = 1000\n",
    "num_parents_mating = 10\n",
    "sol_per_pop = 50\n",
    "num_genes = N*24\n",
    "\n",
    "ga_instance = pygad.GA(num_generations=num_generations,\n",
    "                       num_parents_mating=num_parents_mating,\n",
    "                       fitness_func=lambda ga, sol, i: fitness(sol),\n",
    "                       sol_per_pop=sol_per_pop,\n",
    "                       num_genes=num_genes,\n",
    "                       init_range_low=0.0,\n",
    "                       init_range_high=1.0,\n",
    "                       random_mutation_min_val=-0.1,\n",
    "                       random_mutation_max_val=0.1)\n",
    "\n",
    "ga_instance.run()\n",
    "\n",
    "print(\"Best solution:\", ga_instance.best_solution())\n"
   ]
  },
  {
   "cell_type": "code",
   "execution_count": 89,
   "metadata": {},
   "outputs": [
    {
     "data": {
      "text/plain": [
       "(array([4.16247245e-02, 3.04086157e-02, 5.25050833e-02, 5.23175301e-02,\n",
       "        8.41533228e-03, 1.66328097e-04, 3.33238410e-03, 1.49951703e-02,\n",
       "        2.81648238e-02, 7.12748730e-02, 6.54947204e-01, 4.80571089e-01,\n",
       "        4.56705866e-01, 2.56682595e-01, 1.50555135e-01, 2.09904612e-01,\n",
       "        1.88208693e-01, 2.34301312e-01, 3.96406699e-01, 4.83073073e-01,\n",
       "        5.21281819e-01, 1.12868663e+00, 3.57856384e-01, 1.04058224e-02]),\n",
       " array([ 1.        , -0.12868663, -0.09133861]),\n",
       " 0)"
      ]
     },
     "execution_count": 89,
     "metadata": {},
     "output_type": "execute_result"
    }
   ],
   "source": [
    "ga_instance.best_solution()"
   ]
  },
  {
   "cell_type": "code",
   "execution_count": 81,
   "metadata": {},
   "outputs": [
    {
     "data": {
      "text/plain": [
       "(array([ 5.46944954e-01,  5.26806322e+01,  1.83465219e-01,  2.74667180e+01,\n",
       "         5.64513407e-02,  2.63797925e-02,  5.23544331e-02, -2.04524092e-02,\n",
       "         4.93594479e-02,  2.62616546e-02, -4.04692241e-02, -1.37356289e-02,\n",
       "         4.43397657e-02,  8.18210760e-02, -1.95037527e-02, -2.23579845e-02,\n",
       "         1.79466506e-02,  6.77089101e-02,  2.32786422e-02,  3.88685292e-02,\n",
       "         1.76799080e-01,  3.21938516e-01,  8.36681933e-02,  9.50888062e-02]),\n",
       " array([  1.        , -78.26386922,  -0.25194653]),\n",
       " 3)"
      ]
     },
     "execution_count": 81,
     "metadata": {},
     "output_type": "execute_result"
    }
   ],
   "source": [
    "ga_instance.num_generations = 9000\n",
    "ga_instance.run()\n",
    "ga_instance.best_solution()"
   ]
  },
  {
   "cell_type": "code",
   "execution_count": 82,
   "metadata": {},
   "outputs": [
    {
     "data": {
      "text/plain": [
       "[array([  0.        ,  -1.41546584, -56.92611833]),\n",
       " array([  0.        ,  -0.18383346, -58.11232558]),\n",
       " array([  0.        ,  -0.18049151, -58.0794686 ]),\n",
       " array([  0.        ,  -0.16070508, -58.07467507]),\n",
       " array([  0.        , -28.07736137, -50.12604016]),\n",
       " array([  0.        ,  -1.51885073, -56.92624906]),\n",
       " array([  0.        ,  -0.12792826, -58.11232965]),\n",
       " array([ 0.00000000e+00, -2.37488626e-02, -5.81088693e+01]),\n",
       " array([  0.        ,  -1.49581996, -56.92624338]),\n",
       " array([  0.        ,  -0.15873586, -58.11241399]),\n",
       " array([  0.        ,  -0.1760071 , -58.10881733]),\n",
       " array([  0.        , -28.15941101, -50.12610195]),\n",
       " array([  0.        , -28.0683204 , -50.20920956]),\n",
       " array([  0.        ,  -1.45678592, -56.92625747]),\n",
       " array([  0.        ,  -0.07962053, -58.08449087]),\n",
       " array([  0.        , -28.08991123, -50.1261175 ]),\n",
       " array([  0.        ,  -1.47246413, -56.92630037]),\n",
       " array([  0.        , -26.60253754, -51.69826368]),\n",
       " array([  0.        ,  -0.18780773, -58.0748694 ]),\n",
       " array([  0.        , -28.09260478, -50.12605306]),\n",
       " array([  1.        , -78.26386922,  -0.25194653]),\n",
       " array([  1.        , -68.40147286,  -9.75327464]),\n",
       " array([  1.        , -43.21724487, -27.13015896]),\n",
       " array([  1.        , -67.87909309,  -9.7134333 ]),\n",
       " array([  1.        , -53.09924805, -25.19157134]),\n",
       " array([  1.        , -53.0827873 , -25.19104671]),\n",
       " array([  1.        , -78.26386922,  -0.22777821]),\n",
       " array([  1.        , -68.62589675,  -9.69090674]),\n",
       " array([  1.       , -43.2633185, -27.1296815]),\n",
       " array([  1.        , -42.08953693, -28.22413601]),\n",
       " array([  1.        , -42.08953693, -28.22283512]),\n",
       " array([  1.        , -67.84742779,  -9.78703762]),\n",
       " array([  1.        , -53.15151212, -25.19109451]),\n",
       " array([  1.        , -78.07943663,  -0.26805724]),\n",
       " array([  1.        , -68.66077771,  -9.5955779 ]),\n",
       " array([  1.        , -42.09828548, -28.22292041]),\n",
       " array([  1.        , -67.90145108,  -9.71373852]),\n",
       " array([  1.        , -51.81688416, -26.50682605]),\n",
       " array([  1.        , -78.35423365,  -0.21451663]),\n",
       " array([  1.        , -78.20827186,  -0.22885634]),\n",
       " array([  1.        , -68.48534312,  -9.69242905]),\n",
       " array([  1.        , -43.24324087, -27.12960731]),\n",
       " array([  1.        , -42.08953693, -28.22323325]),\n",
       " array([  1.        , -67.91376524,  -9.71440527]),\n",
       " array([  1.        , -53.10961698, -25.19100013]),\n",
       " array([  1.        , -78.22200749,  -0.24778495]),\n",
       " array([  1.        , -68.46298513,  -9.69150213]),\n",
       " array([  1.        , -43.35536574, -27.12950731]),\n",
       " array([  1.        , -42.11399903, -28.22279845]),\n",
       " array([  1.        , -67.90145108,  -9.71460252])]"
      ]
     },
     "execution_count": 82,
     "metadata": {},
     "output_type": "execute_result"
    }
   ],
   "source": [
    "sorted(ga_instance.last_generation_fitness,key=lambda x: x[0])"
   ]
  },
  {
   "cell_type": "code",
   "execution_count": 90,
   "metadata": {},
   "outputs": [
    {
     "data": {
      "text/plain": [
       "1000"
      ]
     },
     "execution_count": 90,
     "metadata": {},
     "output_type": "execute_result"
    }
   ],
   "source": [
    "ga_instance.generations_completed"
   ]
  },
  {
   "cell_type": "code",
   "execution_count": 91,
   "metadata": {},
   "outputs": [
    {
     "data": {
      "image/png": "[encoded data removed]",
      "text/plain": [
       "<Figure size 750x350 with 1 Axes>"
      ]
     },
     "metadata": {},
     "output_type": "display_data"
    },
    {
     "data": {
      "text/plain": [
       "<matplotlib.legend.Legend at 0x7f8d63f32410>"
      ]
     },
     "execution_count": 91,
     "metadata": {},
     "output_type": "execute_result"
    }
   ],
   "source": [
    "fig = ga_instance.plot_fitness(label=['accuracy','penalty','distance'])\n",
    "fig.legend()"
   ]
  },
  {
   "cell_type": "code",
   "execution_count": 92,
   "metadata": {},
   "outputs": [
    {
     "data": {
      "text/plain": [
       "array([[ 1.        , -0.12868663, -0.09133861],\n",
       "       [ 1.        , -0.08890353, -0.20296382],\n",
       "       [ 1.        , -0.        , -0.21225864],\n",
       "       [ 1.        , -0.10456318, -0.13662164],\n",
       "       [ 1.        , -0.04862045, -0.16546243],\n",
       "       [ 1.        , -0.10322596, -0.1698113 ],\n",
       "       [ 1.        , -0.02052479, -0.17755984],\n",
       "       [ 1.        , -0.12461594, -0.21199395],\n",
       "       [ 1.        , -0.        , -0.2306374 ],\n",
       "       [ 1.        , -0.12868663, -0.11647061],\n",
       "       [ 1.        , -0.12868663, -0.14730366],\n",
       "       [ 1.        , -0.        , -0.19299535],\n",
       "       [ 1.        , -0.07564119, -0.17624102],\n",
       "       [ 1.        , -0.10456318, -0.10854178],\n",
       "       [ 1.        , -0.04862045, -0.18928604],\n",
       "       [ 1.        , -0.07318337, -0.14897988],\n",
       "       [ 1.        , -0.09866418, -0.20269919],\n",
       "       [ 1.        , -0.01323881, -0.18823973],\n",
       "       [ 1.        , -0.        , -0.22855919],\n",
       "       [ 1.        , -0.15336885, -0.11840785],\n",
       "       [ 1.        , -0.12868663, -0.1044518 ],\n",
       "       [ 1.        , -0.12868663, -0.10177682],\n",
       "       [ 1.        , -0.02052479, -0.19011955],\n",
       "       [ 1.        , -0.13370184, -0.15912801],\n",
       "       [ 1.        , -0.04862045, -0.17602158],\n",
       "       [ 1.        , -0.04862045, -0.17759788],\n",
       "       [ 1.        , -0.02052479, -0.18079578],\n",
       "       [ 1.        , -0.04763702, -0.19775934],\n",
       "       [ 1.        , -0.        , -0.21726223],\n",
       "       [ 1.        , -0.12868663, -0.08582835],\n",
       "       [ 1.        , -0.12868663, -0.15777801],\n",
       "       [ 1.        , -0.        , -0.21833077],\n",
       "       [ 1.        , -0.02052479, -0.18161526],\n",
       "       [ 1.        , -0.02052479, -0.17191072],\n",
       "       [ 1.        , -0.04862045, -0.17301227],\n",
       "       [ 1.        , -0.07318337, -0.16623356],\n",
       "       [ 1.        , -0.02052479, -0.17954143],\n",
       "       [ 1.        , -0.0880462 , -0.20756203],\n",
       "       [ 1.        , -0.        , -0.21331744],\n",
       "       [ 1.        , -0.16368752, -0.09554575],\n",
       "       [ 1.        , -0.12868663, -0.13110181],\n",
       "       [ 1.        , -0.        , -0.20742856],\n",
       "       [ 1.        , -0.01775563, -0.1950758 ],\n",
       "       [ 1.        , -0.10456318, -0.15267418],\n",
       "       [ 1.        , -0.04862045, -0.17191699],\n",
       "       [ 1.        , -0.07318337, -0.13799587],\n",
       "       [ 1.        , -0.02052479, -0.21824625],\n",
       "       [ 1.        , -0.01323881, -0.20107031],\n",
       "       [ 1.        , -0.        , -0.20458337],\n",
       "       [ 1.        , -0.16733682, -0.1303728 ]])"
      ]
     },
     "execution_count": 92,
     "metadata": {},
     "output_type": "execute_result"
    }
   ],
   "source": [
    "ga_instance.last_generation_fitness"
   ]
  },
  {
   "cell_type": "code",
   "execution_count": 93,
   "metadata": {},
   "outputs": [
    {
     "data": {
      "image/png": "[encoded data removed]",
      "text/plain": [
       "<Figure size 750x350 with 1 Axes>"
      ]
     },
     "metadata": {},
     "output_type": "display_data"
    }
   ],
   "source": [
    "import matplotlib.pyplot as plt\n",
    "\n",
    "plt.rcParams[\"figure.figsize\"] = [7.50, 3.50]\n",
    "plt.rcParams[\"figure.autolayout\"] = True\n",
    "\n",
    "x = range(24)\n",
    "y,fit,idx = ga_instance.best_solution()\n",
    "\n",
    "plt.title(\"Line graph\")\n",
    "for y_ in np.array(y).reshape(N,24):\n",
    "    plt.plot(x, y_)\n",
    "\n",
    "plt.show()"
   ]
  },
  {
   "cell_type": "code",
   "execution_count": 94,
   "metadata": {},
   "outputs": [],
   "source": [
    "ga_instance.save('ga_1sig_ng100_npm10_spp50_categ4_1000')"
   ]
  },
  {
   "cell_type": "markdown",
   "metadata": {},
   "source": [
    "TRANSFORMERS\n",
    "DTW VS TRANSFORMERS TIME SERIES\n",
    "MÉTRICAS (f1-score)\n",
    "\n",
    "OVERLEAF\n",
    "\n",
    "ESTUDO (RELATÓRIO)\n",
    "- CLASSIFICADORES (NOVAS TÉCNICAS)\n",
    "- DEEP LEARNING (SUMARIZAÇÃO)\n",
    "- OUTRAS TÉCNICAS (SUMARIZAÇÃO / LEVANTAMENTO)\n",
    "- TESTES-PILOTO \n",
    "- USO DAS ASSINATURAS (parâmetros dos classificadores (talvez))\n",
    "\n",
    "- aplicar em outros datasets"
   ]
  },
  {
   "cell_type": "code",
   "execution_count": 219,
   "metadata": {},
   "outputs": [
    {
     "data": {
      "text/plain": [
       "13.0"
      ]
     },
     "execution_count": 219,
     "metadata": {},
     "output_type": "execute_result"
    }
   ],
   "source": [
    "#teste\n",
    "import numpy as np\n",
    "\n",
    "# Define input signal and kernel\n",
    "signal = np.array([0, 0, 1, 2, 3, 4, 5, 0, 0])\n",
    "kernel = np.array([0, 0.5, 1, 1.5, 0])\n",
    "\n",
    "# Perform 1D convolution\n",
    "result = np.correlate(signal, kernel, mode='valid')\n",
    "\n",
    "print(\"Convolution result:\", result)\n",
    "result.max()\n"
   ]
  },
  {
   "cell_type": "code",
   "execution_count": 17,
   "metadata": {},
   "outputs": [
    {
     "data": {
      "text/plain": [
       "18.0"
      ]
     },
     "execution_count": 17,
     "metadata": {},
     "output_type": "execute_result"
    }
   ],
   "source": [
    "#teste\n",
    "two_d = np.array([\n",
    "    [1,2],\n",
    "    [3,4]\n",
    "])\n",
    "\n",
    "np.mean([np.correlate(\n",
    "    np.array([1,2,3,4]),\n",
    "    row\n",
    ").max() for row in two_d])"
   ]
  },
  {
   "cell_type": "markdown",
   "metadata": {},
   "source": [
    "## Reunião 16/02\n",
    "\n",
    "*verificar se é bom ou não o uso de algoritmos genéticos\n",
    "\n",
    "*comparar com a geração simples de signature pela média do dataframe\n",
    "\n",
    "*ver os transformers\n",
    "\n",
    "*ver se tem mais classificadores interessantes\n",
    "\n",
    "*M2 do Leonardo (ver se eu consigo implementar no meu tbm)"
   ]
  },
  {
   "cell_type": "markdown",
   "metadata": {},
   "source": []
  },
  {
   "cell_type": "code",
   "execution_count": 134,
   "metadata": {},
   "outputs": [
    {
     "data": {
      "image/png": "[encoded data removed]",
      "text/plain": [
       "<Figure size 1000x600 with 1 Axes>"
      ]
     },
     "metadata": {},
     "output_type": "display_data"
    }
   ],
   "source": [
    "import numpy as np\n",
    "import matplotlib.pyplot as plt\n",
    "\n",
    "df_filtrado = df[(df['country'] == 0) & (df['city'] == 2) & (df['category'] == 4)]\n",
    "df_teste = df_filtrado.drop(columns=['id','country', 'city', 'category'])\n",
    "\n",
    "column_means = np.mean(df_teste, axis=0)\n",
    "\n",
    "# Create a bar plot to visualize the mean of each column\n",
    "plt.figure(figsize=(10, 6))\n",
    "plt.plot(range(1, 25), column_means)\n",
    "\n",
    "# Add labels and title\n",
    "plt.xlabel('Column')\n",
    "plt.ylabel('Mean')\n",
    "plt.title('Mean of p=0 c=2 cat=4')\n",
    "\n",
    "# Show the plot\n",
    "plt.show()"
   ]
  }
 ],
 "metadata": {
  "kernelspec": {
   "display_name": "base",
   "language": "python",
   "name": "python3"
  },
  "language_info": {
   "codemirror_mode": {
    "name": "ipython",
    "version": 3
   },
   "file_extension": ".py",
   "mimetype": "text/x-python",
   "name": "python",
   "nbconvert_exporter": "python",
   "pygments_lexer": "ipython3",
   "version": "3.10.9"
  }
 },
 "nbformat": 4,
 "nbformat_minor": 2
}
