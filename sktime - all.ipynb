{
 "cells": [
  {
   "cell_type": "markdown",
   "metadata": {},
   "source": [
    "## weekdays_datasets"
   ]
  },
  {
   "cell_type": "code",
   "execution_count": 1,
   "metadata": {},
   "outputs": [
    {
     "name": "stdout",
     "output_type": "stream",
     "text": [
      "['/Library/Developer/CommandLineTools/Library/Frameworks/Python3.framework/Versions/3.9/lib/python39.zip', '/Library/Developer/CommandLineTools/Library/Frameworks/Python3.framework/Versions/3.9/lib/python3.9', '/Library/Developer/CommandLineTools/Library/Frameworks/Python3.framework/Versions/3.9/lib/python3.9/lib-dynload', '', '/Users/carolina/Desktop/Mestrado/.venv/lib/python3.9/site-packages', '/Users/carolina/Desktop/Mestrado', './MultiRocket']\n"
     ]
    }
   ],
   "source": [
    "import pandas as pd\n",
    "import numpy as np\n",
    "import sys\n",
    "import os\n",
    "\n",
    "# Allows importing modules defined inside the project directory:\n",
    "path = os.path.abspath(os.path.curdir)\n",
    "while len(path) > 1 and not path.endswith('Mestrado'):\n",
    "    path = os.path.abspath(os.path.join(path, '..'))\n",
    "if path not in sys.path:\n",
    "    sys.path.append(path)\n",
    "sys.path.append('./MultiRocket')\n",
    "print(sys.path)\n"
   ]
  },
  {
   "cell_type": "code",
   "execution_count": 2,
   "metadata": {},
   "outputs": [],
   "source": [
    "df = pd.read_csv('weekdays_datasets/df_timeseries.csv')"
   ]
  },
  {
   "cell_type": "markdown",
   "metadata": {},
   "source": [
    "Colunas CSV em weekdays_dataset.zip\n",
    "\n",
    "h00-h23: Faixa de popularidade (0-1) entre meia-noite e onze da noite\n",
    "\n",
    "country: 0 - Brasil, 1 - Estados Unidos\n",
    "\n",
    "city: 0 - Curitiba, 1 - Rio de Janeiro, 2 - São Paulo, 0 - Chicago, 1 - New York, 2 - San Francisco\n",
    "\n",
    "category: 0 - bakeries, 1 - bars, 2 - coffee, 3 - dance clubs, 4 - restaurants"
   ]
  },
  {
   "cell_type": "code",
   "execution_count": 3,
   "metadata": {},
   "outputs": [
    {
     "data": {
      "text/html": [
       "<div>\n",
       "<style scoped>\n",
       "    .dataframe tbody tr th:only-of-type {\n",
       "        vertical-align: middle;\n",
       "    }\n",
       "\n",
       "    .dataframe tbody tr th {\n",
       "        vertical-align: top;\n",
       "    }\n",
       "\n",
       "    .dataframe thead th {\n",
       "        text-align: right;\n",
       "    }\n",
       "</style>\n",
       "<table border=\"1\" class=\"dataframe\">\n",
       "  <thead>\n",
       "    <tr style=\"text-align: right;\">\n",
       "      <th></th>\n",
       "      <th>id</th>\n",
       "      <th>h00</th>\n",
       "      <th>h01</th>\n",
       "      <th>h02</th>\n",
       "      <th>h03</th>\n",
       "      <th>h04</th>\n",
       "      <th>h05</th>\n",
       "      <th>h06</th>\n",
       "      <th>h07</th>\n",
       "      <th>h08</th>\n",
       "      <th>...</th>\n",
       "      <th>h17</th>\n",
       "      <th>h18</th>\n",
       "      <th>h19</th>\n",
       "      <th>h20</th>\n",
       "      <th>h21</th>\n",
       "      <th>h22</th>\n",
       "      <th>h23</th>\n",
       "      <th>country</th>\n",
       "      <th>city</th>\n",
       "      <th>category</th>\n",
       "    </tr>\n",
       "  </thead>\n",
       "  <tbody>\n",
       "    <tr>\n",
       "      <th>0</th>\n",
       "      <td>0</td>\n",
       "      <td>0.000000</td>\n",
       "      <td>0.000000</td>\n",
       "      <td>0.0</td>\n",
       "      <td>0.0</td>\n",
       "      <td>0.0</td>\n",
       "      <td>0.0</td>\n",
       "      <td>0.000000</td>\n",
       "      <td>0.000000</td>\n",
       "      <td>0.000000</td>\n",
       "      <td>...</td>\n",
       "      <td>0.347754</td>\n",
       "      <td>0.522437</td>\n",
       "      <td>0.940441</td>\n",
       "      <td>0.823425</td>\n",
       "      <td>0.000000</td>\n",
       "      <td>0.000000</td>\n",
       "      <td>0.000000</td>\n",
       "      <td>0.0</td>\n",
       "      <td>0.0</td>\n",
       "      <td>0.0</td>\n",
       "    </tr>\n",
       "    <tr>\n",
       "      <th>1</th>\n",
       "      <td>1</td>\n",
       "      <td>0.000000</td>\n",
       "      <td>0.000000</td>\n",
       "      <td>0.0</td>\n",
       "      <td>0.0</td>\n",
       "      <td>0.0</td>\n",
       "      <td>0.0</td>\n",
       "      <td>0.000000</td>\n",
       "      <td>0.000000</td>\n",
       "      <td>0.000000</td>\n",
       "      <td>...</td>\n",
       "      <td>0.320058</td>\n",
       "      <td>0.212006</td>\n",
       "      <td>0.212006</td>\n",
       "      <td>0.212006</td>\n",
       "      <td>0.000000</td>\n",
       "      <td>0.000000</td>\n",
       "      <td>0.000000</td>\n",
       "      <td>0.0</td>\n",
       "      <td>0.0</td>\n",
       "      <td>0.0</td>\n",
       "    </tr>\n",
       "    <tr>\n",
       "      <th>2</th>\n",
       "      <td>2</td>\n",
       "      <td>0.000000</td>\n",
       "      <td>0.000000</td>\n",
       "      <td>0.0</td>\n",
       "      <td>0.0</td>\n",
       "      <td>0.0</td>\n",
       "      <td>0.0</td>\n",
       "      <td>0.000000</td>\n",
       "      <td>0.000000</td>\n",
       "      <td>0.000000</td>\n",
       "      <td>...</td>\n",
       "      <td>0.805263</td>\n",
       "      <td>0.483633</td>\n",
       "      <td>0.000000</td>\n",
       "      <td>0.000000</td>\n",
       "      <td>0.000000</td>\n",
       "      <td>0.000000</td>\n",
       "      <td>0.000000</td>\n",
       "      <td>0.0</td>\n",
       "      <td>0.0</td>\n",
       "      <td>0.0</td>\n",
       "    </tr>\n",
       "    <tr>\n",
       "      <th>3</th>\n",
       "      <td>3</td>\n",
       "      <td>0.000000</td>\n",
       "      <td>0.000000</td>\n",
       "      <td>0.0</td>\n",
       "      <td>0.0</td>\n",
       "      <td>0.0</td>\n",
       "      <td>0.0</td>\n",
       "      <td>0.080787</td>\n",
       "      <td>0.303251</td>\n",
       "      <td>0.519247</td>\n",
       "      <td>...</td>\n",
       "      <td>0.986970</td>\n",
       "      <td>0.917125</td>\n",
       "      <td>0.562874</td>\n",
       "      <td>0.378466</td>\n",
       "      <td>0.000000</td>\n",
       "      <td>0.000000</td>\n",
       "      <td>0.000000</td>\n",
       "      <td>0.0</td>\n",
       "      <td>0.0</td>\n",
       "      <td>0.0</td>\n",
       "    </tr>\n",
       "    <tr>\n",
       "      <th>4</th>\n",
       "      <td>4</td>\n",
       "      <td>0.000000</td>\n",
       "      <td>0.000000</td>\n",
       "      <td>0.0</td>\n",
       "      <td>0.0</td>\n",
       "      <td>0.0</td>\n",
       "      <td>0.0</td>\n",
       "      <td>0.000000</td>\n",
       "      <td>0.060529</td>\n",
       "      <td>0.172893</td>\n",
       "      <td>...</td>\n",
       "      <td>0.878997</td>\n",
       "      <td>0.994609</td>\n",
       "      <td>0.901742</td>\n",
       "      <td>0.667729</td>\n",
       "      <td>0.387283</td>\n",
       "      <td>0.000000</td>\n",
       "      <td>0.000000</td>\n",
       "      <td>0.0</td>\n",
       "      <td>0.0</td>\n",
       "      <td>0.0</td>\n",
       "    </tr>\n",
       "    <tr>\n",
       "      <th>...</th>\n",
       "      <td>...</td>\n",
       "      <td>...</td>\n",
       "      <td>...</td>\n",
       "      <td>...</td>\n",
       "      <td>...</td>\n",
       "      <td>...</td>\n",
       "      <td>...</td>\n",
       "      <td>...</td>\n",
       "      <td>...</td>\n",
       "      <td>...</td>\n",
       "      <td>...</td>\n",
       "      <td>...</td>\n",
       "      <td>...</td>\n",
       "      <td>...</td>\n",
       "      <td>...</td>\n",
       "      <td>...</td>\n",
       "      <td>...</td>\n",
       "      <td>...</td>\n",
       "      <td>...</td>\n",
       "      <td>...</td>\n",
       "      <td>...</td>\n",
       "    </tr>\n",
       "    <tr>\n",
       "      <th>12699</th>\n",
       "      <td>12699</td>\n",
       "      <td>0.000000</td>\n",
       "      <td>0.000000</td>\n",
       "      <td>0.0</td>\n",
       "      <td>0.0</td>\n",
       "      <td>0.0</td>\n",
       "      <td>0.0</td>\n",
       "      <td>0.000000</td>\n",
       "      <td>0.000000</td>\n",
       "      <td>0.000000</td>\n",
       "      <td>...</td>\n",
       "      <td>0.430487</td>\n",
       "      <td>0.759348</td>\n",
       "      <td>0.991525</td>\n",
       "      <td>0.870099</td>\n",
       "      <td>0.588773</td>\n",
       "      <td>0.000000</td>\n",
       "      <td>0.000000</td>\n",
       "      <td>1.0</td>\n",
       "      <td>4.0</td>\n",
       "      <td>4.0</td>\n",
       "    </tr>\n",
       "    <tr>\n",
       "      <th>12700</th>\n",
       "      <td>12700</td>\n",
       "      <td>0.000000</td>\n",
       "      <td>0.000000</td>\n",
       "      <td>0.0</td>\n",
       "      <td>0.0</td>\n",
       "      <td>0.0</td>\n",
       "      <td>0.0</td>\n",
       "      <td>0.000000</td>\n",
       "      <td>0.000000</td>\n",
       "      <td>0.000000</td>\n",
       "      <td>...</td>\n",
       "      <td>0.192508</td>\n",
       "      <td>0.564814</td>\n",
       "      <td>0.973335</td>\n",
       "      <td>0.966669</td>\n",
       "      <td>0.548366</td>\n",
       "      <td>0.000000</td>\n",
       "      <td>0.000000</td>\n",
       "      <td>1.0</td>\n",
       "      <td>4.0</td>\n",
       "      <td>4.0</td>\n",
       "    </tr>\n",
       "    <tr>\n",
       "      <th>12701</th>\n",
       "      <td>12701</td>\n",
       "      <td>0.000000</td>\n",
       "      <td>0.000000</td>\n",
       "      <td>0.0</td>\n",
       "      <td>0.0</td>\n",
       "      <td>0.0</td>\n",
       "      <td>0.0</td>\n",
       "      <td>0.000000</td>\n",
       "      <td>0.000000</td>\n",
       "      <td>0.000000</td>\n",
       "      <td>...</td>\n",
       "      <td>0.571624</td>\n",
       "      <td>0.201609</td>\n",
       "      <td>0.144007</td>\n",
       "      <td>0.334674</td>\n",
       "      <td>0.000000</td>\n",
       "      <td>0.000000</td>\n",
       "      <td>0.000000</td>\n",
       "      <td>1.0</td>\n",
       "      <td>4.0</td>\n",
       "      <td>4.0</td>\n",
       "    </tr>\n",
       "    <tr>\n",
       "      <th>12702</th>\n",
       "      <td>12702</td>\n",
       "      <td>0.474252</td>\n",
       "      <td>0.256943</td>\n",
       "      <td>0.0</td>\n",
       "      <td>0.0</td>\n",
       "      <td>0.0</td>\n",
       "      <td>0.0</td>\n",
       "      <td>0.000000</td>\n",
       "      <td>0.000000</td>\n",
       "      <td>0.000000</td>\n",
       "      <td>...</td>\n",
       "      <td>0.341396</td>\n",
       "      <td>0.630530</td>\n",
       "      <td>0.810973</td>\n",
       "      <td>0.971333</td>\n",
       "      <td>1.000000</td>\n",
       "      <td>0.897192</td>\n",
       "      <td>0.743494</td>\n",
       "      <td>1.0</td>\n",
       "      <td>4.0</td>\n",
       "      <td>4.0</td>\n",
       "    </tr>\n",
       "    <tr>\n",
       "      <th>12703</th>\n",
       "      <td>12703</td>\n",
       "      <td>0.000000</td>\n",
       "      <td>0.000000</td>\n",
       "      <td>0.0</td>\n",
       "      <td>0.0</td>\n",
       "      <td>0.0</td>\n",
       "      <td>0.0</td>\n",
       "      <td>0.000000</td>\n",
       "      <td>0.000000</td>\n",
       "      <td>0.000000</td>\n",
       "      <td>...</td>\n",
       "      <td>0.341672</td>\n",
       "      <td>0.531967</td>\n",
       "      <td>0.812802</td>\n",
       "      <td>0.982816</td>\n",
       "      <td>0.000000</td>\n",
       "      <td>0.000000</td>\n",
       "      <td>0.000000</td>\n",
       "      <td>1.0</td>\n",
       "      <td>4.0</td>\n",
       "      <td>4.0</td>\n",
       "    </tr>\n",
       "  </tbody>\n",
       "</table>\n",
       "<p>12704 rows × 28 columns</p>\n",
       "</div>"
      ],
      "text/plain": [
       "          id       h00       h01  h02  h03  h04  h05       h06       h07  \\\n",
       "0          0  0.000000  0.000000  0.0  0.0  0.0  0.0  0.000000  0.000000   \n",
       "1          1  0.000000  0.000000  0.0  0.0  0.0  0.0  0.000000  0.000000   \n",
       "2          2  0.000000  0.000000  0.0  0.0  0.0  0.0  0.000000  0.000000   \n",
       "3          3  0.000000  0.000000  0.0  0.0  0.0  0.0  0.080787  0.303251   \n",
       "4          4  0.000000  0.000000  0.0  0.0  0.0  0.0  0.000000  0.060529   \n",
       "...      ...       ...       ...  ...  ...  ...  ...       ...       ...   \n",
       "12699  12699  0.000000  0.000000  0.0  0.0  0.0  0.0  0.000000  0.000000   \n",
       "12700  12700  0.000000  0.000000  0.0  0.0  0.0  0.0  0.000000  0.000000   \n",
       "12701  12701  0.000000  0.000000  0.0  0.0  0.0  0.0  0.000000  0.000000   \n",
       "12702  12702  0.474252  0.256943  0.0  0.0  0.0  0.0  0.000000  0.000000   \n",
       "12703  12703  0.000000  0.000000  0.0  0.0  0.0  0.0  0.000000  0.000000   \n",
       "\n",
       "            h08  ...       h17       h18       h19       h20       h21  \\\n",
       "0      0.000000  ...  0.347754  0.522437  0.940441  0.823425  0.000000   \n",
       "1      0.000000  ...  0.320058  0.212006  0.212006  0.212006  0.000000   \n",
       "2      0.000000  ...  0.805263  0.483633  0.000000  0.000000  0.000000   \n",
       "3      0.519247  ...  0.986970  0.917125  0.562874  0.378466  0.000000   \n",
       "4      0.172893  ...  0.878997  0.994609  0.901742  0.667729  0.387283   \n",
       "...         ...  ...       ...       ...       ...       ...       ...   \n",
       "12699  0.000000  ...  0.430487  0.759348  0.991525  0.870099  0.588773   \n",
       "12700  0.000000  ...  0.192508  0.564814  0.973335  0.966669  0.548366   \n",
       "12701  0.000000  ...  0.571624  0.201609  0.144007  0.334674  0.000000   \n",
       "12702  0.000000  ...  0.341396  0.630530  0.810973  0.971333  1.000000   \n",
       "12703  0.000000  ...  0.341672  0.531967  0.812802  0.982816  0.000000   \n",
       "\n",
       "            h22       h23  country  city  category  \n",
       "0      0.000000  0.000000      0.0   0.0       0.0  \n",
       "1      0.000000  0.000000      0.0   0.0       0.0  \n",
       "2      0.000000  0.000000      0.0   0.0       0.0  \n",
       "3      0.000000  0.000000      0.0   0.0       0.0  \n",
       "4      0.000000  0.000000      0.0   0.0       0.0  \n",
       "...         ...       ...      ...   ...       ...  \n",
       "12699  0.000000  0.000000      1.0   4.0       4.0  \n",
       "12700  0.000000  0.000000      1.0   4.0       4.0  \n",
       "12701  0.000000  0.000000      1.0   4.0       4.0  \n",
       "12702  0.897192  0.743494      1.0   4.0       4.0  \n",
       "12703  0.000000  0.000000      1.0   4.0       4.0  \n",
       "\n",
       "[12704 rows x 28 columns]"
      ]
     },
     "execution_count": 3,
     "metadata": {},
     "output_type": "execute_result"
    }
   ],
   "source": [
    "df"
   ]
  },
  {
   "cell_type": "code",
   "execution_count": 4,
   "metadata": {},
   "outputs": [
    {
     "name": "stdout",
     "output_type": "stream",
     "text": [
      "(9528, 24) (3176, 24)\n"
     ]
    }
   ],
   "source": [
    "from sklearn.model_selection import train_test_split\n",
    "\n",
    "df_x = df.drop(columns=['id','country', 'city', 'category'])\n",
    "df_y = df['category']\n",
    "\n",
    "X, y = np.array(df_x), np.array(df_y)\n",
    "X_train, X_test, y_train, y_test = train_test_split(X, y, random_state=11)\n",
    "print(X_train.shape, X_test.shape)"
   ]
  },
  {
   "cell_type": "markdown",
   "metadata": {},
   "source": [
    "## HIVECOTEV2"
   ]
  },
  {
   "cell_type": "code",
   "execution_count": 18,
   "metadata": {},
   "outputs": [],
   "source": [
    "from sklearn.metrics import precision_score\n",
    "from sklearn.metrics import recall_score\n",
    "from sklearn.metrics import accuracy_score\n",
    "from sklearn.metrics import f1_score"
   ]
  },
  {
   "cell_type": "code",
   "execution_count": 7,
   "metadata": {},
   "outputs": [
    {
     "name": "stdout",
     "output_type": "stream",
     "text": [
      "predicting...\n",
      "results...\n",
      "0.6656171284634761\n",
      "0.6632040546351051\n"
     ]
    }
   ],
   "source": [
    "from sktime.classification.hybrid import HIVECOTEV2\n",
    "from sktime.classification.sklearn import RotationForest\n",
    "\n",
    "hc2_classifier = HIVECOTEV2(\n",
    "    stc_params={\n",
    "        \"estimator\": RotationForest(n_estimators=3),\n",
    "        \"n_shapelet_samples\": 100,\n",
    "        \"max_shapelets\": 10,\n",
    "        \"batch_size\": 20,\n",
    "    },\n",
    "    drcif_params={\"n_estimators\": 2, \"n_intervals\": 2, \"att_subsample_size\": 2},\n",
    "    arsenal_params={\"num_kernels\": 50, \"n_estimators\": 3},\n",
    "    tde_params={\n",
    "        \"n_parameter_samples\": 10,\n",
    "        \"max_ensemble_size\": 3,\n",
    "        \"randomly_selected_params\": 5,\n",
    "    },\n",
    ")\n",
    "hc2_classifier.fit(X_train, y_train)\n",
    "print(\"predicting...\")\n",
    "hc2_pred = hc2_classifier.predict(X_test)\n",
    "print(\"results...\")\n",
    "print(accuracy_score(y_test, hc2_pred))\n",
    "print(f1_score(y_test, hc2_pred, average='weighted'))"
   ]
  },
  {
   "cell_type": "code",
   "execution_count": 8,
   "metadata": {},
   "outputs": [
    {
     "name": "stdout",
     "output_type": "stream",
     "text": [
      "0.6653788988462582\n",
      "0.6656171284634761\n"
     ]
    }
   ],
   "source": [
    "print(precision_score(y_test, hc2_pred, average='weighted'))\n",
    "print(recall_score(y_test, hc2_pred, average='weighted'))"
   ]
  },
  {
   "cell_type": "markdown",
   "metadata": {},
   "source": [
    "validating signatures"
   ]
  },
  {
   "cell_type": "code",
   "execution_count": 51,
   "metadata": {},
   "outputs": [
    {
     "name": "stdout",
     "output_type": "stream",
     "text": [
      "validating signatures...\n"
     ]
    },
    {
     "data": {
      "text/plain": [
       "0.4"
      ]
     },
     "execution_count": 51,
     "metadata": {},
     "output_type": "execute_result"
    }
   ],
   "source": [
    "hc2_pred_sig = hc2_classifier.predict(Xs)\n",
    "print(\"validating signatures...\")\n",
    "accuracy_score(ys, hc2_pred_sig)"
   ]
  },
  {
   "cell_type": "markdown",
   "metadata": {},
   "source": [
    "## Hydra"
   ]
  },
  {
   "cell_type": "code",
   "execution_count": 9,
   "metadata": {},
   "outputs": [
    {
     "data": {
      "text/plain": [
       "torch.Size([9528, 1, 24])"
      ]
     },
     "execution_count": 9,
     "metadata": {},
     "output_type": "execute_result"
    }
   ],
   "source": [
    "import torch\n",
    "\n",
    "X_train_tensor = torch.tensor(np.expand_dims(X_train, axis=1), dtype=torch.float32)\n",
    "X_test_tensor = torch.tensor(np.expand_dims(X_test, axis=1), dtype=torch.float32)\n",
    "X_train_tensor.shape"
   ]
  },
  {
   "cell_type": "code",
   "execution_count": 10,
   "metadata": {},
   "outputs": [
    {
     "data": {
      "text/plain": [
       "torch.Size([3176, 1, 24])"
      ]
     },
     "execution_count": 10,
     "metadata": {},
     "output_type": "execute_result"
    }
   ],
   "source": [
    "X_test_tensor.shape"
   ]
  },
  {
   "cell_type": "code",
   "execution_count": 11,
   "metadata": {},
   "outputs": [
    {
     "name": "stdout",
     "output_type": "stream",
     "text": [
      "0.677896725440806\n",
      "0.6756224614268075\n"
     ]
    }
   ],
   "source": [
    "from hydra import Hydra, SparseScaler\n",
    "from sklearn.linear_model import RidgeClassifierCV\n",
    "\n",
    "transform = Hydra(X_train.shape[-1])\n",
    "\n",
    "X_training_transform = transform(X_train_tensor)\n",
    "X_test_transform = transform(X_test_tensor)\n",
    "\n",
    "scaler = SparseScaler()\n",
    "\n",
    "X_training_transform = scaler.fit_transform(X_training_transform)\n",
    "X_test_transform = scaler.transform(X_test_transform)\n",
    "\n",
    "hydra_classifier = RidgeClassifierCV(alphas = np.logspace(-3, 3, 10))\n",
    "hydra_classifier.fit(X_training_transform, y_train)\n",
    "\n",
    "hydra_pred = hydra_classifier.predict(X_test_transform)\n",
    "print(accuracy_score(y_test, hydra_pred))\n",
    "print(f1_score(y_test, hydra_pred, average='weighted'))"
   ]
  },
  {
   "cell_type": "code",
   "execution_count": 16,
   "metadata": {},
   "outputs": [
    {
     "data": {
      "text/plain": [
       "torch.Size([3176, 2048])"
      ]
     },
     "execution_count": 16,
     "metadata": {},
     "output_type": "execute_result"
    }
   ],
   "source": [
    "X_test_transform.shape"
   ]
  },
  {
   "cell_type": "code",
   "execution_count": 17,
   "metadata": {},
   "outputs": [
    {
     "name": "stdout",
     "output_type": "stream",
     "text": [
      "0.6854186662227635\n",
      "0.6854534005037783\n"
     ]
    }
   ],
   "source": [
    "print(precision_score(y_test, hydra_pred, average='weighted'))\n",
    "print(recall_score(y_test, hydra_pred, average='weighted'))"
   ]
  },
  {
   "cell_type": "code",
   "execution_count": 58,
   "metadata": {},
   "outputs": [
    {
     "data": {
      "text/plain": [
       "0.4"
      ]
     },
     "execution_count": 58,
     "metadata": {},
     "output_type": "execute_result"
    }
   ],
   "source": [
    "hydra_pred_sig = hydra_classifier.predict(transform(torch.tensor(np.expand_dims(Xs, axis=1), dtype=torch.float32)))\n",
    "accuracy_score(ys, hydra_pred_sig)"
   ]
  },
  {
   "cell_type": "code",
   "execution_count": 18,
   "metadata": {},
   "outputs": [
    {
     "name": "stdout",
     "output_type": "stream",
     "text": [
      "[MultiRocket] Creating MultiRocket with 6250 kernels\n",
      "[MultiRocket] Training with training set of (9528, 24)\n",
      "[MultiRocket] Kernels applied!, took 58.84903979500086s\n",
      "[MultiRocket] Transformed Shape (9528, 49728)\n",
      "[MultiRocket] Training\n"
     ]
    },
    {
     "name": "stderr",
     "output_type": "stream",
     "text": [
      "epoch: 0:  81%|████████  | 30/37 [00:09<00:02,  3.27it/s]\n",
      "epoch: 1:  81%|████████  | 30/37 [00:02<00:00, 11.25it/s]\n",
      "epoch: 2:  81%|████████  | 30/37 [00:05<00:01,  5.88it/s]\n",
      "epoch: 3:  81%|████████  | 30/37 [00:01<00:00, 22.97it/s]\n",
      "epoch: 4:  81%|████████  | 30/37 [00:03<00:00,  9.86it/s]\n",
      "epoch: 5:  81%|████████  | 30/37 [00:03<00:00,  9.39it/s]\n",
      "epoch: 6:  81%|████████  | 30/37 [00:01<00:00, 20.76it/s]\n",
      "epoch: 7:  81%|████████  | 30/37 [00:02<00:00, 12.12it/s]\n",
      "epoch: 8:  81%|████████  | 30/37 [00:02<00:00, 14.17it/s]\n",
      "epoch: 9:  81%|████████  | 30/37 [00:01<00:00, 23.98it/s]\n",
      "epoch: 10:  81%|████████  | 30/37 [00:01<00:00, 23.37it/s]\n",
      "epoch: 11:  81%|████████  | 30/37 [00:01<00:00, 22.23it/s]\n",
      "epoch: 12:  81%|████████  | 30/37 [00:01<00:00, 23.38it/s]\n",
      "epoch: 13:  81%|████████  | 30/37 [00:03<00:00,  9.46it/s]\n",
      "epoch: 14:  81%|████████  | 30/37 [00:05<00:01,  5.08it/s]\n",
      "epoch: 15:  81%|████████  | 30/37 [00:03<00:00,  8.54it/s]\n",
      "epoch: 16:  81%|████████  | 30/37 [00:01<00:00, 23.22it/s]\n",
      "epoch: 17:  81%|████████  | 30/37 [00:04<00:01,  6.41it/s]\n",
      "epoch: 18:  81%|████████  | 30/37 [00:02<00:00, 12.86it/s]\n",
      "epoch: 19:  81%|████████  | 30/37 [00:01<00:00, 16.86it/s]\n",
      "epoch: 20:  81%|████████  | 30/37 [00:01<00:00, 19.74it/s]\n",
      "epoch: 21:  81%|████████  | 30/37 [00:03<00:00,  8.06it/s]\n",
      "epoch: 22:  81%|████████  | 30/37 [00:02<00:00, 14.58it/s]\n",
      "epoch: 23:  81%|████████  | 30/37 [00:05<00:01,  5.62it/s]\n",
      "epoch: 24:  81%|████████  | 30/37 [00:01<00:00, 18.23it/s]\n",
      "epoch: 25:  81%|████████  | 30/37 [00:01<00:00, 21.94it/s]\n",
      "epoch: 26:  81%|████████  | 30/37 [00:01<00:00, 24.35it/s]\n",
      "epoch: 27:  81%|████████  | 30/37 [00:01<00:00, 23.11it/s]\n",
      "epoch: 28:  81%|████████  | 30/37 [00:01<00:00, 19.80it/s]\n",
      "epoch: 29:  81%|████████  | 30/37 [00:01<00:00, 22.24it/s]\n",
      "epoch: 30:  81%|████████  | 30/37 [00:01<00:00, 23.85it/s]\n",
      "epoch: 31:  81%|████████  | 30/37 [00:01<00:00, 23.33it/s]\n",
      "epoch: 32:  81%|████████  | 30/37 [00:01<00:00, 23.74it/s]\n",
      "epoch: 33:  81%|████████  | 30/37 [00:01<00:00, 20.21it/s]\n",
      "epoch: 34:  81%|████████  | 30/37 [00:01<00:00, 23.71it/s]\n",
      "epoch: 35:  81%|████████  | 30/37 [00:01<00:00, 23.65it/s]\n",
      "epoch: 36:  81%|████████  | 30/37 [00:01<00:00, 23.92it/s]\n",
      "epoch: 37:  81%|████████  | 30/37 [00:01<00:00, 23.12it/s]\n",
      "epoch: 38:  81%|████████  | 30/37 [00:01<00:00, 20.11it/s]\n",
      "epoch: 39:  81%|████████  | 30/37 [00:01<00:00, 22.33it/s]\n",
      "epoch: 40:  81%|████████  | 30/37 [00:01<00:00, 15.14it/s]\n",
      "epoch: 41:  81%|████████  | 30/37 [00:01<00:00, 16.58it/s]\n",
      "epoch: 42:  81%|████████  | 30/37 [00:01<00:00, 15.88it/s]\n",
      "epoch: 43:  81%|████████  | 30/37 [00:01<00:00, 20.12it/s]\n",
      "epoch: 44:  81%|████████  | 30/37 [00:01<00:00, 21.88it/s]\n",
      "epoch: 45:  81%|████████  | 30/37 [00:01<00:00, 15.74it/s]\n",
      "epoch: 46:  81%|████████  | 30/37 [00:02<00:00, 14.64it/s]\n",
      "epoch: 47:  81%|████████  | 30/37 [00:01<00:00, 16.52it/s]\n",
      "epoch: 48:  81%|████████  | 30/37 [00:02<00:00, 14.81it/s]\n",
      "epoch: 49:  81%|████████  | 30/37 [00:01<00:00, 17.39it/s]\n",
      "epoch: 50:  81%|████████  | 30/37 [00:02<00:00, 13.00it/s]\n",
      "epoch: 51:  81%|████████  | 30/37 [00:01<00:00, 16.71it/s]\n"
     ]
    },
    {
     "name": "stdout",
     "output_type": "stream",
     "text": [
      "\n",
      "<Stopped at Epoch 52>\n",
      "[MultiRocket] Training done!, took 349.745s\n",
      "[MultiRocket] Predicting\n",
      "Kernels applied!, took 1.929s. Transformed shape: (3176, 49728).\n",
      "[MultiRocket] Predicting completed, took 2.435s\n",
      "0.6870277078085643\n",
      "0.687774729770496\n"
     ]
    }
   ],
   "source": [
    "from multirocket.multirocket import MultiRocket\n",
    "from sklearn.preprocessing import LabelEncoder\n",
    "\n",
    "encoder = LabelEncoder()\n",
    "y_train = encoder.fit_transform(y_train)\n",
    "y_test = encoder.transform(y_test)\n",
    "\n",
    "# returns ntc format, remove the last dimension\n",
    "X_train = X_train.reshape((X_train.shape[0], X_train.shape[1]))\n",
    "X_test = X_test.reshape((X_test.shape[0], X_test.shape[1]))\n",
    "\n",
    "nb_classes = len(np.unique(np.concatenate((y_train, y_test), axis=0)))\n",
    "\n",
    "mrocket_classifier = MultiRocket(\n",
    "    num_features=50000,\n",
    "    classifier=\"logistic\",\n",
    "    verbose=2,\n",
    ")\n",
    "yhat_train = mrocket_classifier.fit(\n",
    "    X_train, y_train,\n",
    "    predict_on_train=False\n",
    ")\n",
    "mrocket_pred = mrocket_classifier.predict(X_test)\n",
    "print(accuracy_score(y_test, mrocket_pred))\n",
    "print(f1_score(y_test, mrocket_pred, average='weighted'))"
   ]
  },
  {
   "cell_type": "code",
   "execution_count": 19,
   "metadata": {},
   "outputs": [
    {
     "name": "stdout",
     "output_type": "stream",
     "text": [
      "0.6893011022948712\n",
      "0.6870277078085643\n"
     ]
    }
   ],
   "source": [
    "print(precision_score(y_test, mrocket_pred, average='weighted'))\n",
    "print(recall_score(y_test, mrocket_pred, average='weighted'))"
   ]
  },
  {
   "cell_type": "markdown",
   "metadata": {},
   "source": [
    "# Distance based: classification is based on some time series specific distance measure between series"
   ]
  },
  {
   "cell_type": "markdown",
   "metadata": {},
   "source": [
    "Distance based classifiers use a distance function to measure the similarity between time series."
   ]
  },
  {
   "cell_type": "markdown",
   "metadata": {},
   "source": [
    "## Rank 1 Proximity Forest"
   ]
  },
  {
   "cell_type": "code",
   "execution_count": null,
   "metadata": {},
   "outputs": [],
   "source": [
    "# Rank 1 Proximity Forest\n",
    "from sktime.classification.distance_based import ProximityForest\n"
   ]
  },
  {
   "cell_type": "code",
   "execution_count": null,
   "metadata": {},
   "outputs": [],
   "source": [
    "clf_pf = ProximityForest(\n",
    "    n_estimators=2, max_depth=2, n_stump_evaluations=1\n",
    ") "
   ]
  },
  {
   "cell_type": "code",
   "execution_count": null,
   "metadata": {},
   "outputs": [],
   "source": [
    "\n",
    "clf_pf.fit(X_train, y_train) \n",
    "y_pred_pf = clf_pf.predict(X_test) "
   ]
  },
  {
   "cell_type": "code",
   "execution_count": null,
   "metadata": {},
   "outputs": [],
   "source": [
    "print(accuracy_score(y_test, y_pred_pf))\n",
    "print(f1_score(y_test, y_pred_pf, average='weighted'))\n",
    "print(precision_score(y_test, y_pred_pf, average='weighted'))\n",
    "print(recall_score(y_test, y_pred_pf, average='weighted'))"
   ]
  },
  {
   "cell_type": "markdown",
   "metadata": {},
   "source": [
    "## Rank 2 Elastic Ensemble"
   ]
  },
  {
   "cell_type": "code",
   "execution_count": 15,
   "metadata": {},
   "outputs": [],
   "source": [
    "from aeon.classification.distance_based import ElasticEnsemble\n",
    "\n",
    "clf_ee = ElasticEnsemble(\n",
    "    proportion_of_param_options=0.1,\n",
    "    proportion_train_for_test=0.1,\n",
    "    distance_measures = [\"dtw\",\"ddtw\"],\n",
    "    majority_vote=True,\n",
    ")\n",
    "clf_ee.fit(X_train, y_train)\n",
    "\n",
    "y_pred_ee = clf_ee.predict(X_test)"
   ]
  },
  {
   "cell_type": "code",
   "execution_count": 19,
   "metadata": {},
   "outputs": [
    {
     "data": {
      "text/plain": [
       "0.589735516372796"
      ]
     },
     "execution_count": 19,
     "metadata": {},
     "output_type": "execute_result"
    }
   ],
   "source": [
    "accuracy_score(y_test, y_pred_ee)"
   ]
  },
  {
   "cell_type": "code",
   "execution_count": 20,
   "metadata": {},
   "outputs": [
    {
     "data": {
      "text/plain": [
       "0.5885390583618273"
      ]
     },
     "execution_count": 20,
     "metadata": {},
     "output_type": "execute_result"
    }
   ],
   "source": [
    "f1_score(y_test, y_pred_ee, average='weighted')"
   ]
  },
  {
   "cell_type": "code",
   "execution_count": 21,
   "metadata": {},
   "outputs": [
    {
     "data": {
      "text/plain": [
       "0.5990188071138511"
      ]
     },
     "execution_count": 21,
     "metadata": {},
     "output_type": "execute_result"
    }
   ],
   "source": [
    "precision_score(y_test, y_pred_ee, average='weighted')"
   ]
  },
  {
   "cell_type": "code",
   "execution_count": 22,
   "metadata": {},
   "outputs": [
    {
     "data": {
      "text/plain": [
       "0.589735516372796"
      ]
     },
     "execution_count": 22,
     "metadata": {},
     "output_type": "execute_result"
    }
   ],
   "source": [
    "recall_score(y_test, y_pred_ee, average='weighted')"
   ]
  },
  {
   "cell_type": "markdown",
   "metadata": {},
   "source": [
    "# Feature based: global features are extracted and passed to a standard clas- sifier in a simple pipeline"
   ]
  },
  {
   "cell_type": "markdown",
   "metadata": {},
   "source": [
    "## Rank 1 FreshPrince"
   ]
  },
  {
   "cell_type": "code",
   "execution_count": 23,
   "metadata": {},
   "outputs": [],
   "source": [
    "from sktime.classification.feature_based import FreshPRINCE\n",
    "#from sktime._contrib.vector_classifiers._rotation_forest import RotationForest\n",
    "\n",
    "clf_freshPRINCE = FreshPRINCE(\n",
    "    default_fc_parameters=\"minimal\",\n",
    "    n_estimators=5,\n",
    ")\n",
    "clf_freshPRINCE.fit(X_train, y_train)\n",
    "FreshPRINCE(...)\n",
    "y_pred_freshPRINCE = clf_freshPRINCE.predict(X_test)"
   ]
  },
  {
   "cell_type": "code",
   "execution_count": 24,
   "metadata": {},
   "outputs": [
    {
     "data": {
      "text/plain": [
       "0.4905541561712846"
      ]
     },
     "execution_count": 24,
     "metadata": {},
     "output_type": "execute_result"
    }
   ],
   "source": [
    "accuracy_score(y_test, y_pred_freshPRINCE)"
   ]
  },
  {
   "cell_type": "code",
   "execution_count": 25,
   "metadata": {},
   "outputs": [
    {
     "data": {
      "text/plain": [
       "0.49030754338841764"
      ]
     },
     "execution_count": 25,
     "metadata": {},
     "output_type": "execute_result"
    }
   ],
   "source": [
    "f1_score(y_test, y_pred_freshPRINCE, average='weighted')"
   ]
  },
  {
   "cell_type": "code",
   "execution_count": 26,
   "metadata": {},
   "outputs": [
    {
     "data": {
      "text/plain": [
       "0.49140357099664395"
      ]
     },
     "execution_count": 26,
     "metadata": {},
     "output_type": "execute_result"
    }
   ],
   "source": [
    "precision_score(y_test, y_pred_freshPRINCE, average='weighted')"
   ]
  },
  {
   "cell_type": "code",
   "execution_count": 27,
   "metadata": {},
   "outputs": [
    {
     "data": {
      "text/plain": [
       "0.4905541561712846"
      ]
     },
     "execution_count": 27,
     "metadata": {},
     "output_type": "execute_result"
    }
   ],
   "source": [
    "recall_score(y_test, y_pred_freshPRINCE, average='weighted')"
   ]
  },
  {
   "cell_type": "markdown",
   "metadata": {},
   "source": [
    "## Rank 2 TSFResh"
   ]
  },
  {
   "cell_type": "code",
   "execution_count": 28,
   "metadata": {},
   "outputs": [],
   "source": [
    "from sktime.classification.feature_based import TSFreshClassifier\n",
    "from sklearn.ensemble import RandomForestClassifier\n",
    "\n",
    "clfTSFresh = TSFreshClassifier(\n",
    "    default_fc_parameters=\"minimal\",\n",
    "    estimator=RandomForestClassifier(n_estimators=5),\n",
    ")\n",
    "clfTSFresh.fit(X_train, y_train)\n",
    "TSFreshClassifier(...)\n",
    "y_pred_TSFresh = clfTSFresh.predict(X_test)"
   ]
  },
  {
   "cell_type": "code",
   "execution_count": 29,
   "metadata": {},
   "outputs": [
    {
     "data": {
      "text/plain": [
       "0.46914357682619645"
      ]
     },
     "execution_count": 29,
     "metadata": {},
     "output_type": "execute_result"
    }
   ],
   "source": [
    "accuracy_score(y_test, y_pred_TSFresh)"
   ]
  },
  {
   "cell_type": "code",
   "execution_count": 30,
   "metadata": {},
   "outputs": [
    {
     "data": {
      "text/plain": [
       "0.4687427222431061"
      ]
     },
     "execution_count": 30,
     "metadata": {},
     "output_type": "execute_result"
    }
   ],
   "source": [
    "f1_score(y_test, y_pred_TSFresh, average='weighted')"
   ]
  },
  {
   "cell_type": "code",
   "execution_count": 31,
   "metadata": {},
   "outputs": [
    {
     "data": {
      "text/plain": [
       "0.4708554199790814"
      ]
     },
     "execution_count": 31,
     "metadata": {},
     "output_type": "execute_result"
    }
   ],
   "source": [
    "precision_score(y_test, y_pred_TSFresh, average='weighted')"
   ]
  },
  {
   "cell_type": "code",
   "execution_count": 32,
   "metadata": {},
   "outputs": [
    {
     "data": {
      "text/plain": [
       "0.46914357682619645"
      ]
     },
     "execution_count": 32,
     "metadata": {},
     "output_type": "execute_result"
    }
   ],
   "source": [
    "recall_score(y_test, y_pred_TSFresh, average='weighted')"
   ]
  },
  {
   "cell_type": "markdown",
   "metadata": {},
   "source": [
    "# Interval based: features are derived from selected phase dependent intervals in an ensemble of pipelines"
   ]
  },
  {
   "cell_type": "markdown",
   "metadata": {},
   "source": [
    "Interval based classifiers adopt a random forest ensemble model, where each base classifier is a pipeline of transformation and a tree classifier"
   ]
  },
  {
   "cell_type": "markdown",
   "metadata": {},
   "source": [
    "## Rank 1 DrCIF"
   ]
  },
  {
   "cell_type": "markdown",
   "metadata": {},
   "source": [
    "The Diverse Representation Canonical Interval Forest (DrCIF)"
   ]
  },
  {
   "cell_type": "code",
   "execution_count": 33,
   "metadata": {},
   "outputs": [
    {
     "data": {
      "text/plain": [
       "0.6347607052896725"
      ]
     },
     "execution_count": 33,
     "metadata": {},
     "output_type": "execute_result"
    }
   ],
   "source": [
    "from aeon.classification.compose import ChannelEnsembleClassifier\n",
    "from aeon.classification.interval_based import DrCIFClassifier\n",
    "\n",
    "from aeon.classification.convolution_based import RocketClassifier\n",
    "\n",
    "\n",
    "cls_DrCIF = ChannelEnsembleClassifier(\n",
    "    estimators=[\n",
    "        (\"DrCIF0\", DrCIFClassifier(n_estimators=5, n_intervals=2), [0]),\n",
    "        #(\"ROCKET3\", RocketClassifier(num_kernels=1000), [3, 4]),\n",
    "    ]\n",
    ")\n",
    "\n",
    "cls_DrCIF.fit(X_train, y_train)\n",
    "y_pred_DrCIF = cls_DrCIF.predict(X_test)\n",
    "\n",
    "accuracy_score(y_test, y_pred_DrCIF)"
   ]
  },
  {
   "cell_type": "code",
   "execution_count": 34,
   "metadata": {},
   "outputs": [
    {
     "data": {
      "text/plain": [
       "0.6334609409152372"
      ]
     },
     "execution_count": 34,
     "metadata": {},
     "output_type": "execute_result"
    }
   ],
   "source": [
    "f1_score(y_test, y_pred_DrCIF, average='weighted')"
   ]
  },
  {
   "cell_type": "code",
   "execution_count": 35,
   "metadata": {},
   "outputs": [
    {
     "data": {
      "text/plain": [
       "0.6366439143952461"
      ]
     },
     "execution_count": 35,
     "metadata": {},
     "output_type": "execute_result"
    }
   ],
   "source": [
    "precision_score(y_test, y_pred_DrCIF, average='weighted')"
   ]
  },
  {
   "cell_type": "code",
   "execution_count": 36,
   "metadata": {},
   "outputs": [
    {
     "data": {
      "text/plain": [
       "0.6347607052896725"
      ]
     },
     "execution_count": 36,
     "metadata": {},
     "output_type": "execute_result"
    }
   ],
   "source": [
    "recall_score(y_test, y_pred_DrCIF, average='weighted')"
   ]
  },
  {
   "cell_type": "markdown",
   "metadata": {},
   "source": [
    "## Rank 2 rSTSF"
   ]
  },
  {
   "cell_type": "code",
   "execution_count": 37,
   "metadata": {},
   "outputs": [],
   "source": [
    "# Nestor Cabello, Elham Naghizade, Jianzhong Qi, Lars Kulik\n",
    "# Fast, accurate and explainable time series classification through randomization.\n",
    "# Data Min Know Disc (2023)\n",
    "\n",
    "from rSTSF_functions import *"
   ]
  },
  {
   "cell_type": "code",
   "execution_count": 38,
   "metadata": {},
   "outputs": [],
   "source": [
    "##Parameters that r-STSF uses\n",
    "\n",
    "# Statistics or aggregation functions\n",
    "# Note: np.percentile and np.quantile are just used as identifiers for \n",
    "# count mean-crossings (cmc) and count of values above mean (cam) statistics. See function getIntervalFeature(...)\n",
    "agg_fns = [np.mean, np.std, np.polyfit, np.median, np.min, np.max, iqr, np.percentile, np.quantile]\n",
    "repr_types = [1,2,3,4] # 1: Raw series, 2: Periodogram, 3: First-order Difference, 4: Autoregressive\n",
    "d = 50 # Number of sets of candidate discriminatory interval features to compute\n",
    "r = 500 # Number of trees"
   ]
  },
  {
   "cell_type": "code",
   "execution_count": 39,
   "metadata": {},
   "outputs": [],
   "source": [
    "clf_rSTSF = rstsf(agg_fns=agg_fns, repr_types=repr_types[:1], d=1, r=2)\n",
    "clf_rSTSF.fit(X_train,y_train)"
   ]
  },
  {
   "cell_type": "code",
   "execution_count": 40,
   "metadata": {},
   "outputs": [
    {
     "name": "stdout",
     "output_type": "stream",
     "text": [
      "Dataset:  PopularTimesGoogle\n",
      "run  1\n",
      "training time: 342.3428565490758\n",
      "testing time: 7.989115440985188\n",
      "accuracy:  0.6700251889168766\n",
      "run  2\n",
      "training time: 373.0023939309176\n",
      "testing time: 8.767640887992457\n",
      "accuracy:  0.6719143576826196\n",
      "run  3\n",
      "training time: 334.70174548903015\n",
      "testing time: 8.056428803014569\n",
      "accuracy:  0.6706549118387909\n",
      "run  4\n",
      "training time: 323.02789966901764\n",
      "testing time: 7.759123441996053\n",
      "accuracy:  0.6715994962216625\n",
      "run  5\n",
      "training time: 321.23077849298716\n",
      "testing time: 8.063391536008567\n",
      "accuracy:  0.6728589420654912\n",
      "run  6\n",
      "training time: 316.4782361430116\n",
      "testing time: 7.529486718005501\n",
      "accuracy:  0.6712846347607053\n",
      "run  7\n",
      "training time: 308.3886265089968\n",
      "testing time: 6.814754399936646\n",
      "accuracy:  0.672544080604534\n",
      "run  8\n",
      "training time: 280.0867270290619\n",
      "testing time: 6.571802795981057\n",
      "accuracy:  0.6712846347607053\n",
      "run  9\n",
      "training time: 277.16675790795125\n",
      "testing time: 6.764572376036085\n",
      "accuracy:  0.6706549118387909\n",
      "run  10\n",
      "training time: 287.4950323109515\n",
      "testing time: 6.755547544104047\n",
      "accuracy:  0.6731738035264484\n",
      "avg accuracy for 10 runs:  0.6715994962216625\n",
      "\n",
      "\n"
     ]
    }
   ],
   "source": [
    "dset_names = [\"PopularTimesGoogle\"]\n",
    "\n",
    "nruns = 10\n",
    "\n",
    "accuracies = np.zeros((len(dset_names),nruns))\n",
    "training_times = []\n",
    "testing_times = []\n",
    "\n",
    "cont_dsets = 0\n",
    "for dset_name in dset_names:\n",
    "    print(\"Dataset: \", dset_name)\n",
    "\n",
    "    inner_training_time = []\n",
    "    inner_testing_time = []\n",
    "    \n",
    "    for nrun in range(nruns):\n",
    "        print('run ',str(nrun+1))\n",
    "        timeA = time.perf_counter()\n",
    "        \n",
    "        clf_rstsf = rstsf()\n",
    "        clf_rstsf.fit(X_train, y_train)\n",
    "\n",
    "        current_training_time = time.perf_counter()-timeA\n",
    "        inner_training_time.append(current_training_time)\n",
    "        print(f\"training time: {current_training_time}\")\n",
    "\n",
    "        timeA = time.perf_counter()\n",
    "        \n",
    "        y_pred_rSTSF = clf_rstsf.predict(X_test)\n",
    "\n",
    "\n",
    "        current_testing_time = time.perf_counter()-timeA\n",
    "        inner_testing_time.append(current_testing_time)\n",
    "        print(f\"testing time: {current_testing_time}\")\n",
    "\n",
    "        accu = np.sum(y_pred_rSTSF==y_test)/len(y_test)\n",
    "        print('accuracy: ', accu)\n",
    "        accuracies[cont_dsets,nrun] = accu\n",
    "\n",
    "    avg_accuracy_this_dataset = np.mean(accuracies[cont_dsets,:])\n",
    "    print('avg accuracy for ' + str(nruns) + ' runs: ' , avg_accuracy_this_dataset)\n",
    "    \n",
    "    training_times.append(np.mean(inner_training_time))\n",
    "    testing_times.append(np.mean(inner_testing_time))\n",
    "\n",
    "    cont_dsets+=1\n",
    "    print(\"\\n\")\n",
    "\n",
    "\n",
    "## comment/uncomment the lines below according to the number of runs\n",
    "columns = {'Dataset':dset_names,\n",
    "           'run1':accuracies[:,0],\n",
    "               'run2':accuracies[:,1],\n",
    "               'run3':accuracies[:,2],\n",
    "               'run4':accuracies[:,3],\n",
    "               'run5':accuracies[:,4],\n",
    "               'run6':accuracies[:,5],\n",
    "               'run7':accuracies[:,6],\n",
    "               'run8':accuracies[:,7],\n",
    "               'run9':accuracies[:,8],\n",
    "               'run10':accuracies[:,9],\n",
    "           'avgAccu':np.mean(accuracies,axis=1),\n",
    "           'avgTrainTime':np.array(training_times),'avgTestTime':np.array(testing_times)}\n",
    "dfResults = pd.DataFrame(columns)\n",
    "dfResults = dfResults[['Dataset',\n",
    "                       'run1',\n",
    "                           'run2',\n",
    "                           'run3',\n",
    "                           'run4',\n",
    "                           'run5',\n",
    "                           'run6',\n",
    "                           'run7',\n",
    "                           'run8',\n",
    "                           'run9',\n",
    "                           'run10',\n",
    "                       'avgAccu','avgTrainTime','avgTestTime'\n",
    "                      ]]\n"
   ]
  },
  {
   "cell_type": "code",
   "execution_count": 56,
   "metadata": {},
   "outputs": [
    {
     "data": {
      "text/plain": [
       "0.6731738035264484"
      ]
     },
     "execution_count": 56,
     "metadata": {},
     "output_type": "execute_result"
    }
   ],
   "source": [
    "accu"
   ]
  },
  {
   "cell_type": "code",
   "execution_count": 42,
   "metadata": {},
   "outputs": [
    {
     "data": {
      "text/plain": [
       "0.6731738035264484"
      ]
     },
     "execution_count": 42,
     "metadata": {},
     "output_type": "execute_result"
    }
   ],
   "source": [
    "accuracy_score(y_test, y_pred_rSTSF)"
   ]
  },
  {
   "cell_type": "code",
   "execution_count": 43,
   "metadata": {},
   "outputs": [
    {
     "data": {
      "text/plain": [
       "0.6720210125150334"
      ]
     },
     "execution_count": 43,
     "metadata": {},
     "output_type": "execute_result"
    }
   ],
   "source": [
    "f1_score(y_test, y_pred_rSTSF, average='weighted')"
   ]
  },
  {
   "cell_type": "code",
   "execution_count": 44,
   "metadata": {},
   "outputs": [
    {
     "data": {
      "text/plain": [
       "0.673909545319221"
      ]
     },
     "execution_count": 44,
     "metadata": {},
     "output_type": "execute_result"
    }
   ],
   "source": [
    "precision_score(y_test, y_pred_rSTSF, average='weighted')"
   ]
  },
  {
   "cell_type": "code",
   "execution_count": 58,
   "metadata": {},
   "outputs": [
    {
     "data": {
      "text/plain": [
       "0.6731738035264484"
      ]
     },
     "execution_count": 58,
     "metadata": {},
     "output_type": "execute_result"
    }
   ],
   "source": [
    "recall_score(y_test, y_pred_rSTSF, average='weighted')"
   ]
  },
  {
   "cell_type": "markdown",
   "metadata": {},
   "source": [
    "# Shapelet based: phase independent discriminatory subseries form the basis for classification"
   ]
  },
  {
   "cell_type": "markdown",
   "metadata": {},
   "source": [
    "Shapelets are subseries from the training data that are independent of the phase and can be used to discriminate between classes of time series based on their presence or absence."
   ]
  },
  {
   "cell_type": "markdown",
   "metadata": {},
   "source": [
    "## Rank 1 Random Dilated Shapelet Transform (RDST)"
   ]
  },
  {
   "cell_type": "code",
   "execution_count": 59,
   "metadata": {},
   "outputs": [
    {
     "data": {
      "text/plain": [
       "0.6926952141057935"
      ]
     },
     "execution_count": 59,
     "metadata": {},
     "output_type": "execute_result"
    }
   ],
   "source": [
    "from aeon.classification.shapelet_based import RDSTClassifier\n",
    "\n",
    "rdst_AEON = RDSTClassifier()\n",
    "rdst_AEON.fit(X_train, y_train)\n",
    "y_pred_rdst_AEON = rdst_AEON.predict(X_test)\n"
   ]
  },
  {
   "cell_type": "code",
   "execution_count": 60,
   "metadata": {},
   "outputs": [
    {
     "data": {
      "text/plain": [
       "0.6926952141057935"
      ]
     },
     "execution_count": 60,
     "metadata": {},
     "output_type": "execute_result"
    }
   ],
   "source": [
    "accuracy_score(y_test, y_pred_rdst_AEON)"
   ]
  },
  {
   "cell_type": "code",
   "execution_count": 61,
   "metadata": {},
   "outputs": [
    {
     "data": {
      "text/plain": [
       "0.69105993209306"
      ]
     },
     "execution_count": 61,
     "metadata": {},
     "output_type": "execute_result"
    }
   ],
   "source": [
    "f1_score(y_test, y_pred_rdst_AEON, average='weighted')"
   ]
  },
  {
   "cell_type": "code",
   "execution_count": 62,
   "metadata": {},
   "outputs": [
    {
     "data": {
      "text/plain": [
       "0.6943262284065441"
      ]
     },
     "execution_count": 62,
     "metadata": {},
     "output_type": "execute_result"
    }
   ],
   "source": [
    "precision_score(y_test, y_pred_rdst_AEON, average='weighted')"
   ]
  },
  {
   "cell_type": "code",
   "execution_count": 63,
   "metadata": {},
   "outputs": [
    {
     "data": {
      "text/plain": [
       "0.6926952141057935"
      ]
     },
     "execution_count": 63,
     "metadata": {},
     "output_type": "execute_result"
    }
   ],
   "source": [
    "recall_score(y_test, y_pred_rdst_AEON, average='weighted')"
   ]
  },
  {
   "cell_type": "markdown",
   "metadata": {},
   "source": [
    "## Rank 2 MrSQM"
   ]
  },
  {
   "cell_type": "markdown",
   "metadata": {},
   "source": [
    "Multiple Representations Sequence Miner"
   ]
  },
  {
   "cell_type": "code",
   "execution_count": 64,
   "metadata": {},
   "outputs": [],
   "source": [
    "from mrsqm import MrSQMClassifier, MrSQMTransformer\n",
    "from sklearn import metrics\n",
    "from scipy.interpolate import interp1d\n",
    "import timeit\n",
    "\n",
    "from sklearn.linear_model import RidgeClassifierCV"
   ]
  },
  {
   "cell_type": "code",
   "execution_count": 65,
   "metadata": {},
   "outputs": [],
   "source": [
    "#Train\n",
    "clf_MrSQMC = MrSQMClassifier(nsax=0, nsfa=5)\n",
    "clf_MrSQMC.fit(X_train,y_train)\n",
    "\n",
    "y_pred_MrSQMC = clf_MrSQMC.predict(X_test)"
   ]
  },
  {
   "cell_type": "markdown",
   "metadata": {},
   "source": [
    "Use MrSQM Transformer"
   ]
  },
  {
   "cell_type": "code",
   "execution_count": 66,
   "metadata": {},
   "outputs": [],
   "source": [
    "tfm = MrSQMTransformer()\n",
    "X_train_transform = tfm.fit_transform(X_train,y_train)\n",
    "X_test_transform = tfm.transform(X_test)"
   ]
  },
  {
   "cell_type": "code",
   "execution_count": 67,
   "metadata": {},
   "outputs": [
    {
     "name": "stdout",
     "output_type": "stream",
     "text": [
      "0.6621536523929471\n"
     ]
    }
   ],
   "source": [
    "# use ridgecv classifier\n",
    "ridge = RidgeClassifierCV(alphas = np.logspace(-3, 3, 10)).fit(X_train_transform,y_train)\n",
    "y_pred_ridgecvt = ridge.predict(X_test_transform)\n",
    "print(metrics.accuracy_score(y_test, y_pred_ridgecvt))"
   ]
  },
  {
   "cell_type": "code",
   "execution_count": 68,
   "metadata": {},
   "outputs": [
    {
     "data": {
      "text/plain": [
       "0.6621536523929471"
      ]
     },
     "execution_count": 68,
     "metadata": {},
     "output_type": "execute_result"
    }
   ],
   "source": [
    "accuracy_score(y_test, y_pred_ridgecvt)"
   ]
  },
  {
   "cell_type": "code",
   "execution_count": 69,
   "metadata": {},
   "outputs": [
    {
     "data": {
      "text/plain": [
       "0.6593042743917886"
      ]
     },
     "execution_count": 69,
     "metadata": {},
     "output_type": "execute_result"
    }
   ],
   "source": [
    "f1_score(y_test, y_pred_ridgecvt, average='weighted')"
   ]
  },
  {
   "cell_type": "code",
   "execution_count": 70,
   "metadata": {},
   "outputs": [
    {
     "data": {
      "text/plain": [
       "0.6632592820905993"
      ]
     },
     "execution_count": 70,
     "metadata": {},
     "output_type": "execute_result"
    }
   ],
   "source": [
    "precision_score(y_test, y_pred_ridgecvt, average='weighted')"
   ]
  },
  {
   "cell_type": "code",
   "execution_count": 71,
   "metadata": {},
   "outputs": [
    {
     "data": {
      "text/plain": [
       "0.6621536523929471"
      ]
     },
     "execution_count": 71,
     "metadata": {},
     "output_type": "execute_result"
    }
   ],
   "source": [
    "recall_score(y_test, y_pred_ridgecvt, average='weighted')"
   ]
  },
  {
   "cell_type": "markdown",
   "metadata": {},
   "source": [
    "# Dictionary based: histograms of counts of repeating patterns are the fea- tures for a classifier"
   ]
  },
  {
   "cell_type": "markdown",
   "metadata": {},
   "source": [
    "Similar to shapelet based algorithms, dictionary approaches extract phase- independent subseries. However, instead of measuring the distance to a sub- series, each window is converted into a short sequence of discrete symbols, commonly known as a word."
   ]
  },
  {
   "cell_type": "markdown",
   "metadata": {},
   "source": [
    "## Rank 1 Weasel-D"
   ]
  },
  {
   "cell_type": "code",
   "execution_count": 72,
   "metadata": {},
   "outputs": [],
   "source": [
    "from weasel.classification.dictionary_based import WEASEL_V2\n",
    "\n",
    "clf_WEASEL_V2 = WEASEL_V2(random_state=1379, n_jobs=4)\n",
    "clf_WEASEL_V2.fit(X_train,y_train)\n",
    "y_pred_WEASEL_V2 = clf_WEASEL_V2.predict(X_test)"
   ]
  },
  {
   "cell_type": "code",
   "execution_count": 73,
   "metadata": {},
   "outputs": [
    {
     "data": {
      "text/plain": [
       "0.6914357682619647"
      ]
     },
     "execution_count": 73,
     "metadata": {},
     "output_type": "execute_result"
    }
   ],
   "source": [
    "accuracy_score(y_test, y_pred_WEASEL_V2)"
   ]
  },
  {
   "cell_type": "code",
   "execution_count": 74,
   "metadata": {},
   "outputs": [
    {
     "data": {
      "text/plain": [
       "0.6896066643131316"
      ]
     },
     "execution_count": 74,
     "metadata": {},
     "output_type": "execute_result"
    }
   ],
   "source": [
    "f1_score(y_test, y_pred_WEASEL_V2, average='weighted')"
   ]
  },
  {
   "cell_type": "code",
   "execution_count": 75,
   "metadata": {},
   "outputs": [
    {
     "data": {
      "text/plain": [
       "0.6921659392983183"
      ]
     },
     "execution_count": 75,
     "metadata": {},
     "output_type": "execute_result"
    }
   ],
   "source": [
    "precision_score(y_test, y_pred_WEASEL_V2, average='weighted')"
   ]
  },
  {
   "cell_type": "code",
   "execution_count": 76,
   "metadata": {},
   "outputs": [
    {
     "data": {
      "text/plain": [
       "0.6914357682619647"
      ]
     },
     "execution_count": 76,
     "metadata": {},
     "output_type": "execute_result"
    }
   ],
   "source": [
    "recall_score(y_test, y_pred_WEASEL_V2, average='weighted')"
   ]
  },
  {
   "cell_type": "markdown",
   "metadata": {},
   "source": [
    "## Rank 2 Temporal Dictonary Ensemble (TDE)"
   ]
  },
  {
   "cell_type": "markdown",
   "metadata": {},
   "source": [
    "combines the best improvements introduced in WEASEL, SpatialBOSS and cBOSS and also includes several novel features."
   ]
  },
  {
   "cell_type": "code",
   "execution_count": 77,
   "metadata": {},
   "outputs": [],
   "source": [
    "from sktime.classification.dictionary_based import TemporalDictionaryEnsemble\n",
    "\n",
    "clf_TDE = TemporalDictionaryEnsemble(\n",
    "    n_parameter_samples=10,\n",
    "    max_ensemble_size=3,\n",
    "    randomly_selected_params=5,\n",
    ") \n",
    "clf_TDE.fit(X_train, y_train) \n",
    "y_pred_TDE = clf_TDE.predict(X_test) "
   ]
  },
  {
   "cell_type": "code",
   "execution_count": 78,
   "metadata": {},
   "outputs": [
    {
     "data": {
      "text/plain": [
       "0.6083123425692695"
      ]
     },
     "execution_count": 78,
     "metadata": {},
     "output_type": "execute_result"
    }
   ],
   "source": [
    "accuracy_score(y_test, y_pred_TDE)"
   ]
  },
  {
   "cell_type": "code",
   "execution_count": 79,
   "metadata": {},
   "outputs": [
    {
     "data": {
      "text/plain": [
       "0.6070893529185151"
      ]
     },
     "execution_count": 79,
     "metadata": {},
     "output_type": "execute_result"
    }
   ],
   "source": [
    "f1_score(y_test, y_pred_TDE, average='weighted')"
   ]
  },
  {
   "cell_type": "code",
   "execution_count": 80,
   "metadata": {},
   "outputs": [
    {
     "data": {
      "text/plain": [
       "0.6072339870959385"
      ]
     },
     "execution_count": 80,
     "metadata": {},
     "output_type": "execute_result"
    }
   ],
   "source": [
    "precision_score(y_test, y_pred_TDE, average='weighted')"
   ]
  },
  {
   "cell_type": "code",
   "execution_count": 81,
   "metadata": {},
   "outputs": [
    {
     "data": {
      "text/plain": [
       "0.6083123425692695"
      ]
     },
     "execution_count": 81,
     "metadata": {},
     "output_type": "execute_result"
    }
   ],
   "source": [
    "recall_score(y_test, y_pred_TDE, average='weighted')"
   ]
  },
  {
   "cell_type": "markdown",
   "metadata": {},
   "source": [
    "# Convolution based: convolutions and pooling operations create the feature space for classification "
   ]
  },
  {
   "cell_type": "code",
   "execution_count": null,
   "metadata": {},
   "outputs": [],
   "source": [
    "Hydra MultiRocket\n",
    "MultiRocket\n",
    "Hydra"
   ]
  },
  {
   "cell_type": "markdown",
   "metadata": {},
   "source": [
    "# Deep learning based: neural network based classification"
   ]
  },
  {
   "cell_type": "markdown",
   "metadata": {},
   "source": [
    "Deep learning has been the most active area of TSC research since the bake off in terms of the number of publications. "
   ]
  },
  {
   "cell_type": "markdown",
   "metadata": {},
   "source": [
    "## Rank 1 InceptionTime"
   ]
  },
  {
   "cell_type": "code",
   "execution_count": 82,
   "metadata": {},
   "outputs": [],
   "source": [
    "import numpy as np\n",
    "import seaborn as sns\n",
    "from sklearn.model_selection import GridSearchCV\n",
    "\n",
    "from sktime.classification.deep_learning.inceptiontime import InceptionTimeClassifier\n",
    "\n",
    "sns.set_style(\"whitegrid\")"
   ]
  },
  {
   "cell_type": "code",
   "execution_count": 83,
   "metadata": {},
   "outputs": [
    {
     "data": {
      "text/plain": [
       "array([0., 1., 2., 3., 4.])"
      ]
     },
     "execution_count": 83,
     "metadata": {},
     "output_type": "execute_result"
    }
   ],
   "source": [
    "np.unique(y_train)"
   ]
  },
  {
   "cell_type": "code",
   "execution_count": 84,
   "metadata": {},
   "outputs": [
    {
     "name": "stderr",
     "output_type": "stream",
     "text": [
      "2024-04-21 13:42:05.005974: I tensorflow/core/platform/cpu_feature_guard.cc:210] This TensorFlow binary is optimized to use available CPU instructions in performance-critical operations.\n",
      "To enable the following instructions: AVX2 FMA, in other operations, rebuild TensorFlow with the appropriate compiler flags.\n"
     ]
    },
    {
     "data": {
      "text/html": [
       "<style>#sk-0471e51e-4e34-4d21-a85a-9dda1a6ca298 {color: black;background-color: white;}#sk-0471e51e-4e34-4d21-a85a-9dda1a6ca298 pre{padding: 0;}#sk-0471e51e-4e34-4d21-a85a-9dda1a6ca298 div.sk-toggleable {background-color: white;}#sk-0471e51e-4e34-4d21-a85a-9dda1a6ca298 label.sk-toggleable__label {cursor: pointer;display: block;width: 100%;margin-bottom: 0;padding: 0.3em;box-sizing: border-box;text-align: center;}#sk-0471e51e-4e34-4d21-a85a-9dda1a6ca298 label.sk-toggleable__label-arrow:before {content: \"▸\";float: left;margin-right: 0.25em;color: #696969;}#sk-0471e51e-4e34-4d21-a85a-9dda1a6ca298 label.sk-toggleable__label-arrow:hover:before {color: black;}#sk-0471e51e-4e34-4d21-a85a-9dda1a6ca298 div.sk-estimator:hover label.sk-toggleable__label-arrow:before {color: black;}#sk-0471e51e-4e34-4d21-a85a-9dda1a6ca298 div.sk-toggleable__content {max-height: 0;max-width: 0;overflow: hidden;text-align: left;background-color: #f0f8ff;}#sk-0471e51e-4e34-4d21-a85a-9dda1a6ca298 div.sk-toggleable__content pre {margin: 0.2em;color: black;border-radius: 0.25em;background-color: #f0f8ff;}#sk-0471e51e-4e34-4d21-a85a-9dda1a6ca298 input.sk-toggleable__control:checked~div.sk-toggleable__content {max-height: 200px;max-width: 100%;overflow: auto;}#sk-0471e51e-4e34-4d21-a85a-9dda1a6ca298 input.sk-toggleable__control:checked~label.sk-toggleable__label-arrow:before {content: \"▾\";}#sk-0471e51e-4e34-4d21-a85a-9dda1a6ca298 div.sk-estimator input.sk-toggleable__control:checked~label.sk-toggleable__label {background-color: #d4ebff;}#sk-0471e51e-4e34-4d21-a85a-9dda1a6ca298 div.sk-label input.sk-toggleable__control:checked~label.sk-toggleable__label {background-color: #d4ebff;}#sk-0471e51e-4e34-4d21-a85a-9dda1a6ca298 input.sk-hidden--visually {border: 0;clip: rect(1px 1px 1px 1px);clip: rect(1px, 1px, 1px, 1px);height: 1px;margin: -1px;overflow: hidden;padding: 0;position: absolute;width: 1px;}#sk-0471e51e-4e34-4d21-a85a-9dda1a6ca298 div.sk-estimator {font-family: monospace;background-color: #f0f8ff;border: 1px dotted black;border-radius: 0.25em;box-sizing: border-box;margin-bottom: 0.5em;}#sk-0471e51e-4e34-4d21-a85a-9dda1a6ca298 div.sk-estimator:hover {background-color: #d4ebff;}#sk-0471e51e-4e34-4d21-a85a-9dda1a6ca298 div.sk-parallel-item::after {content: \"\";width: 100%;border-bottom: 1px solid gray;flex-grow: 1;}#sk-0471e51e-4e34-4d21-a85a-9dda1a6ca298 div.sk-label:hover label.sk-toggleable__label {background-color: #d4ebff;}#sk-0471e51e-4e34-4d21-a85a-9dda1a6ca298 div.sk-serial::before {content: \"\";position: absolute;border-left: 1px solid gray;box-sizing: border-box;top: 2em;bottom: 0;left: 50%;}#sk-0471e51e-4e34-4d21-a85a-9dda1a6ca298 div.sk-serial {display: flex;flex-direction: column;align-items: center;background-color: white;padding-right: 0.2em;padding-left: 0.2em;}#sk-0471e51e-4e34-4d21-a85a-9dda1a6ca298 div.sk-item {z-index: 1;}#sk-0471e51e-4e34-4d21-a85a-9dda1a6ca298 div.sk-parallel {display: flex;align-items: stretch;justify-content: center;background-color: white;}#sk-0471e51e-4e34-4d21-a85a-9dda1a6ca298 div.sk-parallel::before {content: \"\";position: absolute;border-left: 1px solid gray;box-sizing: border-box;top: 2em;bottom: 0;left: 50%;}#sk-0471e51e-4e34-4d21-a85a-9dda1a6ca298 div.sk-parallel-item {display: flex;flex-direction: column;position: relative;background-color: white;}#sk-0471e51e-4e34-4d21-a85a-9dda1a6ca298 div.sk-parallel-item:first-child::after {align-self: flex-end;width: 50%;}#sk-0471e51e-4e34-4d21-a85a-9dda1a6ca298 div.sk-parallel-item:last-child::after {align-self: flex-start;width: 50%;}#sk-0471e51e-4e34-4d21-a85a-9dda1a6ca298 div.sk-parallel-item:only-child::after {width: 0;}#sk-0471e51e-4e34-4d21-a85a-9dda1a6ca298 div.sk-dashed-wrapped {border: 1px dashed gray;margin: 0 0.4em 0.5em 0.4em;box-sizing: border-box;padding-bottom: 0.4em;background-color: white;position: relative;}#sk-0471e51e-4e34-4d21-a85a-9dda1a6ca298 div.sk-label label {font-family: monospace;font-weight: bold;background-color: white;display: inline-block;line-height: 1.2em;}#sk-0471e51e-4e34-4d21-a85a-9dda1a6ca298 div.sk-label-container {position: relative;z-index: 2;text-align: center;}#sk-0471e51e-4e34-4d21-a85a-9dda1a6ca298 div.sk-container {/* jupyter's `normalize.less` sets `[hidden] { display: none; }` but bootstrap.min.css set `[hidden] { display: none !important; }` so we also need the `!important` here to be able to override the default hidden behavior on the sphinx rendered scikit-learn.org. See: https://github.com/scikit-learn/scikit-learn/issues/21755 */display: inline-block !important;position: relative;}#sk-0471e51e-4e34-4d21-a85a-9dda1a6ca298 div.sk-text-repr-fallback {display: none;}</style><div id='sk-0471e51e-4e34-4d21-a85a-9dda1a6ca298' class=\"sk-top-container\"><div class=\"sk-text-repr-fallback\"><pre>InceptionTimeClassifier(n_epochs=10000)</pre><b>Please rerun this cell to show the HTML repr or trust the notebook.</b></div><div class=\"sk-container\" hidden><div class='sk-item'><div class=\"sk-estimator sk-toggleable\"><input class=\"sk-toggleable__control sk-hidden--visually\" id=UUID('c25e8f30-f6d7-4d04-ab8a-5daa668c8403') type=\"checkbox\" checked><label for=UUID('c25e8f30-f6d7-4d04-ab8a-5daa668c8403') class='sk-toggleable__label sk-toggleable__label-arrow'>InceptionTimeClassifier</label><div class=\"sk-toggleable__content\"><pre>InceptionTimeClassifier(n_epochs=10000)</pre></div></div></div></div></div>"
      ],
      "text/plain": [
       "InceptionTimeClassifier(n_epochs=10000)"
      ]
     },
     "execution_count": 84,
     "metadata": {},
     "output_type": "execute_result"
    }
   ],
   "source": [
    "network = InceptionTimeClassifier(n_epochs=10000, verbose=False)\n",
    "network.fit(X_train, y_train)"
   ]
  },
  {
   "cell_type": "code",
   "execution_count": 85,
   "metadata": {},
   "outputs": [
    {
     "name": "stdout",
     "output_type": "stream",
     "text": [
      "\u001b[1m50/50\u001b[0m \u001b[32m━━━━━━━━━━━━━━━━━━━━\u001b[0m\u001b[37m\u001b[0m \u001b[1m3s\u001b[0m 44ms/step\n"
     ]
    },
    {
     "data": {
      "text/plain": [
       "0.08847607052896725"
      ]
     },
     "execution_count": 85,
     "metadata": {},
     "output_type": "execute_result"
    }
   ],
   "source": [
    "network.score(X_test, y_test)"
   ]
  },
  {
   "cell_type": "code",
   "execution_count": 86,
   "metadata": {},
   "outputs": [
    {
     "name": "stdout",
     "output_type": "stream",
     "text": [
      "\u001b[1m50/50\u001b[0m \u001b[32m━━━━━━━━━━━━━━━━━━━━\u001b[0m\u001b[37m\u001b[0m \u001b[1m2s\u001b[0m 30ms/step\n"
     ]
    }
   ],
   "source": [
    "y_pred_Inception = network.predict(X_test) "
   ]
  },
  {
   "cell_type": "code",
   "execution_count": 87,
   "metadata": {},
   "outputs": [
    {
     "data": {
      "text/plain": [
       "0.08847607052896725"
      ]
     },
     "execution_count": 87,
     "metadata": {},
     "output_type": "execute_result"
    }
   ],
   "source": [
    "accuracy_score(y_test, y_pred_Inception)"
   ]
  },
  {
   "cell_type": "code",
   "execution_count": 88,
   "metadata": {},
   "outputs": [
    {
     "data": {
      "text/plain": [
       "0.08545425766145792"
      ]
     },
     "execution_count": 88,
     "metadata": {},
     "output_type": "execute_result"
    }
   ],
   "source": [
    "f1_score(y_test, y_pred_Inception, average='weighted')"
   ]
  },
  {
   "cell_type": "code",
   "execution_count": 89,
   "metadata": {},
   "outputs": [
    {
     "data": {
      "text/plain": [
       "0.3009053455187936"
      ]
     },
     "execution_count": 89,
     "metadata": {},
     "output_type": "execute_result"
    }
   ],
   "source": [
    "precision_score(y_test, y_pred_Inception, average='weighted')"
   ]
  },
  {
   "cell_type": "code",
   "execution_count": 90,
   "metadata": {},
   "outputs": [
    {
     "data": {
      "text/plain": [
       "0.08847607052896725"
      ]
     },
     "execution_count": 90,
     "metadata": {},
     "output_type": "execute_result"
    }
   ],
   "source": [
    "recall_score(y_test, y_pred_Inception, average='weighted')"
   ]
  },
  {
   "cell_type": "markdown",
   "metadata": {},
   "source": [
    "## Rank 2 ResNet"
   ]
  },
  {
   "cell_type": "code",
   "execution_count": 91,
   "metadata": {},
   "outputs": [
    {
     "name": "stdout",
     "output_type": "stream",
     "text": [
      "\u001b[1m199/199\u001b[0m \u001b[32m━━━━━━━━━━━━━━━━━━━━\u001b[0m\u001b[37m\u001b[0m \u001b[1m3s\u001b[0m 11ms/step\n"
     ]
    },
    {
     "ename": "ValueError",
     "evalue": "'a' cannot be empty unless no samples are taken",
     "output_type": "error",
     "traceback": [
      "\u001b[0;31m---------------------------------------------------------------------------\u001b[0m",
      "\u001b[0;31mValueError\u001b[0m                                Traceback (most recent call last)",
      "Cell \u001b[0;32mIn[91], line 4\u001b[0m\n\u001b[1;32m      2\u001b[0m clf_resnet \u001b[38;5;241m=\u001b[39m ResNetClassifier(n_epochs\u001b[38;5;241m=\u001b[39m\u001b[38;5;241m10000\u001b[39m) \n\u001b[1;32m      3\u001b[0m clf_resnet\u001b[38;5;241m.\u001b[39mfit(X_train, y_train)\n\u001b[0;32m----> 4\u001b[0m y_pred_resnet \u001b[38;5;241m=\u001b[39m \u001b[43mclf_resnet\u001b[49m\u001b[38;5;241;43m.\u001b[39;49m\u001b[43mpredict\u001b[49m\u001b[43m(\u001b[49m\u001b[43mX_test\u001b[49m\u001b[43m)\u001b[49m \n",
      "File \u001b[0;32m~/Desktop/Mestrado/.venv/lib/python3.9/site-packages/sktime/classification/base.py:309\u001b[0m, in \u001b[0;36mBaseClassifier.predict\u001b[0;34m(self, X)\u001b[0m\n\u001b[1;32m    306\u001b[0m     \u001b[38;5;28;01mreturn\u001b[39;00m \u001b[38;5;28mself\u001b[39m\u001b[38;5;241m.\u001b[39m_single_class_y_pred(X, method\u001b[38;5;241m=\u001b[39m\u001b[38;5;124m\"\u001b[39m\u001b[38;5;124mpredict\u001b[39m\u001b[38;5;124m\"\u001b[39m)\n\u001b[1;32m    308\u001b[0m \u001b[38;5;66;03m# call internal _predict, convert output\u001b[39;00m\n\u001b[0;32m--> 309\u001b[0m y_pred_inner \u001b[38;5;241m=\u001b[39m \u001b[38;5;28;43mself\u001b[39;49m\u001b[38;5;241;43m.\u001b[39;49m\u001b[43m_predict\u001b[49m\u001b[43m(\u001b[49m\u001b[43mX\u001b[49m\u001b[43m)\u001b[49m\n\u001b[1;32m    310\u001b[0m y_pred \u001b[38;5;241m=\u001b[39m \u001b[38;5;28mself\u001b[39m\u001b[38;5;241m.\u001b[39m_convert_output_y(y_pred_inner)\n\u001b[1;32m    311\u001b[0m \u001b[38;5;28;01mreturn\u001b[39;00m y_pred\n",
      "File \u001b[0;32m~/Desktop/Mestrado/.venv/lib/python3.9/site-packages/sktime/classification/deep_learning/base.py:76\u001b[0m, in \u001b[0;36mBaseDeepClassifier._predict\u001b[0;34m(self, X, **kwargs)\u001b[0m\n\u001b[1;32m     73\u001b[0m probs \u001b[38;5;241m=\u001b[39m \u001b[38;5;28mself\u001b[39m\u001b[38;5;241m.\u001b[39m_predict_proba(X, \u001b[38;5;241m*\u001b[39m\u001b[38;5;241m*\u001b[39mkwargs)\n\u001b[1;32m     74\u001b[0m rng \u001b[38;5;241m=\u001b[39m check_random_state(\u001b[38;5;28mself\u001b[39m\u001b[38;5;241m.\u001b[39mrandom_state)\n\u001b[1;32m     75\u001b[0m \u001b[38;5;28;01mreturn\u001b[39;00m np\u001b[38;5;241m.\u001b[39marray(\n\u001b[0;32m---> 76\u001b[0m     [\n\u001b[1;32m     77\u001b[0m         \u001b[38;5;28mself\u001b[39m\u001b[38;5;241m.\u001b[39mclasses_[\u001b[38;5;28mint\u001b[39m(rng\u001b[38;5;241m.\u001b[39mchoice(np\u001b[38;5;241m.\u001b[39mflatnonzero(prob \u001b[38;5;241m==\u001b[39m prob\u001b[38;5;241m.\u001b[39mmax())))]\n\u001b[1;32m     78\u001b[0m         \u001b[38;5;28;01mfor\u001b[39;00m prob \u001b[38;5;129;01min\u001b[39;00m probs\n\u001b[1;32m     79\u001b[0m     ]\n\u001b[1;32m     80\u001b[0m )\n",
      "File \u001b[0;32m~/Desktop/Mestrado/.venv/lib/python3.9/site-packages/sktime/classification/deep_learning/base.py:77\u001b[0m, in \u001b[0;36m<listcomp>\u001b[0;34m(.0)\u001b[0m\n\u001b[1;32m     73\u001b[0m probs \u001b[38;5;241m=\u001b[39m \u001b[38;5;28mself\u001b[39m\u001b[38;5;241m.\u001b[39m_predict_proba(X, \u001b[38;5;241m*\u001b[39m\u001b[38;5;241m*\u001b[39mkwargs)\n\u001b[1;32m     74\u001b[0m rng \u001b[38;5;241m=\u001b[39m check_random_state(\u001b[38;5;28mself\u001b[39m\u001b[38;5;241m.\u001b[39mrandom_state)\n\u001b[1;32m     75\u001b[0m \u001b[38;5;28;01mreturn\u001b[39;00m np\u001b[38;5;241m.\u001b[39marray(\n\u001b[1;32m     76\u001b[0m     [\n\u001b[0;32m---> 77\u001b[0m         \u001b[38;5;28mself\u001b[39m\u001b[38;5;241m.\u001b[39mclasses_[\u001b[38;5;28mint\u001b[39m(\u001b[43mrng\u001b[49m\u001b[38;5;241;43m.\u001b[39;49m\u001b[43mchoice\u001b[49m\u001b[43m(\u001b[49m\u001b[43mnp\u001b[49m\u001b[38;5;241;43m.\u001b[39;49m\u001b[43mflatnonzero\u001b[49m\u001b[43m(\u001b[49m\u001b[43mprob\u001b[49m\u001b[43m \u001b[49m\u001b[38;5;241;43m==\u001b[39;49m\u001b[43m \u001b[49m\u001b[43mprob\u001b[49m\u001b[38;5;241;43m.\u001b[39;49m\u001b[43mmax\u001b[49m\u001b[43m(\u001b[49m\u001b[43m)\u001b[49m\u001b[43m)\u001b[49m\u001b[43m)\u001b[49m)]\n\u001b[1;32m     78\u001b[0m         \u001b[38;5;28;01mfor\u001b[39;00m prob \u001b[38;5;129;01min\u001b[39;00m probs\n\u001b[1;32m     79\u001b[0m     ]\n\u001b[1;32m     80\u001b[0m )\n",
      "File \u001b[0;32mmtrand.pyx:934\u001b[0m, in \u001b[0;36mnumpy.random.mtrand.RandomState.choice\u001b[0;34m()\u001b[0m\n",
      "\u001b[0;31mValueError\u001b[0m: 'a' cannot be empty unless no samples are taken"
     ]
    }
   ],
   "source": [
    "from sktime.classification.deep_learning.resnet import ResNetClassifier\n",
    "clf_resnet = ResNetClassifier(n_epochs=10000) \n",
    "clf_resnet.fit(X_train, y_train)\n",
    "y_pred_resnet = clf_resnet.predict(X_test) "
   ]
  },
  {
   "cell_type": "code",
   "execution_count": null,
   "metadata": {},
   "outputs": [],
   "source": [
    "accuracy_score(y_test, y_pred_resnet)"
   ]
  },
  {
   "cell_type": "code",
   "execution_count": null,
   "metadata": {},
   "outputs": [],
   "source": [
    "f1_score(y_test, y_pred_resnet, average='weighted')"
   ]
  },
  {
   "cell_type": "code",
   "execution_count": null,
   "metadata": {},
   "outputs": [],
   "source": [
    "precision_score(y_test, y_pred_resnet, average='weighted')"
   ]
  },
  {
   "cell_type": "code",
   "execution_count": null,
   "metadata": {},
   "outputs": [],
   "source": [
    "recall_score(y_test, y_pred_resnet, average='weighted')"
   ]
  },
  {
   "cell_type": "markdown",
   "metadata": {},
   "source": [
    "# Hybrid approaches combine two or more of the above approaches"
   ]
  },
  {
   "cell_type": "markdown",
   "metadata": {},
   "source": [
    "## Rank 1 HIVE-COTE version 2 (HC2)"
   ]
  },
  {
   "cell_type": "markdown",
   "metadata": {},
   "source": [
    "## Rank 2 Time Series Combination of Heterogeneous and Integrated Embeddings Forest TS-CHIEF"
   ]
  },
  {
   "cell_type": "markdown",
   "metadata": {},
   "source": [
    "não encontrei o código/biblioteca"
   ]
  },
  {
   "cell_type": "markdown",
   "metadata": {},
   "source": [
    "## genetic algorithms"
   ]
  },
  {
   "cell_type": "code",
   "execution_count": 227,
   "metadata": {},
   "outputs": [],
   "source": [
    "from scipy.optimize import minimize\n",
    "\n",
    "N = 1\n",
    "categ = 0\n",
    "# X_ini = np.random.rand(N*24)\n",
    "X_cat, y_cat = extract_x_y(df,0,0,categ)\n",
    "X_avg = X_cat.mean(axis=0)\n",
    "X_avg = np.pad(X_avg, ((2,2)), mode='constant', constant_values=0)\n",
    "\n",
    "def fitness(X):\n",
    "    X_np = np.array(X)\n",
    "    X_sig = transform(torch.tensor(np.expand_dims(\n",
    "        X_np.reshape(N,24),\n",
    "        axis=1\n",
    "    ), dtype=torch.float32))\n",
    "\n",
    "    violated_constraints = np.maximum(0, X_np - 1.0) + np.maximum(0, 0.0 - X_np)\n",
    "    penalty = sum(violated_constraints)\n",
    "    distance = np.mean([np.min([np.linalg.norm(X_avg[x:x+24] - row) for x in range(5)]) for row in X_np.reshape(N, 24)])\n",
    "\n",
    "    y = hydra_classifier.predict(X_sig)\n",
    "    \n",
    "    return accuracy_score([categ]*N, y), - penalty, - distance\n",
    "\n",
    "# return accuracy_score([0,0,0,0,0,1,1,1,1,1,2,2,2,2,2,3,3,3,3,3,4,4,4,4,4,5,5,5,5,5], y)\n",
    "# return accuracy_score([0,1,2,3,4,5], y)\n",
    "# res = minimize(fitness, X_ini, method = 'Nelder-Mead', options={'maxiter':100, 'disp':True,'fatol':0})\n",
    "# res"
   ]
  },
  {
   "cell_type": "code",
   "execution_count": 234,
   "metadata": {},
   "outputs": [
    {
     "data": {
      "text/plain": [
       "(0.0, -0.0, 130.93682658688874)"
      ]
     },
     "execution_count": 234,
     "metadata": {},
     "output_type": "execute_result"
    }
   ],
   "source": [
    "# fitness(X_ini)"
   ]
  },
  {
   "cell_type": "code",
   "execution_count": 228,
   "metadata": {},
   "outputs": [
    {
     "name": "stderr",
     "output_type": "stream",
     "text": [
      "/Users/carolina/anaconda3/lib/python3.10/site-packages/pygad/pygad.py:1139: UserWarning: The 'delay_after_gen' parameter is deprecated starting from PyGAD 3.3.0. To delay or pause the evolution after each generation, assign a callback function/method to the 'on_generation' parameter to adds some time delay.\n",
      "  warnings.warn(\"The 'delay_after_gen' parameter is deprecated starting from PyGAD 3.3.0. To delay or pause the evolution after each generation, assign a callback function/method to the 'on_generation' parameter to adds some time delay.\")\n"
     ]
    },
    {
     "name": "stdout",
     "output_type": "stream",
     "text": [
      "Best solution: (array([0.00263309, 0.01618933, 0.01411421, 0.01103476, 0.00979842,\n",
      "       0.0100045 , 0.01517333, 0.01234704, 0.19178997, 0.39106192,\n",
      "       0.48274228, 0.46821296, 0.43727749, 0.4649771 , 0.47091612,\n",
      "       0.47754438, 0.5420403 , 0.681255  , 0.75840609, 0.67349862,\n",
      "       0.45992342, 0.25251185, 0.21886793, 0.06653822]), array([ 0.        , -0.        , -0.01144639]), 0)\n"
     ]
    }
   ],
   "source": [
    "import numpy as np\n",
    "import pygad\n",
    "\n",
    "num_generations = 10000\n",
    "num_parents_mating = 10\n",
    "sol_per_pop = 50\n",
    "num_genes = N*24\n",
    "\n",
    "ga_instance = pygad.GA(num_generations=num_generations,\n",
    "                       num_parents_mating=num_parents_mating,\n",
    "                       fitness_func=lambda ga, sol, i: fitness(sol),\n",
    "                       sol_per_pop=sol_per_pop,\n",
    "                       num_genes=num_genes,\n",
    "                       init_range_low=0.0,\n",
    "                       init_range_high=1.0,\n",
    "                       random_mutation_min_val=-0.1,\n",
    "                       random_mutation_max_val=0.1)\n",
    "\n",
    "ga_instance.run()\n",
    "\n",
    "print(\"Best solution:\", ga_instance.best_solution())\n"
   ]
  },
  {
   "cell_type": "code",
   "execution_count": 266,
   "metadata": {},
   "outputs": [
    {
     "data": {
      "text/plain": [
       "(array([0.00263309, 0.01618933, 0.01411421, 0.04375813, 0.00979842,\n",
       "        0.0100045 , 0.01517333, 0.01234704, 0.19178997, 0.39106192,\n",
       "        0.43725721, 0.46821296, 0.44570172, 0.4649771 , 0.45060536,\n",
       "        0.47754438, 0.5420403 , 0.681255  , 0.75840609, 0.67349862,\n",
       "        0.45992342, 0.25792517, 0.31360897, 0.06653822]),\n",
       " array([ 1.        , -0.        , -0.11469525]),\n",
       " 1)"
      ]
     },
     "execution_count": 266,
     "metadata": {},
     "output_type": "execute_result"
    }
   ],
   "source": [
    "ga_instance.best_solution()"
   ]
  },
  {
   "cell_type": "code",
   "execution_count": 81,
   "metadata": {},
   "outputs": [
    {
     "data": {
      "text/plain": [
       "(array([ 5.46944954e-01,  5.26806322e+01,  1.83465219e-01,  2.74667180e+01,\n",
       "         5.64513407e-02,  2.63797925e-02,  5.23544331e-02, -2.04524092e-02,\n",
       "         4.93594479e-02,  2.62616546e-02, -4.04692241e-02, -1.37356289e-02,\n",
       "         4.43397657e-02,  8.18210760e-02, -1.95037527e-02, -2.23579845e-02,\n",
       "         1.79466506e-02,  6.77089101e-02,  2.32786422e-02,  3.88685292e-02,\n",
       "         1.76799080e-01,  3.21938516e-01,  8.36681933e-02,  9.50888062e-02]),\n",
       " array([  1.        , -78.26386922,  -0.25194653]),\n",
       " 3)"
      ]
     },
     "execution_count": 81,
     "metadata": {},
     "output_type": "execute_result"
    }
   ],
   "source": [
    "ga_instance.num_generations = 9000\n",
    "ga_instance.run()\n",
    "ga_instance.best_solution()"
   ]
  },
  {
   "cell_type": "code",
   "execution_count": 82,
   "metadata": {},
   "outputs": [
    {
     "data": {
      "text/plain": [
       "[array([  0.        ,  -1.41546584, -56.92611833]),\n",
       " array([  0.        ,  -0.18383346, -58.11232558]),\n",
       " array([  0.        ,  -0.18049151, -58.0794686 ]),\n",
       " array([  0.        ,  -0.16070508, -58.07467507]),\n",
       " array([  0.        , -28.07736137, -50.12604016]),\n",
       " array([  0.        ,  -1.51885073, -56.92624906]),\n",
       " array([  0.        ,  -0.12792826, -58.11232965]),\n",
       " array([ 0.00000000e+00, -2.37488626e-02, -5.81088693e+01]),\n",
       " array([  0.        ,  -1.49581996, -56.92624338]),\n",
       " array([  0.        ,  -0.15873586, -58.11241399]),\n",
       " array([  0.        ,  -0.1760071 , -58.10881733]),\n",
       " array([  0.        , -28.15941101, -50.12610195]),\n",
       " array([  0.        , -28.0683204 , -50.20920956]),\n",
       " array([  0.        ,  -1.45678592, -56.92625747]),\n",
       " array([  0.        ,  -0.07962053, -58.08449087]),\n",
       " array([  0.        , -28.08991123, -50.1261175 ]),\n",
       " array([  0.        ,  -1.47246413, -56.92630037]),\n",
       " array([  0.        , -26.60253754, -51.69826368]),\n",
       " array([  0.        ,  -0.18780773, -58.0748694 ]),\n",
       " array([  0.        , -28.09260478, -50.12605306]),\n",
       " array([  1.        , -78.26386922,  -0.25194653]),\n",
       " array([  1.        , -68.40147286,  -9.75327464]),\n",
       " array([  1.        , -43.21724487, -27.13015896]),\n",
       " array([  1.        , -67.87909309,  -9.7134333 ]),\n",
       " array([  1.        , -53.09924805, -25.19157134]),\n",
       " array([  1.        , -53.0827873 , -25.19104671]),\n",
       " array([  1.        , -78.26386922,  -0.22777821]),\n",
       " array([  1.        , -68.62589675,  -9.69090674]),\n",
       " array([  1.       , -43.2633185, -27.1296815]),\n",
       " array([  1.        , -42.08953693, -28.22413601]),\n",
       " array([  1.        , -42.08953693, -28.22283512]),\n",
       " array([  1.        , -67.84742779,  -9.78703762]),\n",
       " array([  1.        , -53.15151212, -25.19109451]),\n",
       " array([  1.        , -78.07943663,  -0.26805724]),\n",
       " array([  1.        , -68.66077771,  -9.5955779 ]),\n",
       " array([  1.        , -42.09828548, -28.22292041]),\n",
       " array([  1.        , -67.90145108,  -9.71373852]),\n",
       " array([  1.        , -51.81688416, -26.50682605]),\n",
       " array([  1.        , -78.35423365,  -0.21451663]),\n",
       " array([  1.        , -78.20827186,  -0.22885634]),\n",
       " array([  1.        , -68.48534312,  -9.69242905]),\n",
       " array([  1.        , -43.24324087, -27.12960731]),\n",
       " array([  1.        , -42.08953693, -28.22323325]),\n",
       " array([  1.        , -67.91376524,  -9.71440527]),\n",
       " array([  1.        , -53.10961698, -25.19100013]),\n",
       " array([  1.        , -78.22200749,  -0.24778495]),\n",
       " array([  1.        , -68.46298513,  -9.69150213]),\n",
       " array([  1.        , -43.35536574, -27.12950731]),\n",
       " array([  1.        , -42.11399903, -28.22279845]),\n",
       " array([  1.        , -67.90145108,  -9.71460252])]"
      ]
     },
     "execution_count": 82,
     "metadata": {},
     "output_type": "execute_result"
    }
   ],
   "source": [
    "sorted(ga_instance.last_generation_fitness,key=lambda x: x[0])"
   ]
  },
  {
   "cell_type": "code",
   "execution_count": 229,
   "metadata": {},
   "outputs": [
    {
     "data": {
      "text/plain": [
       "10000"
      ]
     },
     "execution_count": 229,
     "metadata": {},
     "output_type": "execute_result"
    }
   ],
   "source": [
    "ga_instance.generations_completed"
   ]
  },
  {
   "cell_type": "code",
   "execution_count": null,
   "metadata": {},
   "outputs": [],
   "source": [
    "fig = ga_instance.plot_fitness(label=['accuracy','penalty','distance'])\n",
    "fig.legend()"
   ]
  },
  {
   "cell_type": "code",
   "execution_count": null,
   "metadata": {},
   "outputs": [],
   "source": [
    "ga_instance.last_generation_fitness"
   ]
  },
  {
   "cell_type": "code",
   "execution_count": 231,
   "metadata": {},
   "outputs": [
    {
     "data": {
      "image/png": "[encoded data removed]",
      "text/plain": [
       "<Figure size 750x350 with 1 Axes>"
      ]
     },
     "metadata": {},
     "output_type": "display_data"
    }
   ],
   "source": [
    "import matplotlib.pyplot as plt\n",
    "\n",
    "plt.rcParams[\"figure.figsize\"] = [7.50, 3.50]\n",
    "plt.rcParams[\"figure.autolayout\"] = True\n",
    "\n",
    "x = range(24)\n",
    "y,fit,idx = ga_instance.best_solution()\n",
    "\n",
    "plt.title(\"Line graph\")\n",
    "for y_ in np.array(y).reshape(N,24):\n",
    "    plt.plot(x, y_)\n",
    "\n",
    "plt.show()"
   ]
  },
  {
   "cell_type": "code",
   "execution_count": 232,
   "metadata": {},
   "outputs": [],
   "source": [
    "ga_instance.save('ga_1sig_ng100_npm10_spp50_categ0_10000')"
   ]
  },
  {
   "cell_type": "markdown",
   "metadata": {},
   "source": [
    "TRANSFORMERS\n",
    "DTW VS TRANSFORMERS TIME SERIES\n",
    "MÉTRICAS (f1-score)\n",
    "\n",
    "OVERLEAF\n",
    "\n",
    "ESTUDO (RELATÓRIO)\n",
    "- CLASSIFICADORES (NOVAS TÉCNICAS)\n",
    "- DEEP LEARNING (SUMARIZAÇÃO)\n",
    "- OUTRAS TÉCNICAS (SUMARIZAÇÃO / LEVANTAMENTO)\n",
    "- TESTES-PILOTO \n",
    "- USO DAS ASSINATURAS (parâmetros dos classificadores (talvez))\n",
    "\n",
    "- aplicar em outros datasets"
   ]
  },
  {
   "cell_type": "code",
   "execution_count": 219,
   "metadata": {},
   "outputs": [
    {
     "data": {
      "text/plain": [
       "13.0"
      ]
     },
     "execution_count": 219,
     "metadata": {},
     "output_type": "execute_result"
    }
   ],
   "source": [
    "#teste\n",
    "import numpy as np\n",
    "\n",
    "# Define input signal and kernel\n",
    "signal = np.array([0, 0, 1, 2, 3, 4, 5, 0, 0])\n",
    "kernel = np.array([0, 0.5, 1, 1.5, 0])\n",
    "\n",
    "# Perform 1D convolution\n",
    "result = np.correlate(signal, kernel, mode='valid')\n",
    "\n",
    "print(\"Convolution result:\", result)\n",
    "result.max()\n"
   ]
  },
  {
   "cell_type": "code",
   "execution_count": 17,
   "metadata": {},
   "outputs": [
    {
     "data": {
      "text/plain": [
       "18.0"
      ]
     },
     "execution_count": 17,
     "metadata": {},
     "output_type": "execute_result"
    }
   ],
   "source": [
    "#teste\n",
    "two_d = np.array([\n",
    "    [1,2],\n",
    "    [3,4]\n",
    "])\n",
    "\n",
    "np.mean([np.correlate(\n",
    "    np.array([1,2,3,4]),\n",
    "    row\n",
    ").max() for row in two_d])"
   ]
  },
  {
   "cell_type": "markdown",
   "metadata": {},
   "source": [
    "## Reunião 16/02\n",
    "\n",
    "*verificar se é bom ou não o uso de algoritmos genéticos\n",
    "\n",
    "*comparar com a geração simples de signature pela média do dataframe\n",
    "\n",
    "*ver os transformers\n",
    "\n",
    "*ver se tem mais classificadores interessantes\n",
    "\n",
    "*M2 do Leonardo"
   ]
  },
  {
   "cell_type": "markdown",
   "metadata": {},
   "source": []
  },
  {
   "cell_type": "code",
   "execution_count": null,
   "metadata": {},
   "outputs": [],
   "source": [
    "import numpy as np\n",
    "import matplotlib.pyplot as plt\n",
    "\n",
    "df_filtrado = df[(df['country'] == 0) & (df['city'] == 0) & (df['category'] == 1)]\n",
    "df_teste = df_filtrado.drop(columns=['id','country', 'city', 'category'])\n",
    "\n",
    "column_means = np.mean(df_teste, axis=0)\n",
    "\n",
    "plt.figure(figsize=(10, 6))\n",
    "plt.plot(range(1, 25), column_means)\n",
    "\n",
    "plt.xlabel('Column')\n",
    "plt.ylabel('Mean')\n",
    "plt.title('Mean of p=0 c=0 cat=0')\n",
    "\n",
    "plt.show()"
   ]
  },
  {
   "cell_type": "code",
   "execution_count": 348,
   "metadata": {},
   "outputs": [],
   "source": [
    "def extract_avg(country, city, cat):\n",
    "    df_filtrado = df[(df['country'] == country) & (df['city'] == city) & (df['category'] == cat)]\n",
    "    df_teste = df_filtrado.drop(columns=['id','country', 'city', 'category'])\n",
    "    column_means = np.mean(df_teste, axis=0)\n",
    "    return column_means"
   ]
  },
  {
   "cell_type": "code",
   "execution_count": 349,
   "metadata": {},
   "outputs": [],
   "source": [
    "X_test_new = np.array([\n",
    "    extract_avg(0,0,0),\n",
    "    extract_avg(0,0,1),\n",
    "    extract_avg(0,0,2),\n",
    "    extract_avg(0,0,3),\n",
    "    extract_avg(0,0,4)\n",
    "    ])"
   ]
  },
  {
   "cell_type": "code",
   "execution_count": 353,
   "metadata": {},
   "outputs": [
    {
     "data": {
      "text/plain": [
       "torch.Size([5, 1, 24])"
      ]
     },
     "execution_count": 353,
     "metadata": {},
     "output_type": "execute_result"
    }
   ],
   "source": [
    "X_test_tensor_new = torch.tensor(np.expand_dims(X_test_new, axis=1), dtype=torch.float32)\n",
    "X_test_tensor_new.shape"
   ]
  },
  {
   "cell_type": "code",
   "execution_count": 354,
   "metadata": {},
   "outputs": [],
   "source": [
    "y_test_new = [0,1,2,3,4]"
   ]
  },
  {
   "cell_type": "markdown",
   "metadata": {},
   "source": [
    "## New Hydra"
   ]
  },
  {
   "cell_type": "code",
   "execution_count": 356,
   "metadata": {},
   "outputs": [
    {
     "name": "stdout",
     "output_type": "stream",
     "text": [
      "0.8\n",
      "0.7333333333333333\n"
     ]
    }
   ],
   "source": [
    "from hydra import Hydra, SparseScaler\n",
    "from sklearn.linear_model import RidgeClassifierCV\n",
    "\n",
    "X_test_transform_new = transform(X_test_tensor_new)\n",
    "\n",
    "X_test_transform_new = scaler.transform(X_test_transform_new)\n",
    "\n",
    "hydra_pred_new = hydra_classifier.predict(X_test_transform_new)\n",
    "\n",
    "print(accuracy_score(y_test_new, hydra_pred_new))\n",
    "print(f1_score(y_test_new, hydra_pred_new, average='weighted'))"
   ]
  },
  {
   "cell_type": "code",
   "execution_count": 17,
   "metadata": {},
   "outputs": [],
   "source": [
    "df_sign = pd.read_csv('weekdays_datasets/df_signatures.csv')"
   ]
  },
  {
   "cell_type": "code",
   "execution_count": 18,
   "metadata": {},
   "outputs": [
    {
     "data": {
      "text/html": [
       "<div>\n",
       "<style scoped>\n",
       "    .dataframe tbody tr th:only-of-type {\n",
       "        vertical-align: middle;\n",
       "    }\n",
       "\n",
       "    .dataframe tbody tr th {\n",
       "        vertical-align: top;\n",
       "    }\n",
       "\n",
       "    .dataframe thead th {\n",
       "        text-align: right;\n",
       "    }\n",
       "</style>\n",
       "<table border=\"1\" class=\"dataframe\">\n",
       "  <thead>\n",
       "    <tr style=\"text-align: right;\">\n",
       "      <th></th>\n",
       "      <th>id</th>\n",
       "      <th>h00</th>\n",
       "      <th>h01</th>\n",
       "      <th>h02</th>\n",
       "      <th>h03</th>\n",
       "      <th>h04</th>\n",
       "      <th>h05</th>\n",
       "      <th>h06</th>\n",
       "      <th>h07</th>\n",
       "      <th>h08</th>\n",
       "      <th>...</th>\n",
       "      <th>h17</th>\n",
       "      <th>h18</th>\n",
       "      <th>h19</th>\n",
       "      <th>h20</th>\n",
       "      <th>h21</th>\n",
       "      <th>h22</th>\n",
       "      <th>h23</th>\n",
       "      <th>country</th>\n",
       "      <th>city</th>\n",
       "      <th>category</th>\n",
       "    </tr>\n",
       "  </thead>\n",
       "  <tbody>\n",
       "    <tr>\n",
       "      <th>0</th>\n",
       "      <td>0</td>\n",
       "      <td>0.000000</td>\n",
       "      <td>0.000000</td>\n",
       "      <td>0.000000</td>\n",
       "      <td>0.00000</td>\n",
       "      <td>0.00000</td>\n",
       "      <td>0.000000</td>\n",
       "      <td>0.000000</td>\n",
       "      <td>0.000000</td>\n",
       "      <td>0.000119</td>\n",
       "      <td>...</td>\n",
       "      <td>0.896498</td>\n",
       "      <td>0.808148</td>\n",
       "      <td>0.462531</td>\n",
       "      <td>0.010060</td>\n",
       "      <td>0.000000</td>\n",
       "      <td>0.000000</td>\n",
       "      <td>0.000000</td>\n",
       "      <td>0.0</td>\n",
       "      <td>0.0</td>\n",
       "      <td>0.0</td>\n",
       "    </tr>\n",
       "    <tr>\n",
       "      <th>1</th>\n",
       "      <td>1</td>\n",
       "      <td>0.000000</td>\n",
       "      <td>0.000000</td>\n",
       "      <td>0.000000</td>\n",
       "      <td>0.00000</td>\n",
       "      <td>0.00000</td>\n",
       "      <td>0.000000</td>\n",
       "      <td>0.003126</td>\n",
       "      <td>0.031889</td>\n",
       "      <td>0.234067</td>\n",
       "      <td>...</td>\n",
       "      <td>0.677492</td>\n",
       "      <td>0.475074</td>\n",
       "      <td>0.385600</td>\n",
       "      <td>0.248011</td>\n",
       "      <td>0.017268</td>\n",
       "      <td>0.000000</td>\n",
       "      <td>0.000000</td>\n",
       "      <td>0.0</td>\n",
       "      <td>0.0</td>\n",
       "      <td>0.0</td>\n",
       "    </tr>\n",
       "    <tr>\n",
       "      <th>2</th>\n",
       "      <td>2</td>\n",
       "      <td>0.000000</td>\n",
       "      <td>0.000000</td>\n",
       "      <td>0.000000</td>\n",
       "      <td>0.00000</td>\n",
       "      <td>0.00000</td>\n",
       "      <td>0.000000</td>\n",
       "      <td>0.000174</td>\n",
       "      <td>0.009180</td>\n",
       "      <td>0.138568</td>\n",
       "      <td>...</td>\n",
       "      <td>0.972788</td>\n",
       "      <td>0.965489</td>\n",
       "      <td>0.831592</td>\n",
       "      <td>0.573811</td>\n",
       "      <td>0.275817</td>\n",
       "      <td>0.002511</td>\n",
       "      <td>0.000106</td>\n",
       "      <td>0.0</td>\n",
       "      <td>0.0</td>\n",
       "      <td>0.0</td>\n",
       "    </tr>\n",
       "    <tr>\n",
       "      <th>3</th>\n",
       "      <td>3</td>\n",
       "      <td>0.000000</td>\n",
       "      <td>0.000000</td>\n",
       "      <td>0.000000</td>\n",
       "      <td>0.00000</td>\n",
       "      <td>0.00000</td>\n",
       "      <td>0.000000</td>\n",
       "      <td>0.001596</td>\n",
       "      <td>0.043055</td>\n",
       "      <td>0.531299</td>\n",
       "      <td>...</td>\n",
       "      <td>0.775702</td>\n",
       "      <td>0.628683</td>\n",
       "      <td>0.533388</td>\n",
       "      <td>0.353358</td>\n",
       "      <td>0.008911</td>\n",
       "      <td>0.000000</td>\n",
       "      <td>0.000000</td>\n",
       "      <td>0.0</td>\n",
       "      <td>0.0</td>\n",
       "      <td>0.0</td>\n",
       "    </tr>\n",
       "    <tr>\n",
       "      <th>4</th>\n",
       "      <td>4</td>\n",
       "      <td>0.000000</td>\n",
       "      <td>0.000000</td>\n",
       "      <td>0.000000</td>\n",
       "      <td>0.00000</td>\n",
       "      <td>0.00000</td>\n",
       "      <td>0.000467</td>\n",
       "      <td>0.015091</td>\n",
       "      <td>0.179335</td>\n",
       "      <td>0.768777</td>\n",
       "      <td>...</td>\n",
       "      <td>0.412289</td>\n",
       "      <td>0.603218</td>\n",
       "      <td>0.448638</td>\n",
       "      <td>0.349549</td>\n",
       "      <td>0.154791</td>\n",
       "      <td>0.030829</td>\n",
       "      <td>0.000874</td>\n",
       "      <td>0.0</td>\n",
       "      <td>0.0</td>\n",
       "      <td>0.0</td>\n",
       "    </tr>\n",
       "    <tr>\n",
       "      <th>...</th>\n",
       "      <td>...</td>\n",
       "      <td>...</td>\n",
       "      <td>...</td>\n",
       "      <td>...</td>\n",
       "      <td>...</td>\n",
       "      <td>...</td>\n",
       "      <td>...</td>\n",
       "      <td>...</td>\n",
       "      <td>...</td>\n",
       "      <td>...</td>\n",
       "      <td>...</td>\n",
       "      <td>...</td>\n",
       "      <td>...</td>\n",
       "      <td>...</td>\n",
       "      <td>...</td>\n",
       "      <td>...</td>\n",
       "      <td>...</td>\n",
       "      <td>...</td>\n",
       "      <td>...</td>\n",
       "      <td>...</td>\n",
       "      <td>...</td>\n",
       "    </tr>\n",
       "    <tr>\n",
       "      <th>66</th>\n",
       "      <td>66</td>\n",
       "      <td>0.497889</td>\n",
       "      <td>0.302093</td>\n",
       "      <td>0.001882</td>\n",
       "      <td>0.00000</td>\n",
       "      <td>0.00000</td>\n",
       "      <td>0.000000</td>\n",
       "      <td>0.000000</td>\n",
       "      <td>0.000000</td>\n",
       "      <td>0.000000</td>\n",
       "      <td>...</td>\n",
       "      <td>0.000000</td>\n",
       "      <td>0.000041</td>\n",
       "      <td>0.005409</td>\n",
       "      <td>0.075049</td>\n",
       "      <td>0.140844</td>\n",
       "      <td>0.265839</td>\n",
       "      <td>0.581515</td>\n",
       "      <td>1.0</td>\n",
       "      <td>4.0</td>\n",
       "      <td>3.0</td>\n",
       "    </tr>\n",
       "    <tr>\n",
       "      <th>67</th>\n",
       "      <td>67</td>\n",
       "      <td>0.804521</td>\n",
       "      <td>0.541695</td>\n",
       "      <td>0.005939</td>\n",
       "      <td>0.00000</td>\n",
       "      <td>0.00000</td>\n",
       "      <td>0.000000</td>\n",
       "      <td>0.000000</td>\n",
       "      <td>0.000000</td>\n",
       "      <td>0.000000</td>\n",
       "      <td>...</td>\n",
       "      <td>0.076270</td>\n",
       "      <td>0.183042</td>\n",
       "      <td>0.224729</td>\n",
       "      <td>0.324142</td>\n",
       "      <td>0.479679</td>\n",
       "      <td>0.725018</td>\n",
       "      <td>0.896602</td>\n",
       "      <td>1.0</td>\n",
       "      <td>4.0</td>\n",
       "      <td>3.0</td>\n",
       "    </tr>\n",
       "    <tr>\n",
       "      <th>68</th>\n",
       "      <td>68</td>\n",
       "      <td>0.518485</td>\n",
       "      <td>0.394968</td>\n",
       "      <td>0.019825</td>\n",
       "      <td>0.00000</td>\n",
       "      <td>0.00000</td>\n",
       "      <td>0.000000</td>\n",
       "      <td>0.000000</td>\n",
       "      <td>0.000000</td>\n",
       "      <td>0.000000</td>\n",
       "      <td>...</td>\n",
       "      <td>0.556677</td>\n",
       "      <td>0.665041</td>\n",
       "      <td>0.706486</td>\n",
       "      <td>0.850784</td>\n",
       "      <td>0.827417</td>\n",
       "      <td>0.919327</td>\n",
       "      <td>0.747429</td>\n",
       "      <td>1.0</td>\n",
       "      <td>4.0</td>\n",
       "      <td>3.0</td>\n",
       "    </tr>\n",
       "    <tr>\n",
       "      <th>69</th>\n",
       "      <td>69</td>\n",
       "      <td>0.024066</td>\n",
       "      <td>0.000008</td>\n",
       "      <td>0.000000</td>\n",
       "      <td>0.00000</td>\n",
       "      <td>0.00002</td>\n",
       "      <td>0.000000</td>\n",
       "      <td>0.000000</td>\n",
       "      <td>0.000000</td>\n",
       "      <td>0.002157</td>\n",
       "      <td>...</td>\n",
       "      <td>0.327476</td>\n",
       "      <td>0.501589</td>\n",
       "      <td>0.829388</td>\n",
       "      <td>0.633860</td>\n",
       "      <td>0.500545</td>\n",
       "      <td>0.039253</td>\n",
       "      <td>0.019268</td>\n",
       "      <td>1.0</td>\n",
       "      <td>4.0</td>\n",
       "      <td>4.0</td>\n",
       "    </tr>\n",
       "    <tr>\n",
       "      <th>70</th>\n",
       "      <td>70</td>\n",
       "      <td>0.042649</td>\n",
       "      <td>0.000410</td>\n",
       "      <td>0.000041</td>\n",
       "      <td>0.00001</td>\n",
       "      <td>0.00000</td>\n",
       "      <td>0.000000</td>\n",
       "      <td>0.000000</td>\n",
       "      <td>0.000000</td>\n",
       "      <td>0.000055</td>\n",
       "      <td>...</td>\n",
       "      <td>0.015850</td>\n",
       "      <td>0.079399</td>\n",
       "      <td>0.402822</td>\n",
       "      <td>0.847623</td>\n",
       "      <td>0.546787</td>\n",
       "      <td>0.089079</td>\n",
       "      <td>0.064854</td>\n",
       "      <td>1.0</td>\n",
       "      <td>4.0</td>\n",
       "      <td>4.0</td>\n",
       "    </tr>\n",
       "  </tbody>\n",
       "</table>\n",
       "<p>71 rows × 28 columns</p>\n",
       "</div>"
      ],
      "text/plain": [
       "    id       h00       h01       h02      h03      h04       h05       h06  \\\n",
       "0    0  0.000000  0.000000  0.000000  0.00000  0.00000  0.000000  0.000000   \n",
       "1    1  0.000000  0.000000  0.000000  0.00000  0.00000  0.000000  0.003126   \n",
       "2    2  0.000000  0.000000  0.000000  0.00000  0.00000  0.000000  0.000174   \n",
       "3    3  0.000000  0.000000  0.000000  0.00000  0.00000  0.000000  0.001596   \n",
       "4    4  0.000000  0.000000  0.000000  0.00000  0.00000  0.000467  0.015091   \n",
       "..  ..       ...       ...       ...      ...      ...       ...       ...   \n",
       "66  66  0.497889  0.302093  0.001882  0.00000  0.00000  0.000000  0.000000   \n",
       "67  67  0.804521  0.541695  0.005939  0.00000  0.00000  0.000000  0.000000   \n",
       "68  68  0.518485  0.394968  0.019825  0.00000  0.00000  0.000000  0.000000   \n",
       "69  69  0.024066  0.000008  0.000000  0.00000  0.00002  0.000000  0.000000   \n",
       "70  70  0.042649  0.000410  0.000041  0.00001  0.00000  0.000000  0.000000   \n",
       "\n",
       "         h07       h08  ...       h17       h18       h19       h20       h21  \\\n",
       "0   0.000000  0.000119  ...  0.896498  0.808148  0.462531  0.010060  0.000000   \n",
       "1   0.031889  0.234067  ...  0.677492  0.475074  0.385600  0.248011  0.017268   \n",
       "2   0.009180  0.138568  ...  0.972788  0.965489  0.831592  0.573811  0.275817   \n",
       "3   0.043055  0.531299  ...  0.775702  0.628683  0.533388  0.353358  0.008911   \n",
       "4   0.179335  0.768777  ...  0.412289  0.603218  0.448638  0.349549  0.154791   \n",
       "..       ...       ...  ...       ...       ...       ...       ...       ...   \n",
       "66  0.000000  0.000000  ...  0.000000  0.000041  0.005409  0.075049  0.140844   \n",
       "67  0.000000  0.000000  ...  0.076270  0.183042  0.224729  0.324142  0.479679   \n",
       "68  0.000000  0.000000  ...  0.556677  0.665041  0.706486  0.850784  0.827417   \n",
       "69  0.000000  0.002157  ...  0.327476  0.501589  0.829388  0.633860  0.500545   \n",
       "70  0.000000  0.000055  ...  0.015850  0.079399  0.402822  0.847623  0.546787   \n",
       "\n",
       "         h22       h23  country  city  category  \n",
       "0   0.000000  0.000000      0.0   0.0       0.0  \n",
       "1   0.000000  0.000000      0.0   0.0       0.0  \n",
       "2   0.002511  0.000106      0.0   0.0       0.0  \n",
       "3   0.000000  0.000000      0.0   0.0       0.0  \n",
       "4   0.030829  0.000874      0.0   0.0       0.0  \n",
       "..       ...       ...      ...   ...       ...  \n",
       "66  0.265839  0.581515      1.0   4.0       3.0  \n",
       "67  0.725018  0.896602      1.0   4.0       3.0  \n",
       "68  0.919327  0.747429      1.0   4.0       3.0  \n",
       "69  0.039253  0.019268      1.0   4.0       4.0  \n",
       "70  0.089079  0.064854      1.0   4.0       4.0  \n",
       "\n",
       "[71 rows x 28 columns]"
      ]
     },
     "execution_count": 18,
     "metadata": {},
     "output_type": "execute_result"
    }
   ],
   "source": [
    "df_sign"
   ]
  },
  {
   "cell_type": "code",
   "execution_count": 23,
   "metadata": {},
   "outputs": [],
   "source": [
    "df_timeseries = pd.read_csv('weekdays_datasets/df_timeseries.csv')"
   ]
  },
  {
   "cell_type": "code",
   "execution_count": 24,
   "metadata": {},
   "outputs": [
    {
     "data": {
      "text/html": [
       "<div>\n",
       "<style scoped>\n",
       "    .dataframe tbody tr th:only-of-type {\n",
       "        vertical-align: middle;\n",
       "    }\n",
       "\n",
       "    .dataframe tbody tr th {\n",
       "        vertical-align: top;\n",
       "    }\n",
       "\n",
       "    .dataframe thead th {\n",
       "        text-align: right;\n",
       "    }\n",
       "</style>\n",
       "<table border=\"1\" class=\"dataframe\">\n",
       "  <thead>\n",
       "    <tr style=\"text-align: right;\">\n",
       "      <th></th>\n",
       "      <th>id</th>\n",
       "      <th>h00</th>\n",
       "      <th>h01</th>\n",
       "      <th>h02</th>\n",
       "      <th>h03</th>\n",
       "      <th>h04</th>\n",
       "      <th>h05</th>\n",
       "      <th>h06</th>\n",
       "      <th>h07</th>\n",
       "      <th>h08</th>\n",
       "      <th>...</th>\n",
       "      <th>h17</th>\n",
       "      <th>h18</th>\n",
       "      <th>h19</th>\n",
       "      <th>h20</th>\n",
       "      <th>h21</th>\n",
       "      <th>h22</th>\n",
       "      <th>h23</th>\n",
       "      <th>country</th>\n",
       "      <th>city</th>\n",
       "      <th>category</th>\n",
       "    </tr>\n",
       "  </thead>\n",
       "  <tbody>\n",
       "    <tr>\n",
       "      <th>0</th>\n",
       "      <td>0</td>\n",
       "      <td>0.000000</td>\n",
       "      <td>0.000000</td>\n",
       "      <td>0.0</td>\n",
       "      <td>0.0</td>\n",
       "      <td>0.0</td>\n",
       "      <td>0.0</td>\n",
       "      <td>0.000000</td>\n",
       "      <td>0.000000</td>\n",
       "      <td>0.000000</td>\n",
       "      <td>...</td>\n",
       "      <td>0.347754</td>\n",
       "      <td>0.522437</td>\n",
       "      <td>0.940441</td>\n",
       "      <td>0.823425</td>\n",
       "      <td>0.000000</td>\n",
       "      <td>0.000000</td>\n",
       "      <td>0.000000</td>\n",
       "      <td>0.0</td>\n",
       "      <td>0.0</td>\n",
       "      <td>0.0</td>\n",
       "    </tr>\n",
       "    <tr>\n",
       "      <th>1</th>\n",
       "      <td>1</td>\n",
       "      <td>0.000000</td>\n",
       "      <td>0.000000</td>\n",
       "      <td>0.0</td>\n",
       "      <td>0.0</td>\n",
       "      <td>0.0</td>\n",
       "      <td>0.0</td>\n",
       "      <td>0.000000</td>\n",
       "      <td>0.000000</td>\n",
       "      <td>0.000000</td>\n",
       "      <td>...</td>\n",
       "      <td>0.320058</td>\n",
       "      <td>0.212006</td>\n",
       "      <td>0.212006</td>\n",
       "      <td>0.212006</td>\n",
       "      <td>0.000000</td>\n",
       "      <td>0.000000</td>\n",
       "      <td>0.000000</td>\n",
       "      <td>0.0</td>\n",
       "      <td>0.0</td>\n",
       "      <td>0.0</td>\n",
       "    </tr>\n",
       "    <tr>\n",
       "      <th>2</th>\n",
       "      <td>2</td>\n",
       "      <td>0.000000</td>\n",
       "      <td>0.000000</td>\n",
       "      <td>0.0</td>\n",
       "      <td>0.0</td>\n",
       "      <td>0.0</td>\n",
       "      <td>0.0</td>\n",
       "      <td>0.000000</td>\n",
       "      <td>0.000000</td>\n",
       "      <td>0.000000</td>\n",
       "      <td>...</td>\n",
       "      <td>0.805263</td>\n",
       "      <td>0.483633</td>\n",
       "      <td>0.000000</td>\n",
       "      <td>0.000000</td>\n",
       "      <td>0.000000</td>\n",
       "      <td>0.000000</td>\n",
       "      <td>0.000000</td>\n",
       "      <td>0.0</td>\n",
       "      <td>0.0</td>\n",
       "      <td>0.0</td>\n",
       "    </tr>\n",
       "    <tr>\n",
       "      <th>3</th>\n",
       "      <td>3</td>\n",
       "      <td>0.000000</td>\n",
       "      <td>0.000000</td>\n",
       "      <td>0.0</td>\n",
       "      <td>0.0</td>\n",
       "      <td>0.0</td>\n",
       "      <td>0.0</td>\n",
       "      <td>0.080787</td>\n",
       "      <td>0.303251</td>\n",
       "      <td>0.519247</td>\n",
       "      <td>...</td>\n",
       "      <td>0.986970</td>\n",
       "      <td>0.917125</td>\n",
       "      <td>0.562874</td>\n",
       "      <td>0.378466</td>\n",
       "      <td>0.000000</td>\n",
       "      <td>0.000000</td>\n",
       "      <td>0.000000</td>\n",
       "      <td>0.0</td>\n",
       "      <td>0.0</td>\n",
       "      <td>0.0</td>\n",
       "    </tr>\n",
       "    <tr>\n",
       "      <th>4</th>\n",
       "      <td>4</td>\n",
       "      <td>0.000000</td>\n",
       "      <td>0.000000</td>\n",
       "      <td>0.0</td>\n",
       "      <td>0.0</td>\n",
       "      <td>0.0</td>\n",
       "      <td>0.0</td>\n",
       "      <td>0.000000</td>\n",
       "      <td>0.060529</td>\n",
       "      <td>0.172893</td>\n",
       "      <td>...</td>\n",
       "      <td>0.878997</td>\n",
       "      <td>0.994609</td>\n",
       "      <td>0.901742</td>\n",
       "      <td>0.667729</td>\n",
       "      <td>0.387283</td>\n",
       "      <td>0.000000</td>\n",
       "      <td>0.000000</td>\n",
       "      <td>0.0</td>\n",
       "      <td>0.0</td>\n",
       "      <td>0.0</td>\n",
       "    </tr>\n",
       "    <tr>\n",
       "      <th>...</th>\n",
       "      <td>...</td>\n",
       "      <td>...</td>\n",
       "      <td>...</td>\n",
       "      <td>...</td>\n",
       "      <td>...</td>\n",
       "      <td>...</td>\n",
       "      <td>...</td>\n",
       "      <td>...</td>\n",
       "      <td>...</td>\n",
       "      <td>...</td>\n",
       "      <td>...</td>\n",
       "      <td>...</td>\n",
       "      <td>...</td>\n",
       "      <td>...</td>\n",
       "      <td>...</td>\n",
       "      <td>...</td>\n",
       "      <td>...</td>\n",
       "      <td>...</td>\n",
       "      <td>...</td>\n",
       "      <td>...</td>\n",
       "      <td>...</td>\n",
       "    </tr>\n",
       "    <tr>\n",
       "      <th>12699</th>\n",
       "      <td>12699</td>\n",
       "      <td>0.000000</td>\n",
       "      <td>0.000000</td>\n",
       "      <td>0.0</td>\n",
       "      <td>0.0</td>\n",
       "      <td>0.0</td>\n",
       "      <td>0.0</td>\n",
       "      <td>0.000000</td>\n",
       "      <td>0.000000</td>\n",
       "      <td>0.000000</td>\n",
       "      <td>...</td>\n",
       "      <td>0.430487</td>\n",
       "      <td>0.759348</td>\n",
       "      <td>0.991525</td>\n",
       "      <td>0.870099</td>\n",
       "      <td>0.588773</td>\n",
       "      <td>0.000000</td>\n",
       "      <td>0.000000</td>\n",
       "      <td>1.0</td>\n",
       "      <td>4.0</td>\n",
       "      <td>4.0</td>\n",
       "    </tr>\n",
       "    <tr>\n",
       "      <th>12700</th>\n",
       "      <td>12700</td>\n",
       "      <td>0.000000</td>\n",
       "      <td>0.000000</td>\n",
       "      <td>0.0</td>\n",
       "      <td>0.0</td>\n",
       "      <td>0.0</td>\n",
       "      <td>0.0</td>\n",
       "      <td>0.000000</td>\n",
       "      <td>0.000000</td>\n",
       "      <td>0.000000</td>\n",
       "      <td>...</td>\n",
       "      <td>0.192508</td>\n",
       "      <td>0.564814</td>\n",
       "      <td>0.973335</td>\n",
       "      <td>0.966669</td>\n",
       "      <td>0.548366</td>\n",
       "      <td>0.000000</td>\n",
       "      <td>0.000000</td>\n",
       "      <td>1.0</td>\n",
       "      <td>4.0</td>\n",
       "      <td>4.0</td>\n",
       "    </tr>\n",
       "    <tr>\n",
       "      <th>12701</th>\n",
       "      <td>12701</td>\n",
       "      <td>0.000000</td>\n",
       "      <td>0.000000</td>\n",
       "      <td>0.0</td>\n",
       "      <td>0.0</td>\n",
       "      <td>0.0</td>\n",
       "      <td>0.0</td>\n",
       "      <td>0.000000</td>\n",
       "      <td>0.000000</td>\n",
       "      <td>0.000000</td>\n",
       "      <td>...</td>\n",
       "      <td>0.571624</td>\n",
       "      <td>0.201609</td>\n",
       "      <td>0.144007</td>\n",
       "      <td>0.334674</td>\n",
       "      <td>0.000000</td>\n",
       "      <td>0.000000</td>\n",
       "      <td>0.000000</td>\n",
       "      <td>1.0</td>\n",
       "      <td>4.0</td>\n",
       "      <td>4.0</td>\n",
       "    </tr>\n",
       "    <tr>\n",
       "      <th>12702</th>\n",
       "      <td>12702</td>\n",
       "      <td>0.474252</td>\n",
       "      <td>0.256943</td>\n",
       "      <td>0.0</td>\n",
       "      <td>0.0</td>\n",
       "      <td>0.0</td>\n",
       "      <td>0.0</td>\n",
       "      <td>0.000000</td>\n",
       "      <td>0.000000</td>\n",
       "      <td>0.000000</td>\n",
       "      <td>...</td>\n",
       "      <td>0.341396</td>\n",
       "      <td>0.630530</td>\n",
       "      <td>0.810973</td>\n",
       "      <td>0.971333</td>\n",
       "      <td>1.000000</td>\n",
       "      <td>0.897192</td>\n",
       "      <td>0.743494</td>\n",
       "      <td>1.0</td>\n",
       "      <td>4.0</td>\n",
       "      <td>4.0</td>\n",
       "    </tr>\n",
       "    <tr>\n",
       "      <th>12703</th>\n",
       "      <td>12703</td>\n",
       "      <td>0.000000</td>\n",
       "      <td>0.000000</td>\n",
       "      <td>0.0</td>\n",
       "      <td>0.0</td>\n",
       "      <td>0.0</td>\n",
       "      <td>0.0</td>\n",
       "      <td>0.000000</td>\n",
       "      <td>0.000000</td>\n",
       "      <td>0.000000</td>\n",
       "      <td>...</td>\n",
       "      <td>0.341672</td>\n",
       "      <td>0.531967</td>\n",
       "      <td>0.812802</td>\n",
       "      <td>0.982816</td>\n",
       "      <td>0.000000</td>\n",
       "      <td>0.000000</td>\n",
       "      <td>0.000000</td>\n",
       "      <td>1.0</td>\n",
       "      <td>4.0</td>\n",
       "      <td>4.0</td>\n",
       "    </tr>\n",
       "  </tbody>\n",
       "</table>\n",
       "<p>12704 rows × 28 columns</p>\n",
       "</div>"
      ],
      "text/plain": [
       "          id       h00       h01  h02  h03  h04  h05       h06       h07  \\\n",
       "0          0  0.000000  0.000000  0.0  0.0  0.0  0.0  0.000000  0.000000   \n",
       "1          1  0.000000  0.000000  0.0  0.0  0.0  0.0  0.000000  0.000000   \n",
       "2          2  0.000000  0.000000  0.0  0.0  0.0  0.0  0.000000  0.000000   \n",
       "3          3  0.000000  0.000000  0.0  0.0  0.0  0.0  0.080787  0.303251   \n",
       "4          4  0.000000  0.000000  0.0  0.0  0.0  0.0  0.000000  0.060529   \n",
       "...      ...       ...       ...  ...  ...  ...  ...       ...       ...   \n",
       "12699  12699  0.000000  0.000000  0.0  0.0  0.0  0.0  0.000000  0.000000   \n",
       "12700  12700  0.000000  0.000000  0.0  0.0  0.0  0.0  0.000000  0.000000   \n",
       "12701  12701  0.000000  0.000000  0.0  0.0  0.0  0.0  0.000000  0.000000   \n",
       "12702  12702  0.474252  0.256943  0.0  0.0  0.0  0.0  0.000000  0.000000   \n",
       "12703  12703  0.000000  0.000000  0.0  0.0  0.0  0.0  0.000000  0.000000   \n",
       "\n",
       "            h08  ...       h17       h18       h19       h20       h21  \\\n",
       "0      0.000000  ...  0.347754  0.522437  0.940441  0.823425  0.000000   \n",
       "1      0.000000  ...  0.320058  0.212006  0.212006  0.212006  0.000000   \n",
       "2      0.000000  ...  0.805263  0.483633  0.000000  0.000000  0.000000   \n",
       "3      0.519247  ...  0.986970  0.917125  0.562874  0.378466  0.000000   \n",
       "4      0.172893  ...  0.878997  0.994609  0.901742  0.667729  0.387283   \n",
       "...         ...  ...       ...       ...       ...       ...       ...   \n",
       "12699  0.000000  ...  0.430487  0.759348  0.991525  0.870099  0.588773   \n",
       "12700  0.000000  ...  0.192508  0.564814  0.973335  0.966669  0.548366   \n",
       "12701  0.000000  ...  0.571624  0.201609  0.144007  0.334674  0.000000   \n",
       "12702  0.000000  ...  0.341396  0.630530  0.810973  0.971333  1.000000   \n",
       "12703  0.000000  ...  0.341672  0.531967  0.812802  0.982816  0.000000   \n",
       "\n",
       "            h22       h23  country  city  category  \n",
       "0      0.000000  0.000000      0.0   0.0       0.0  \n",
       "1      0.000000  0.000000      0.0   0.0       0.0  \n",
       "2      0.000000  0.000000      0.0   0.0       0.0  \n",
       "3      0.000000  0.000000      0.0   0.0       0.0  \n",
       "4      0.000000  0.000000      0.0   0.0       0.0  \n",
       "...         ...       ...      ...   ...       ...  \n",
       "12699  0.000000  0.000000      1.0   4.0       4.0  \n",
       "12700  0.000000  0.000000      1.0   4.0       4.0  \n",
       "12701  0.000000  0.000000      1.0   4.0       4.0  \n",
       "12702  0.897192  0.743494      1.0   4.0       4.0  \n",
       "12703  0.000000  0.000000      1.0   4.0       4.0  \n",
       "\n",
       "[12704 rows x 28 columns]"
      ]
     },
     "execution_count": 24,
     "metadata": {},
     "output_type": "execute_result"
    }
   ],
   "source": [
    "df_timeseries"
   ]
  },
  {
   "cell_type": "code",
   "execution_count": 25,
   "metadata": {},
   "outputs": [
    {
     "name": "stdout",
     "output_type": "stream",
     "text": [
      "Novo DataFrame:\n",
      "   id  h00  h01  h02  h03  h04  h05       h06       h07       h08  ...  \\\n",
      "0   0  0.0  0.0  0.0  0.0  0.0  0.0  0.000000  0.000000  0.000000  ...   \n",
      "1   1  0.0  0.0  0.0  0.0  0.0  0.0  0.000000  0.000000  0.000000  ...   \n",
      "2   2  0.0  0.0  0.0  0.0  0.0  0.0  0.000000  0.000000  0.000000  ...   \n",
      "3   3  0.0  0.0  0.0  0.0  0.0  0.0  0.080787  0.303251  0.519247  ...   \n",
      "4   4  0.0  0.0  0.0  0.0  0.0  0.0  0.000000  0.060529  0.172893  ...   \n",
      "\n",
      "        h15       h16       h17       h18       h19       h20       h21  h22  \\\n",
      "0  0.156741  0.132883  0.347754  0.522437  0.940441  0.823425  0.000000  0.0   \n",
      "1  0.396663  0.482997  0.320058  0.212006  0.212006  0.212006  0.000000  0.0   \n",
      "2  0.854669  0.991342  0.805263  0.483633  0.000000  0.000000  0.000000  0.0   \n",
      "3  0.551867  0.728864  0.986970  0.917125  0.562874  0.378466  0.000000  0.0   \n",
      "4  0.372387  0.625273  0.878997  0.994609  0.901742  0.667729  0.387283  0.0   \n",
      "\n",
      "   h23  category  \n",
      "0  0.0         0  \n",
      "1  0.0         0  \n",
      "2  0.0         0  \n",
      "3  0.0         0  \n",
      "4  0.0         0  \n",
      "\n",
      "[5 rows x 26 columns]\n"
     ]
    }
   ],
   "source": [
    "df_timeseries['country'] = df_timeseries['country'].astype(int)\n",
    "df_timeseries['city'] = df_timeseries['city'].astype(int)\n",
    "df_timeseries['category'] = df_timeseries['category'].astype(int)\n",
    "\n",
    "# Criar a nova coluna 'target' combinando 'country', 'city' e 'category' como inteiros\n",
    "df_timeseries['category'] = (\n",
    "    df_timeseries['country'].astype(str) +\n",
    "    df_timeseries['city'].astype(str) +\n",
    "    df_timeseries['category'].astype(str)\n",
    ").astype(int)  # Convertendo a string concatenada para inteiro\n",
    "\n",
    "# Excluir as colunas originais\n",
    "df_timeseries = df_timeseries.drop(columns=['country', 'city'])\n",
    "\n",
    "# Verifique o novo DataFrame\n",
    "print(\"Novo DataFrame:\")\n",
    "print(df_timeseries.head())\n",
    "\n",
    "# Se necessário, salve o novo DataFrame em um arquivo CSV\n",
    "df_timeseries.to_csv('df_timeseries_targets.csv', index=False)\n"
   ]
  },
  {
   "cell_type": "code",
   "execution_count": 26,
   "metadata": {},
   "outputs": [
    {
     "data": {
      "text/html": [
       "<div>\n",
       "<style scoped>\n",
       "    .dataframe tbody tr th:only-of-type {\n",
       "        vertical-align: middle;\n",
       "    }\n",
       "\n",
       "    .dataframe tbody tr th {\n",
       "        vertical-align: top;\n",
       "    }\n",
       "\n",
       "    .dataframe thead th {\n",
       "        text-align: right;\n",
       "    }\n",
       "</style>\n",
       "<table border=\"1\" class=\"dataframe\">\n",
       "  <thead>\n",
       "    <tr style=\"text-align: right;\">\n",
       "      <th></th>\n",
       "      <th>id</th>\n",
       "      <th>h00</th>\n",
       "      <th>h01</th>\n",
       "      <th>h02</th>\n",
       "      <th>h03</th>\n",
       "      <th>h04</th>\n",
       "      <th>h05</th>\n",
       "      <th>h06</th>\n",
       "      <th>h07</th>\n",
       "      <th>h08</th>\n",
       "      <th>...</th>\n",
       "      <th>h15</th>\n",
       "      <th>h16</th>\n",
       "      <th>h17</th>\n",
       "      <th>h18</th>\n",
       "      <th>h19</th>\n",
       "      <th>h20</th>\n",
       "      <th>h21</th>\n",
       "      <th>h22</th>\n",
       "      <th>h23</th>\n",
       "      <th>category</th>\n",
       "    </tr>\n",
       "  </thead>\n",
       "  <tbody>\n",
       "    <tr>\n",
       "      <th>0</th>\n",
       "      <td>0</td>\n",
       "      <td>0.000000</td>\n",
       "      <td>0.000000</td>\n",
       "      <td>0.0</td>\n",
       "      <td>0.0</td>\n",
       "      <td>0.0</td>\n",
       "      <td>0.0</td>\n",
       "      <td>0.000000</td>\n",
       "      <td>0.000000</td>\n",
       "      <td>0.000000</td>\n",
       "      <td>...</td>\n",
       "      <td>0.156741</td>\n",
       "      <td>0.132883</td>\n",
       "      <td>0.347754</td>\n",
       "      <td>0.522437</td>\n",
       "      <td>0.940441</td>\n",
       "      <td>0.823425</td>\n",
       "      <td>0.000000</td>\n",
       "      <td>0.000000</td>\n",
       "      <td>0.000000</td>\n",
       "      <td>0</td>\n",
       "    </tr>\n",
       "    <tr>\n",
       "      <th>1</th>\n",
       "      <td>1</td>\n",
       "      <td>0.000000</td>\n",
       "      <td>0.000000</td>\n",
       "      <td>0.0</td>\n",
       "      <td>0.0</td>\n",
       "      <td>0.0</td>\n",
       "      <td>0.0</td>\n",
       "      <td>0.000000</td>\n",
       "      <td>0.000000</td>\n",
       "      <td>0.000000</td>\n",
       "      <td>...</td>\n",
       "      <td>0.396663</td>\n",
       "      <td>0.482997</td>\n",
       "      <td>0.320058</td>\n",
       "      <td>0.212006</td>\n",
       "      <td>0.212006</td>\n",
       "      <td>0.212006</td>\n",
       "      <td>0.000000</td>\n",
       "      <td>0.000000</td>\n",
       "      <td>0.000000</td>\n",
       "      <td>0</td>\n",
       "    </tr>\n",
       "    <tr>\n",
       "      <th>2</th>\n",
       "      <td>2</td>\n",
       "      <td>0.000000</td>\n",
       "      <td>0.000000</td>\n",
       "      <td>0.0</td>\n",
       "      <td>0.0</td>\n",
       "      <td>0.0</td>\n",
       "      <td>0.0</td>\n",
       "      <td>0.000000</td>\n",
       "      <td>0.000000</td>\n",
       "      <td>0.000000</td>\n",
       "      <td>...</td>\n",
       "      <td>0.854669</td>\n",
       "      <td>0.991342</td>\n",
       "      <td>0.805263</td>\n",
       "      <td>0.483633</td>\n",
       "      <td>0.000000</td>\n",
       "      <td>0.000000</td>\n",
       "      <td>0.000000</td>\n",
       "      <td>0.000000</td>\n",
       "      <td>0.000000</td>\n",
       "      <td>0</td>\n",
       "    </tr>\n",
       "    <tr>\n",
       "      <th>3</th>\n",
       "      <td>3</td>\n",
       "      <td>0.000000</td>\n",
       "      <td>0.000000</td>\n",
       "      <td>0.0</td>\n",
       "      <td>0.0</td>\n",
       "      <td>0.0</td>\n",
       "      <td>0.0</td>\n",
       "      <td>0.080787</td>\n",
       "      <td>0.303251</td>\n",
       "      <td>0.519247</td>\n",
       "      <td>...</td>\n",
       "      <td>0.551867</td>\n",
       "      <td>0.728864</td>\n",
       "      <td>0.986970</td>\n",
       "      <td>0.917125</td>\n",
       "      <td>0.562874</td>\n",
       "      <td>0.378466</td>\n",
       "      <td>0.000000</td>\n",
       "      <td>0.000000</td>\n",
       "      <td>0.000000</td>\n",
       "      <td>0</td>\n",
       "    </tr>\n",
       "    <tr>\n",
       "      <th>4</th>\n",
       "      <td>4</td>\n",
       "      <td>0.000000</td>\n",
       "      <td>0.000000</td>\n",
       "      <td>0.0</td>\n",
       "      <td>0.0</td>\n",
       "      <td>0.0</td>\n",
       "      <td>0.0</td>\n",
       "      <td>0.000000</td>\n",
       "      <td>0.060529</td>\n",
       "      <td>0.172893</td>\n",
       "      <td>...</td>\n",
       "      <td>0.372387</td>\n",
       "      <td>0.625273</td>\n",
       "      <td>0.878997</td>\n",
       "      <td>0.994609</td>\n",
       "      <td>0.901742</td>\n",
       "      <td>0.667729</td>\n",
       "      <td>0.387283</td>\n",
       "      <td>0.000000</td>\n",
       "      <td>0.000000</td>\n",
       "      <td>0</td>\n",
       "    </tr>\n",
       "    <tr>\n",
       "      <th>...</th>\n",
       "      <td>...</td>\n",
       "      <td>...</td>\n",
       "      <td>...</td>\n",
       "      <td>...</td>\n",
       "      <td>...</td>\n",
       "      <td>...</td>\n",
       "      <td>...</td>\n",
       "      <td>...</td>\n",
       "      <td>...</td>\n",
       "      <td>...</td>\n",
       "      <td>...</td>\n",
       "      <td>...</td>\n",
       "      <td>...</td>\n",
       "      <td>...</td>\n",
       "      <td>...</td>\n",
       "      <td>...</td>\n",
       "      <td>...</td>\n",
       "      <td>...</td>\n",
       "      <td>...</td>\n",
       "      <td>...</td>\n",
       "      <td>...</td>\n",
       "    </tr>\n",
       "    <tr>\n",
       "      <th>12699</th>\n",
       "      <td>12699</td>\n",
       "      <td>0.000000</td>\n",
       "      <td>0.000000</td>\n",
       "      <td>0.0</td>\n",
       "      <td>0.0</td>\n",
       "      <td>0.0</td>\n",
       "      <td>0.0</td>\n",
       "      <td>0.000000</td>\n",
       "      <td>0.000000</td>\n",
       "      <td>0.000000</td>\n",
       "      <td>...</td>\n",
       "      <td>0.345968</td>\n",
       "      <td>0.228686</td>\n",
       "      <td>0.430487</td>\n",
       "      <td>0.759348</td>\n",
       "      <td>0.991525</td>\n",
       "      <td>0.870099</td>\n",
       "      <td>0.588773</td>\n",
       "      <td>0.000000</td>\n",
       "      <td>0.000000</td>\n",
       "      <td>144</td>\n",
       "    </tr>\n",
       "    <tr>\n",
       "      <th>12700</th>\n",
       "      <td>12700</td>\n",
       "      <td>0.000000</td>\n",
       "      <td>0.000000</td>\n",
       "      <td>0.0</td>\n",
       "      <td>0.0</td>\n",
       "      <td>0.0</td>\n",
       "      <td>0.0</td>\n",
       "      <td>0.000000</td>\n",
       "      <td>0.000000</td>\n",
       "      <td>0.000000</td>\n",
       "      <td>...</td>\n",
       "      <td>0.000000</td>\n",
       "      <td>0.000000</td>\n",
       "      <td>0.192508</td>\n",
       "      <td>0.564814</td>\n",
       "      <td>0.973335</td>\n",
       "      <td>0.966669</td>\n",
       "      <td>0.548366</td>\n",
       "      <td>0.000000</td>\n",
       "      <td>0.000000</td>\n",
       "      <td>144</td>\n",
       "    </tr>\n",
       "    <tr>\n",
       "      <th>12701</th>\n",
       "      <td>12701</td>\n",
       "      <td>0.000000</td>\n",
       "      <td>0.000000</td>\n",
       "      <td>0.0</td>\n",
       "      <td>0.0</td>\n",
       "      <td>0.0</td>\n",
       "      <td>0.0</td>\n",
       "      <td>0.000000</td>\n",
       "      <td>0.000000</td>\n",
       "      <td>0.000000</td>\n",
       "      <td>...</td>\n",
       "      <td>0.381766</td>\n",
       "      <td>0.381766</td>\n",
       "      <td>0.571624</td>\n",
       "      <td>0.201609</td>\n",
       "      <td>0.144007</td>\n",
       "      <td>0.334674</td>\n",
       "      <td>0.000000</td>\n",
       "      <td>0.000000</td>\n",
       "      <td>0.000000</td>\n",
       "      <td>144</td>\n",
       "    </tr>\n",
       "    <tr>\n",
       "      <th>12702</th>\n",
       "      <td>12702</td>\n",
       "      <td>0.474252</td>\n",
       "      <td>0.256943</td>\n",
       "      <td>0.0</td>\n",
       "      <td>0.0</td>\n",
       "      <td>0.0</td>\n",
       "      <td>0.0</td>\n",
       "      <td>0.000000</td>\n",
       "      <td>0.000000</td>\n",
       "      <td>0.000000</td>\n",
       "      <td>...</td>\n",
       "      <td>0.081856</td>\n",
       "      <td>0.174295</td>\n",
       "      <td>0.341396</td>\n",
       "      <td>0.630530</td>\n",
       "      <td>0.810973</td>\n",
       "      <td>0.971333</td>\n",
       "      <td>1.000000</td>\n",
       "      <td>0.897192</td>\n",
       "      <td>0.743494</td>\n",
       "      <td>144</td>\n",
       "    </tr>\n",
       "    <tr>\n",
       "      <th>12703</th>\n",
       "      <td>12703</td>\n",
       "      <td>0.000000</td>\n",
       "      <td>0.000000</td>\n",
       "      <td>0.0</td>\n",
       "      <td>0.0</td>\n",
       "      <td>0.0</td>\n",
       "      <td>0.0</td>\n",
       "      <td>0.000000</td>\n",
       "      <td>0.000000</td>\n",
       "      <td>0.000000</td>\n",
       "      <td>...</td>\n",
       "      <td>0.252949</td>\n",
       "      <td>0.277011</td>\n",
       "      <td>0.341672</td>\n",
       "      <td>0.531967</td>\n",
       "      <td>0.812802</td>\n",
       "      <td>0.982816</td>\n",
       "      <td>0.000000</td>\n",
       "      <td>0.000000</td>\n",
       "      <td>0.000000</td>\n",
       "      <td>144</td>\n",
       "    </tr>\n",
       "  </tbody>\n",
       "</table>\n",
       "<p>12704 rows × 26 columns</p>\n",
       "</div>"
      ],
      "text/plain": [
       "          id       h00       h01  h02  h03  h04  h05       h06       h07  \\\n",
       "0          0  0.000000  0.000000  0.0  0.0  0.0  0.0  0.000000  0.000000   \n",
       "1          1  0.000000  0.000000  0.0  0.0  0.0  0.0  0.000000  0.000000   \n",
       "2          2  0.000000  0.000000  0.0  0.0  0.0  0.0  0.000000  0.000000   \n",
       "3          3  0.000000  0.000000  0.0  0.0  0.0  0.0  0.080787  0.303251   \n",
       "4          4  0.000000  0.000000  0.0  0.0  0.0  0.0  0.000000  0.060529   \n",
       "...      ...       ...       ...  ...  ...  ...  ...       ...       ...   \n",
       "12699  12699  0.000000  0.000000  0.0  0.0  0.0  0.0  0.000000  0.000000   \n",
       "12700  12700  0.000000  0.000000  0.0  0.0  0.0  0.0  0.000000  0.000000   \n",
       "12701  12701  0.000000  0.000000  0.0  0.0  0.0  0.0  0.000000  0.000000   \n",
       "12702  12702  0.474252  0.256943  0.0  0.0  0.0  0.0  0.000000  0.000000   \n",
       "12703  12703  0.000000  0.000000  0.0  0.0  0.0  0.0  0.000000  0.000000   \n",
       "\n",
       "            h08  ...       h15       h16       h17       h18       h19  \\\n",
       "0      0.000000  ...  0.156741  0.132883  0.347754  0.522437  0.940441   \n",
       "1      0.000000  ...  0.396663  0.482997  0.320058  0.212006  0.212006   \n",
       "2      0.000000  ...  0.854669  0.991342  0.805263  0.483633  0.000000   \n",
       "3      0.519247  ...  0.551867  0.728864  0.986970  0.917125  0.562874   \n",
       "4      0.172893  ...  0.372387  0.625273  0.878997  0.994609  0.901742   \n",
       "...         ...  ...       ...       ...       ...       ...       ...   \n",
       "12699  0.000000  ...  0.345968  0.228686  0.430487  0.759348  0.991525   \n",
       "12700  0.000000  ...  0.000000  0.000000  0.192508  0.564814  0.973335   \n",
       "12701  0.000000  ...  0.381766  0.381766  0.571624  0.201609  0.144007   \n",
       "12702  0.000000  ...  0.081856  0.174295  0.341396  0.630530  0.810973   \n",
       "12703  0.000000  ...  0.252949  0.277011  0.341672  0.531967  0.812802   \n",
       "\n",
       "            h20       h21       h22       h23  category  \n",
       "0      0.823425  0.000000  0.000000  0.000000         0  \n",
       "1      0.212006  0.000000  0.000000  0.000000         0  \n",
       "2      0.000000  0.000000  0.000000  0.000000         0  \n",
       "3      0.378466  0.000000  0.000000  0.000000         0  \n",
       "4      0.667729  0.387283  0.000000  0.000000         0  \n",
       "...         ...       ...       ...       ...       ...  \n",
       "12699  0.870099  0.588773  0.000000  0.000000       144  \n",
       "12700  0.966669  0.548366  0.000000  0.000000       144  \n",
       "12701  0.334674  0.000000  0.000000  0.000000       144  \n",
       "12702  0.971333  1.000000  0.897192  0.743494       144  \n",
       "12703  0.982816  0.000000  0.000000  0.000000       144  \n",
       "\n",
       "[12704 rows x 26 columns]"
      ]
     },
     "execution_count": 26,
     "metadata": {},
     "output_type": "execute_result"
    }
   ],
   "source": [
    "df_timeseries"
   ]
  }
 ],
 "metadata": {
  "kernelspec": {
   "display_name": ".venv",
   "language": "python",
   "name": "python3"
  },
  "language_info": {
   "codemirror_mode": {
    "name": "ipython",
    "version": 3
   },
   "file_extension": ".py",
   "mimetype": "text/x-python",
   "name": "python",
   "nbconvert_exporter": "python",
   "pygments_lexer": "ipython3",
   "version": "3.9.6"
  }
 },
 "nbformat": 4,
 "nbformat_minor": 2
}
